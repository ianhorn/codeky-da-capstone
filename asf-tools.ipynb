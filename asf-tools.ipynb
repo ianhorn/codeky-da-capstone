{
 "cells": [
  {
   "cell_type": "markdown",
   "id": "a377d8e0",
   "metadata": {},
   "source": [
    "#### Water extraction"
   ]
  },
  {
   "cell_type": "code",
   "execution_count": null,
   "id": "20357562",
   "metadata": {},
   "outputs": [],
   "source": [
    "import os\n",
    "\n",
    "from hydrosar.flood_map import make_flood_map\n",
    "\n",
    "from scripts.constants import create_scenes_df\n",
    "\n"
   ]
  },
  {
   "cell_type": "code",
   "execution_count": 2,
   "id": "2c4e5ffb",
   "metadata": {},
   "outputs": [],
   "source": [
    "scene_df = create_scenes_df()"
   ]
  },
  {
   "cell_type": "markdown",
   "id": "5baab41f",
   "metadata": {},
   "source": [
    "Set up flood processing\n",
    "- variables\n",
    "- create water raster\n",
    "- create flood map"
   ]
  },
  {
   "cell_type": "code",
   "execution_count": null,
   "id": "e72bf70a",
   "metadata": {},
   "outputs": [
    {
     "name": "stdout",
     "output_type": "stream",
     "text": [
      "data/S1A_IW_20250217T233955_DVP_RTC10_G_gpufem_0598/S1A_IW_20250124T233956_DVP_RTC10_G_gdufem_8285_shape.shp\n"
     ]
    }
   ],
   "source": [
    "# make sure we have somewhere to park the processed data\n",
    "flood_processing = 'data/crisis_scene_processing'\n",
    "if not os.path.exists(flood_processing):\n",
    "    os.makedirs(flood_processing)\n",
    "\n",
    "scene_folder = os.path.join('data', scene_df['scene_folder'][1])\n",
    "dem_processing = 'data/dem_processing'\n",
    "\n",
    "# flood map variables\n",
    "flood_raster = os.path.join(scene_processing, 'flood_map.tif')\n",
    "vv_raster = os.path.join(scene_folder, scene_df['vv'][1])\n",
    "water_extent_raster = os.path.join(dem_processing, 'water_extent.tif')\n",
    "hand_raster = f'{dem_processing}/hand.tif'\n",
    "hand_clipped = os.path.join(dem_processing, 'hand_clip.tif')"
   ]
  },
  {
   "cell_type": "code",
   "execution_count": 5,
   "id": "0495f324",
   "metadata": {},
   "outputs": [
    {
     "name": "stderr",
     "output_type": "stream",
     "text": [
      "100%|██████████| 26016/26016 [14:18<00:00, 30.29it/s]  \n"
     ]
    }
   ],
   "source": [
    "# run make_flood_map function\n",
    "make_flood_map(\n",
    "    flood_raster,\n",
    "    vv_raster,\n",
    "    water_extent_raster,\n",
    "    hand_raster\n",
    ")"
   ]
  }
 ],
 "metadata": {
  "kernelspec": {
   "display_name": "venv",
   "language": "python",
   "name": "python3"
  },
  "language_info": {
   "codemirror_mode": {
    "name": "ipython",
    "version": 3
   },
   "file_extension": ".py",
   "mimetype": "text/x-python",
   "name": "python",
   "nbconvert_exporter": "python",
   "pygments_lexer": "ipython3",
   "version": "3.13.2"
  }
 },
 "nbformat": 4,
 "nbformat_minor": 5
}
