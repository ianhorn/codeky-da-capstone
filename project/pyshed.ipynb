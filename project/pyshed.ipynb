{
 "cells": [
  {
   "cell_type": "markdown",
   "id": "6df25796",
   "metadata": {},
   "source": [
    "Try conditioning with [pysheds](https://github.com/ianhorn/pysheds/blob/master/docs/dem-conditioning.md)"
   ]
  },
  {
   "cell_type": "code",
   "execution_count": 1,
   "id": "27fabcc9",
   "metadata": {},
   "outputs": [
    {
     "name": "stderr",
     "output_type": "stream",
     "text": [
      "OMP: Info #276: omp_set_nested routine deprecated, please use omp_set_max_active_levels instead.\n"
     ]
    }
   ],
   "source": [
    "import os\n",
    "import matplotlib.pyplot as plt\n",
    "import matplotlib.colors as colors\n",
    "from pysheds.grid import Grid\n",
    "import seaborn as sns"
   ]
  },
  {
   "cell_type": "code",
   "execution_count": 2,
   "id": "4dd1ff22",
   "metadata": {},
   "outputs": [
    {
     "data": {
      "text/plain": [
       "'/Users/ianhorn/Documents/CodeKy/pathways/data-analysis/codeky-da-capstone/project/data/temp_pysheds'"
      ]
     },
     "execution_count": 2,
     "metadata": {},
     "output_type": "execute_result"
    }
   ],
   "source": [
    "# set the working directory\n",
    "working_directory = 'data/temp_pysheds'\n",
    "os.chdir(working_directory)\n",
    "os.getcwd()"
   ]
  },
  {
   "cell_type": "code",
   "execution_count": 3,
   "id": "4047be81",
   "metadata": {},
   "outputs": [
    {
     "ename": "RasterioIOError",
     "evalue": "dem.tif: No such file or directory",
     "output_type": "error",
     "traceback": [
      "\u001b[31m---------------------------------------------------------------------------\u001b[39m",
      "\u001b[31mCPLE_OpenFailedError\u001b[39m                      Traceback (most recent call last)",
      "\u001b[36mFile \u001b[39m\u001b[32mrasterio/_base.pyx:310\u001b[39m, in \u001b[36mrasterio._base.DatasetBase.__init__\u001b[39m\u001b[34m()\u001b[39m\n",
      "\u001b[36mFile \u001b[39m\u001b[32mrasterio/_base.pyx:221\u001b[39m, in \u001b[36mrasterio._base.open_dataset\u001b[39m\u001b[34m()\u001b[39m\n",
      "\u001b[36mFile \u001b[39m\u001b[32mrasterio/_err.pyx:359\u001b[39m, in \u001b[36mrasterio._err.exc_wrap_pointer\u001b[39m\u001b[34m()\u001b[39m\n",
      "\u001b[31mCPLE_OpenFailedError\u001b[39m: dem.tif: No such file or directory",
      "\nDuring handling of the above exception, another exception occurred:\n",
      "\u001b[31mRasterioIOError\u001b[39m                           Traceback (most recent call last)",
      "\u001b[36mCell\u001b[39m\u001b[36m \u001b[39m\u001b[32mIn[3]\u001b[39m\u001b[32m, line 3\u001b[39m\n\u001b[32m      1\u001b[39m \u001b[38;5;66;03m# create a grid from raster\u001b[39;00m\n\u001b[32m      2\u001b[39m dem = \u001b[33m\"\u001b[39m\u001b[33mdem.tif\u001b[39m\u001b[33m\"\u001b[39m\n\u001b[32m----> \u001b[39m\u001b[32m3\u001b[39m grid = \u001b[43mGrid\u001b[49m\u001b[43m.\u001b[49m\u001b[43mfrom_raster\u001b[49m\u001b[43m(\u001b[49m\u001b[43mdem\u001b[49m\u001b[43m,\u001b[49m\u001b[43m \u001b[49m\u001b[43mnodata\u001b[49m\u001b[43m=\u001b[49m\u001b[43m-\u001b[49m\u001b[32;43m9999\u001b[39;49m\u001b[43m)\u001b[49m\n\u001b[32m      4\u001b[39m dem = grid.read_raster(dem, nodata=-\u001b[32m9999\u001b[39m)\n",
      "\u001b[36mFile \u001b[39m\u001b[32m/opt/anaconda3/envs/hydrosar/lib/python3.12/site-packages/pysheds/sgrid.py:421\u001b[39m, in \u001b[36msGrid.from_raster\u001b[39m\u001b[34m(cls, data, **kwargs)\u001b[39m\n\u001b[32m    419\u001b[39m     \u001b[38;5;28;01mreturn\u001b[39;00m newinstance\n\u001b[32m    420\u001b[39m \u001b[38;5;28;01melif\u001b[39;00m \u001b[38;5;28misinstance\u001b[39m(data, \u001b[38;5;28mstr\u001b[39m):\n\u001b[32m--> \u001b[39m\u001b[32m421\u001b[39m     data = \u001b[43mnewinstance\u001b[49m\u001b[43m.\u001b[49m\u001b[43mread_raster\u001b[49m\u001b[43m(\u001b[49m\u001b[43mdata\u001b[49m\u001b[43m,\u001b[49m\u001b[43m \u001b[49m\u001b[43m*\u001b[49m\u001b[43m*\u001b[49m\u001b[43mkwargs\u001b[49m\u001b[43m)\u001b[49m\n\u001b[32m    422\u001b[39m     newinstance.viewfinder = data.viewfinder\n\u001b[32m    423\u001b[39m     \u001b[38;5;28;01mreturn\u001b[39;00m newinstance\n",
      "\u001b[36mFile \u001b[39m\u001b[32m/opt/anaconda3/envs/hydrosar/lib/python3.12/site-packages/pysheds/sgrid.py:258\u001b[39m, in \u001b[36msGrid.read_raster\u001b[39m\u001b[34m(self, data, band, window, window_crs, metadata, mask_geometry, **kwargs)\u001b[39m\n\u001b[32m    226\u001b[39m \u001b[38;5;28;01mdef\u001b[39;00m\u001b[38;5;250m \u001b[39m\u001b[34mread_raster\u001b[39m(\u001b[38;5;28mself\u001b[39m, data, band=\u001b[32m1\u001b[39m, window=\u001b[38;5;28;01mNone\u001b[39;00m, window_crs=\u001b[38;5;28;01mNone\u001b[39;00m,\n\u001b[32m    227\u001b[39m                 metadata={}, mask_geometry=\u001b[38;5;28;01mFalse\u001b[39;00m, **kwargs):\n\u001b[32m    228\u001b[39m \u001b[38;5;250m    \u001b[39m\u001b[33;03m\"\"\"\u001b[39;00m\n\u001b[32m    229\u001b[39m \u001b[33;03m    Reads data from a raster file and returns a Raster object.\u001b[39;00m\n\u001b[32m    230\u001b[39m \n\u001b[32m   (...)\u001b[39m\u001b[32m    256\u001b[39m \u001b[33;03m        Raster object containing loaded data.\u001b[39;00m\n\u001b[32m    257\u001b[39m \u001b[33;03m    \"\"\"\u001b[39;00m\n\u001b[32m--> \u001b[39m\u001b[32m258\u001b[39m     \u001b[38;5;28;01mreturn\u001b[39;00m \u001b[43mpysheds\u001b[49m\u001b[43m.\u001b[49m\u001b[43mio\u001b[49m\u001b[43m.\u001b[49m\u001b[43mread_raster\u001b[49m\u001b[43m(\u001b[49m\u001b[43mdata\u001b[49m\u001b[43m=\u001b[49m\u001b[43mdata\u001b[49m\u001b[43m,\u001b[49m\u001b[43m \u001b[49m\u001b[43mband\u001b[49m\u001b[43m=\u001b[49m\u001b[43mband\u001b[49m\u001b[43m,\u001b[49m\u001b[43m \u001b[49m\u001b[43mwindow\u001b[49m\u001b[43m=\u001b[49m\u001b[43mwindow\u001b[49m\u001b[43m,\u001b[49m\n\u001b[32m    259\u001b[39m \u001b[43m                                  \u001b[49m\u001b[43mwindow_crs\u001b[49m\u001b[43m=\u001b[49m\u001b[43mwindow_crs\u001b[49m\u001b[43m,\u001b[49m\u001b[43m \u001b[49m\u001b[43mmetadata\u001b[49m\u001b[43m=\u001b[49m\u001b[43mmetadata\u001b[49m\u001b[43m,\u001b[49m\n\u001b[32m    260\u001b[39m \u001b[43m                                  \u001b[49m\u001b[43mmask_geometry\u001b[49m\u001b[43m=\u001b[49m\u001b[43mmask_geometry\u001b[49m\u001b[43m,\u001b[49m\u001b[43m \u001b[49m\u001b[43m*\u001b[49m\u001b[43m*\u001b[49m\u001b[43mkwargs\u001b[49m\u001b[43m)\u001b[49m\n",
      "\u001b[36mFile \u001b[39m\u001b[32m/opt/anaconda3/envs/hydrosar/lib/python3.12/site-packages/pysheds/io.py:95\u001b[39m, in \u001b[36mread_raster\u001b[39m\u001b[34m(data, band, window, window_crs, mask_geometry, nodata, metadata, **kwargs)\u001b[39m\n\u001b[32m     61\u001b[39m \u001b[38;5;250m\u001b[39m\u001b[33;03m\"\"\"\u001b[39;00m\n\u001b[32m     62\u001b[39m \u001b[33;03mReads data from a raster file and returns a Raster object.\u001b[39;00m\n\u001b[32m     63\u001b[39m \n\u001b[32m   (...)\u001b[39m\u001b[32m     92\u001b[39m \u001b[33;03m      Raster object containing loaded data.\u001b[39;00m\n\u001b[32m     93\u001b[39m \u001b[33;03m\"\"\"\u001b[39;00m\n\u001b[32m     94\u001b[39m mask = \u001b[38;5;28;01mNone\u001b[39;00m\n\u001b[32m---> \u001b[39m\u001b[32m95\u001b[39m \u001b[38;5;28;01mwith\u001b[39;00m \u001b[43mrasterio\u001b[49m\u001b[43m.\u001b[49m\u001b[43mopen\u001b[49m\u001b[43m(\u001b[49m\u001b[43mdata\u001b[49m\u001b[43m,\u001b[49m\u001b[43m \u001b[49m\u001b[43m*\u001b[49m\u001b[43m*\u001b[49m\u001b[43mkwargs\u001b[49m\u001b[43m)\u001b[49m \u001b[38;5;28;01mas\u001b[39;00m f:\n\u001b[32m     96\u001b[39m     crs = projection.to_proj(f.crs)\n\u001b[32m     97\u001b[39m     \u001b[38;5;28;01mif\u001b[39;00m window \u001b[38;5;129;01mis\u001b[39;00m \u001b[38;5;28;01mNone\u001b[39;00m:\n",
      "\u001b[36mFile \u001b[39m\u001b[32m/opt/anaconda3/envs/hydrosar/lib/python3.12/site-packages/rasterio/env.py:463\u001b[39m, in \u001b[36mensure_env_with_credentials.<locals>.wrapper\u001b[39m\u001b[34m(*args, **kwds)\u001b[39m\n\u001b[32m    460\u001b[39m     session = DummySession()\n\u001b[32m    462\u001b[39m \u001b[38;5;28;01mwith\u001b[39;00m env_ctor(session=session):\n\u001b[32m--> \u001b[39m\u001b[32m463\u001b[39m     \u001b[38;5;28;01mreturn\u001b[39;00m \u001b[43mf\u001b[49m\u001b[43m(\u001b[49m\u001b[43m*\u001b[49m\u001b[43margs\u001b[49m\u001b[43m,\u001b[49m\u001b[43m \u001b[49m\u001b[43m*\u001b[49m\u001b[43m*\u001b[49m\u001b[43mkwds\u001b[49m\u001b[43m)\u001b[49m\n",
      "\u001b[36mFile \u001b[39m\u001b[32m/opt/anaconda3/envs/hydrosar/lib/python3.12/site-packages/rasterio/__init__.py:356\u001b[39m, in \u001b[36mopen\u001b[39m\u001b[34m(fp, mode, driver, width, height, count, crs, transform, dtype, nodata, sharing, opener, **kwargs)\u001b[39m\n\u001b[32m    353\u001b[39m     path = _parse_path(raw_dataset_path)\n\u001b[32m    355\u001b[39m \u001b[38;5;28;01mif\u001b[39;00m mode == \u001b[33m\"\u001b[39m\u001b[33mr\u001b[39m\u001b[33m\"\u001b[39m:\n\u001b[32m--> \u001b[39m\u001b[32m356\u001b[39m     dataset = \u001b[43mDatasetReader\u001b[49m\u001b[43m(\u001b[49m\u001b[43mpath\u001b[49m\u001b[43m,\u001b[49m\u001b[43m \u001b[49m\u001b[43mdriver\u001b[49m\u001b[43m=\u001b[49m\u001b[43mdriver\u001b[49m\u001b[43m,\u001b[49m\u001b[43m \u001b[49m\u001b[43msharing\u001b[49m\u001b[43m=\u001b[49m\u001b[43msharing\u001b[49m\u001b[43m,\u001b[49m\u001b[43m \u001b[49m\u001b[43m*\u001b[49m\u001b[43m*\u001b[49m\u001b[43mkwargs\u001b[49m\u001b[43m)\u001b[49m\n\u001b[32m    357\u001b[39m \u001b[38;5;28;01melif\u001b[39;00m mode == \u001b[33m\"\u001b[39m\u001b[33mr+\u001b[39m\u001b[33m\"\u001b[39m:\n\u001b[32m    358\u001b[39m     dataset = get_writer_for_path(path, driver=driver)(\n\u001b[32m    359\u001b[39m         path, mode, driver=driver, sharing=sharing, **kwargs\n\u001b[32m    360\u001b[39m     )\n",
      "\u001b[36mFile \u001b[39m\u001b[32mrasterio/_base.pyx:312\u001b[39m, in \u001b[36mrasterio._base.DatasetBase.__init__\u001b[39m\u001b[34m()\u001b[39m\n",
      "\u001b[31mRasterioIOError\u001b[39m: dem.tif: No such file or directory"
     ]
    }
   ],
   "source": [
    "# create a grid from raster\n",
    "dem = \"dem.tif\"\n",
    "grid = Grid.from_raster(dem, nodata=-9999)\n",
    "dem = grid.read_raster(dem, nodata=-9999)"
   ]
  },
  {
   "cell_type": "code",
   "execution_count": null,
   "id": "e3e8a553",
   "metadata": {},
   "outputs": [],
   "source": [
    "fig, ax = plt.subplots(figsize=(8,6))\n",
    "fig.patch.set_alpha(0)\n",
    "\n",
    "plt.imshow(dem, extent=grid.extent, cmap='terrain', zorder=1)\n",
    "plt.colorbar(label='Elevation (m)')\n",
    "plt.grid(zorder=0)\n",
    "plt.title('Digital elevation map', size=14)\n",
    "plt.xlabel('Longitude')\n",
    "plt.ylabel('Latitude')\n",
    "plt.tight_layout()"
   ]
  },
  {
   "cell_type": "code",
   "execution_count": null,
   "id": "c6a12ef6",
   "metadata": {},
   "outputs": [],
   "source": [
    "pits = grid.detect_pits(dem)"
   ]
  },
  {
   "cell_type": "code",
   "execution_count": null,
   "id": "f3ad013f",
   "metadata": {},
   "outputs": [],
   "source": [
    "# Plot pits\n",
    "fig, ax = plt.subplots(figsize=(8,6))\n",
    "fig.patch.set_alpha(0)\n",
    "\n",
    "plt.imshow(pits, cmap='Greys_r', zorder=1)\n",
    "plt.title('Pits', size=14)\n",
    "plt.tight_layout()"
   ]
  },
  {
   "cell_type": "code",
   "execution_count": null,
   "id": "9235ea51",
   "metadata": {},
   "outputs": [],
   "source": [
    "pit_filled_dem =grid.fill_pits(dem)\n",
    "pits = grid.detect_pits(pit_filled_dem)\n",
    "assert not pits.any()"
   ]
  },
  {
   "cell_type": "code",
   "execution_count": null,
   "id": "d6a745e1",
   "metadata": {},
   "outputs": [],
   "source": [
    "depressions = grid.detect_depressions(pit_filled_dem)"
   ]
  },
  {
   "cell_type": "code",
   "execution_count": null,
   "id": "0a2d8df7",
   "metadata": {},
   "outputs": [],
   "source": [
    "# Plot depressions\n",
    "fig, ax = plt.subplots(figsize=(8,6))\n",
    "fig.patch.set_alpha(0)\n",
    "\n",
    "plt.imshow(depressions, cmap='Greys_r', zorder=1)\n",
    "plt.title('Depressions', size=14)\n",
    "plt.tight_layout()"
   ]
  },
  {
   "cell_type": "code",
   "execution_count": null,
   "id": "2d221e57",
   "metadata": {},
   "outputs": [],
   "source": [
    "flooded_dem = grid.fill_depressions(pit_filled_dem)\n",
    "depressions = grid.detect_depressions(flooded_dem)\n",
    "assert not depressions.any()"
   ]
  },
  {
   "cell_type": "code",
   "execution_count": null,
   "id": "e2126043",
   "metadata": {},
   "outputs": [],
   "source": [
    "flats = grid.detect_flats(flooded_dem)"
   ]
  },
  {
   "cell_type": "code",
   "execution_count": null,
   "id": "3e781233",
   "metadata": {},
   "outputs": [],
   "source": [
    "# Plot flats\n",
    "fig, ax = plt.subplots(figsize=(8,6))\n",
    "fig.patch.set_alpha(0)\n",
    "\n",
    "plt.imshow(flats, cmap='Greys_r', zorder=1)\n",
    "plt.title('Flats', size=14)\n",
    "plt.tight_layout()"
   ]
  },
  {
   "cell_type": "code",
   "execution_count": null,
   "id": "f5fa0fcf",
   "metadata": {},
   "outputs": [],
   "source": [
    "inflated_dem = grid.resolve_flats(flooded_dem)\n",
    "flats = grid.detect_flats(inflated_dem)\n",
    "assert not flats.any()"
   ]
  },
  {
   "cell_type": "code",
   "execution_count": null,
   "id": "5135bfd5",
   "metadata": {},
   "outputs": [],
   "source": [
    "import numpy as np\n",
    "\n",
    "# Detect flats again after resolve_flats()\n",
    "flats = grid.detect_flats(inflated_dem)\n",
    "\n",
    "# Print summary\n",
    "print(\"Number of flat cells:\", np.count_nonzero(flats))\n",
    "\n",
    "# Optionally visualize\n",
    "import matplotlib.pyplot as plt\n",
    "plt.imshow(flats, cmap='gray')\n",
    "plt.title(\"Remaining Flats After resolve_flats()\")\n",
    "plt.colorbar()\n",
    "plt.show()"
   ]
  },
  {
   "cell_type": "code",
   "execution_count": null,
   "id": "1a9785ab",
   "metadata": {},
   "outputs": [],
   "source": [
    "# Compute flow direction based on corrected DEM\n",
    "fdir = grid.flowdir(inflated_dem)\n",
    "\n",
    "# Compute flow accumulation based on computed flow direction\n",
    "acc = grid.accumulation(fdir)\n"
   ]
  },
  {
   "cell_type": "code",
   "execution_count": null,
   "id": "2256c169",
   "metadata": {},
   "outputs": [],
   "source": [
    "fig, ax = plt.subplots(figsize=(8,6))\n",
    "fig.patch.set_alpha(0)\n",
    "im = ax.imshow(acc, zorder=2,\n",
    "               cmap='cubehelix',\n",
    "               norm=colors.LogNorm(1, acc.max()),\n",
    "               interpolation='bilinear')\n",
    "plt.colorbar(im, ax=ax, label='Upstream Cells')\n",
    "plt.title('Flow Accumulation', size=14)\n",
    "plt.tight_layout()"
   ]
  }
 ],
 "metadata": {
  "kernelspec": {
   "display_name": "hydrosar",
   "language": "python",
   "name": "python3"
  },
  "language_info": {
   "codemirror_mode": {
    "name": "ipython",
    "version": 3
   },
   "file_extension": ".py",
   "mimetype": "text/x-python",
   "name": "python",
   "nbconvert_exporter": "python",
   "pygments_lexer": "ipython3",
   "version": "3.12.9"
  }
 },
 "nbformat": 4,
 "nbformat_minor": 5
}
