{
 "cells": [
  {
   "cell_type": "markdown",
   "metadata": {},
   "source": [
    "# [HydroSAR](https://github.com/HydroSAR/HydroSAR/tree/develop)\n",
    "\n",
    "Set up the stack with help from HydroSAR [Notebooks](https://github.com/HydroSAR/HydroSAR/tree/develop)"
   ]
  },
  {
   "cell_type": "code",
   "execution_count": 1,
   "metadata": {},
   "outputs": [],
   "source": [
    "from concurrent.futures import ThreadPoolExecutor\n",
    "import pandas as pd"
   ]
  },
  {
   "cell_type": "code",
   "execution_count": 2,
   "metadata": {},
   "outputs": [
    {
     "data": {
      "text/html": [
       "<div>\n",
       "<style scoped>\n",
       "    .dataframe tbody tr th:only-of-type {\n",
       "        vertical-align: middle;\n",
       "    }\n",
       "\n",
       "    .dataframe tbody tr th {\n",
       "        vertical-align: top;\n",
       "    }\n",
       "\n",
       "    .dataframe thead th {\n",
       "        text-align: right;\n",
       "    }\n",
       "</style>\n",
       "<table border=\"1\" class=\"dataframe\">\n",
       "  <thead>\n",
       "    <tr style=\"text-align: right;\">\n",
       "      <th></th>\n",
       "      <th>filename</th>\n",
       "      <th>link</th>\n",
       "    </tr>\n",
       "  </thead>\n",
       "  <tbody>\n",
       "    <tr>\n",
       "      <th>0</th>\n",
       "      <td>S1A_IW_20250205T233956_DVP_RTC10_G_gduned_DD97...</td>\n",
       "      <td>https://ky.box.com/shared/static/2w2x6sj97x2tr...</td>\n",
       "    </tr>\n",
       "    <tr>\n",
       "      <th>1</th>\n",
       "      <td>S1A_IW_20250217T233955_DVR_RTC10_G_gduned_0491...</td>\n",
       "      <td>https://ky.box.com/shared/static/w3zruxeczm2zp...</td>\n",
       "    </tr>\n",
       "  </tbody>\n",
       "</table>\n",
       "</div>"
      ],
      "text/plain": [
       "                                            filename  \\\n",
       "0  S1A_IW_20250205T233956_DVP_RTC10_G_gduned_DD97...   \n",
       "1  S1A_IW_20250217T233955_DVR_RTC10_G_gduned_0491...   \n",
       "\n",
       "                                                link  \n",
       "0  https://ky.box.com/shared/static/2w2x6sj97x2tr...  \n",
       "1  https://ky.box.com/shared/static/w3zruxeczm2zp...  "
      ]
     },
     "execution_count": 2,
     "metadata": {},
     "output_type": "execute_result"
    }
   ],
   "source": [
    "# Download data files from Box\n",
    "box_data = {'filename': ['S1A_IW_20250205T233956_DVP_RTC10_G_gduned_DD97.zip','S1A_IW_20250217T233955_DVR_RTC10_G_gduned_0491.zip'],\n",
    "            'link': ['https://ky.box.com/shared/static/2w2x6sj97x2trg0gv9az6k16o0v9zgbl.zip', 'https://ky.box.com/shared/static/w3zruxeczm2zpl9mepixbpp6nxszxzg1.zip']\n",
    "            }\n",
    "\n",
    "df = pd.DataFrame(data=box_data)\n",
    "df\n",
    "\n",
    "\n",
    "\n",
    "\n"
   ]
  },
  {
   "cell_type": "code",
   "execution_count": null,
   "metadata": {},
   "outputs": [],
   "source": [
    "def data_download():"
   ]
  },
  {
   "cell_type": "markdown",
   "metadata": {},
   "source": [
    "### [Subset Data Stack](https://github.com/HydroSAR/HydroSAR/blob/develop/notebooks/2-Subset_Data_Stack.ipynb)"
   ]
  },
  {
   "cell_type": "code",
   "execution_count": null,
   "metadata": {},
   "outputs": [],
   "source": []
  }
 ],
 "metadata": {
  "kernelspec": {
   "display_name": "venv",
   "language": "python",
   "name": "python3"
  },
  "language_info": {
   "codemirror_mode": {
    "name": "ipython",
    "version": 3
   },
   "file_extension": ".py",
   "mimetype": "text/x-python",
   "name": "python",
   "nbconvert_exporter": "python",
   "pygments_lexer": "ipython3",
   "version": "3.13.2"
  }
 },
 "nbformat": 4,
 "nbformat_minor": 2
}
