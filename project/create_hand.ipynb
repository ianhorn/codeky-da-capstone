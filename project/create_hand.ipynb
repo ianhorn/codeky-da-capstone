{
 "cells": [
  {
   "cell_type": "code",
   "execution_count": null,
   "id": "270839ce",
   "metadata": {},
   "outputs": [],
   "source": [
    "import os\n",
    "from concurrent.futures import ProcessPoolExecutor\n",
    "# set up Whitebox Environment, get available functions\n",
    "from whitebox_workflows import WbEnvironment\n",
    "from scripts.constants import create_scenes_df, dem_fill\n",
    "from scripts.constants import flow_direction\n",
    "import shutil\n",
    "import multiprocessing  \n",
    "from IPython.display import display\n",
    "import ipywidgets as widgets  "
   ]
  },
  {
   "cell_type": "code",
   "execution_count": 2,
   "id": "b2194628",
   "metadata": {},
   "outputs": [
    {
     "name": "stdout",
     "output_type": "stream",
     "text": [
      "Number of threads to use: 7\n"
     ]
    }
   ],
   "source": [
    "logical_cores = multiprocessing.cpu_count()\n",
    "# determine number of threads to use for multiprocessing\n",
    "num_workers = int(logical_cores * 0.75)  # rounds down in case not a whole number\n",
    "print(f'Number of threads to use: {num_workers}')\n",
    "\n",
    "wbe = WbEnvironment()\n",
    "\n",
    "scenes_df = create_scenes_df()"
   ]
  },
  {
   "cell_type": "code",
   "execution_count": 3,
   "id": "f00bf624",
   "metadata": {},
   "outputs": [
    {
     "name": "stdout",
     "output_type": "stream",
     "text": [
      "data/S1A_IW_20250205T233956_DVP_RTC10_G_gdufem_246A/S1A_IW_20250205T233956_DVP_RTC10_G_gdufem_246A_dem.tif\n",
      "data/temp_dir already exists\n"
     ]
    }
   ],
   "source": [
    "data_folder = 'data'\n",
    "input_dem = os.path.join(data_folder, scenes_df.at[0, 'scene_folder'],scenes_df.at[0, 'input_dem'])\n",
    "print(input_dem)\n",
    "\n",
    "temp_dir = 'data/temp_dir'\n",
    "\n",
    "if not os.path.exists(temp_dir):\n",
    "    os.makedirs(temp_dir)\n",
    "else:\n",
    "    print(f'{temp_dir} already exists')"
   ]
  },
  {
   "cell_type": "code",
   "execution_count": null,
   "id": "3805427d",
   "metadata": {},
   "outputs": [
    {
     "name": "stdout",
     "output_type": "stream",
     "text": [
      "data/temp_dir\n",
      "data/S1A_IW_20250205T233956_DVP_RTC10_G_gdufem_246A/S1A_IW_20250205T233956_DVP_RTC10_G_gdufem_246A_dem.tif\n"
     ]
    },
    {
     "data": {
      "text/plain": [
       "'data/temp_dir/dem_copy.tif'"
      ]
     },
     "execution_count": 4,
     "metadata": {},
     "output_type": "execute_result"
    }
   ],
   "source": [
    "wbe.verbose = True\n",
    "wbe.work_directory = temp_dir\n",
    "print(wbe.work_directory)\n",
    "\n",
    "# # copy the dem to the directory\n",
    "dem_copy = f'{temp_dir}/dem_copy.tif'\n",
    "print(input_dem)\n",
    "shutil.copyfile(input_dem, dem_copy)"
   ]
  },
  {
   "cell_type": "markdown",
   "id": "b70876e2",
   "metadata": {},
   "source": [
    "Call `dem_fill` function from *constants.py* script.  This will\n",
    " - find pits\n",
    " - fill depressions\n",
    " - find flats on flow\n",
    " - fix flats\n",
    "\n",
    "Process can take 10 minutes or so."
   ]
  },
  {
   "cell_type": "code",
   "execution_count": 5,
   "id": "9f425500",
   "metadata": {},
   "outputs": [
    {
     "name": "stdout",
     "output_type": "stream",
     "text": [
      "Filled Dem Tiff file already exists\n"
     ]
    }
   ],
   "source": [
    "# I'm setting this up to run on multiple CPUs, even though here we are only using one.  \n",
    "# The idea is that in the future, I may do this on several files\n",
    "if not os.path.exists('data/temp_dir/filled_dem.tif'): \n",
    "    with ProcessPoolExecutor(max_workers=num_workers) as executor:\n",
    "        future = executor.submit(dem_fill, dem_copy, temp_dir)\n",
    "        input_dem_raster = future.result()\n",
    "else:\n",
    "    print('Filled Dem Tiff file already exists')  "
   ]
  },
  {
   "cell_type": "markdown",
   "id": "03b3f124",
   "metadata": {},
   "source": [
    "Create a flow direction model from the Filled Dem we just created.\n",
    "Runs in seconds"
   ]
  },
  {
   "cell_type": "code",
   "execution_count": null,
   "id": "6ee3de7a",
   "metadata": {},
   "outputs": [
    {
     "name": "stdout",
     "output_type": "stream",
     "text": [
      "Working directory: data/temp_dir\n",
      "Start d8_pointer function . . . \n",
      "********************************************\n",
      "* Welcome to d8_pointer                    *\n",
      "* Powered by Whitebox Workflows for Python *\n",
      "* www.whiteboxgeo.com                      *\n",
      "********************************************\n",
      "Progress: 0%\n",
      "Progress: 1%\n",
      "Progress: 2%\n",
      "Progress: 3%\n",
      "Progress: 4%\n",
      "Progress: 5%\n",
      "Progress: 6%\n",
      "Progress: 7%\n",
      "Progress: 8%\n",
      "Progress: 9%\n",
      "Progress: 10%\n",
      "Progress: 11%\n",
      "Progress: 12%\n",
      "Progress: 13%\n",
      "Progress: 14%\n",
      "Progress: 15%\n",
      "Progress: 16%\n",
      "Progress: 17%\n",
      "Progress: 18%\n",
      "Progress: 19%\n",
      "Progress: 20%\n",
      "Progress: 21%\n",
      "Progress: 22%\n",
      "Progress: 23%\n",
      "Progress: 24%\n",
      "Progress: 25%\n",
      "Progress: 26%\n",
      "Progress: 27%\n",
      "Progress: 28%\n",
      "Progress: 29%\n",
      "Progress: 30%\n",
      "Progress: 31%\n",
      "Progress: 32%\n",
      "Progress: 33%\n",
      "Progress: 34%\n",
      "Progress: 35%\n",
      "Progress: 36%\n",
      "Progress: 37%\n",
      "Progress: 38%\n",
      "Progress: 39%\n",
      "Progress: 40%\n",
      "Progress: 41%\n",
      "Progress: 42%\n",
      "Progress: 43%\n",
      "Progress: 44%\n",
      "Progress: 45%\n",
      "Progress: 46%\n",
      "Progress: 47%\n",
      "Progress: 48%\n",
      "Progress: 49%\n",
      "Progress: 50%\n",
      "Progress: 51%\n",
      "Progress: 52%\n",
      "Progress: 53%\n",
      "Progress: 54%\n",
      "Progress: 55%\n",
      "Progress: 56%\n",
      "Progress: 57%\n",
      "Progress: 58%\n",
      "Progress: 59%\n",
      "Progress: 60%\n",
      "Progress: 61%\n",
      "Progress: 62%\n",
      "Progress: 63%\n",
      "Progress: 64%\n",
      "Progress: 65%\n",
      "Progress: 66%\n",
      "Progress: 67%\n",
      "Progress: 68%\n",
      "Progress: 69%\n",
      "Progress: 70%\n",
      "Progress: 71%\n",
      "Progress: 72%\n",
      "Progress: 73%\n",
      "Progress: 74%\n",
      "Progress: 75%\n",
      "Progress: 76%\n",
      "Progress: 77%\n",
      "Progress: 78%\n",
      "Progress: 79%\n",
      "Progress: 80%\n",
      "Progress: 81%\n",
      "Progress: 82%\n",
      "Progress: 83%\n",
      "Progress: 84%\n",
      "Progress: 85%\n",
      "Progress: 86%\n",
      "Progress: 87%\n",
      "Progress: 88%\n",
      "Progress: 89%\n",
      "Progress: 90%\n",
      "Progress: 91%\n",
      "Progress: 92%\n",
      "Progress: 93%\n",
      "Progress: 94%\n",
      "Progress: 95%\n",
      "Progress: 96%\n",
      "Progress: 97%\n",
      "Progress: 98%\n",
      "Progress: 99%\n",
      "Progress: 100%\n",
      "Elapsed Time: 3.740s\n",
      "d8_pointer function call complete\n"
     ]
    }
   ],
   "source": [
    "flow_dem = 'data/temp_dir/flow_dem.tif'\n",
    "filled_dem = os.path.join(temp_dir, 'filled_dem.tif')\n",
    "if not os.path.exists(flow_dem):\n",
    "    with ProcessPoolExecutor(max_workers=num_workers) as executor:\n",
    "        future = executor.submit(flow_direction, filled_dem, temp_dir)\n",
    "else:\n",
    "    print(f'{flow_dem} already exists.')\n",
    "\n",
    "# display RGB Composite File\n",
    "flow_tif = f'{temp_dir}/flow_dem.tif'\n",
    "file = open(flow_tif, \"rb\")\n",
    "image = file.read()\n",
    "image_widget = widgets.Image(\n",
    "    value=image,\n",
    "    format='png',\n",
    "    width=300,\n",
    "    height=400,\n",
    ")\n",
    "print('Flow direction image')\n",
    "display(image_widget)"
   ]
  }
 ],
 "metadata": {
  "kernelspec": {
   "display_name": "venv",
   "language": "python",
   "name": "python3"
  },
  "language_info": {
   "codemirror_mode": {
    "name": "ipython",
    "version": 3
   },
   "file_extension": ".py",
   "mimetype": "text/x-python",
   "name": "python",
   "nbconvert_exporter": "python",
   "pygments_lexer": "ipython3",
   "version": "3.13.2"
  }
 },
 "nbformat": 4,
 "nbformat_minor": 5
}
