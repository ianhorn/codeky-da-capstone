{
 "cells": [
  {
   "cell_type": "code",
   "execution_count": 1,
   "id": "270839ce",
   "metadata": {},
   "outputs": [],
   "source": [
    "import os\n",
    "from concurrent.futures import ProcessPoolExecutor\n",
    "# set up Whitebox Environment, get available functions\n",
    "from whitebox_workflows import WbEnvironment\n",
    "from scripts.constants import create_scenes_df, dem_fill\n",
    "import shutil\n",
    "import multiprocessing  \n",
    "from IPython.display import display"
   ]
  },
  {
   "cell_type": "code",
   "execution_count": 2,
   "id": "b2194628",
   "metadata": {},
   "outputs": [
    {
     "name": "stdout",
     "output_type": "stream",
     "text": [
      "Number of threads to use: 7\n"
     ]
    }
   ],
   "source": [
    "logical_cores = multiprocessing.cpu_count()\n",
    "# determine number of threads to use for multiprocessing\n",
    "num_workers = int(logical_cores * 0.75)  # rounds down in case not a whole number\n",
    "print(f'Number of threads to use: {num_workers}')\n",
    "\n",
    "wbe = WbEnvironment()\n",
    "\n",
    "scenes_df = create_scenes_df()"
   ]
  },
  {
   "cell_type": "code",
   "execution_count": 3,
   "id": "f00bf624",
   "metadata": {},
   "outputs": [
    {
     "name": "stdout",
     "output_type": "stream",
     "text": [
      "data/S1A_IW_20250205T233956_DVP_RTC10_G_gdufem_246A/S1A_IW_20250205T233956_DVP_RTC10_G_gdufem_246A_dem.tif\n",
      "data/temp_dir already exists\n"
     ]
    }
   ],
   "source": [
    "data_folder = 'data'\n",
    "input_dem = os.path.join(data_folder, scenes_df.at[0, 'scene_folder'],scenes_df.at[0, 'input_dem'])\n",
    "print(input_dem)\n",
    "\n",
    "temp_dir = 'data/temp_dir'\n",
    "\n",
    "if not os.path.exists(temp_dir):\n",
    "    os.makedirs(temp_dir)\n",
    "else:\n",
    "    print(f'{temp_dir} already exists')"
   ]
  },
  {
   "cell_type": "code",
   "execution_count": 4,
   "id": "3805427d",
   "metadata": {},
   "outputs": [
    {
     "name": "stdout",
     "output_type": "stream",
     "text": [
      "data/temp_dir\n",
      "data/S1A_IW_20250205T233956_DVP_RTC10_G_gdufem_246A/S1A_IW_20250205T233956_DVP_RTC10_G_gdufem_246A_dem.tif\n"
     ]
    },
    {
     "data": {
      "text/plain": [
       "'data/temp_dir/dem_copy.tif'"
      ]
     },
     "execution_count": 4,
     "metadata": {},
     "output_type": "execute_result"
    }
   ],
   "source": [
    "wbe.verbose = True\n",
    "wbe.work_directory = temp_dir\n",
    "print(wbe.work_directory)\n",
    "\n",
    "# # copy the dem to the directory\n",
    "dem_copy = f'{temp_dir}/dem_copy.tif'\n",
    "print(input_dem)\n",
    "shutil.copyfile(input_dem, dem_copy)"
   ]
  },
  {
   "cell_type": "code",
   "execution_count": null,
   "id": "9f425500",
   "metadata": {},
   "outputs": [],
   "source": [
    "# call the function to create the filled dem\n",
    "with ProcessPoolExecutor(max_workers=num_workers) as executor:\n",
    "    future = executor.submit(dem_fill, dem_copy, temp_dir)\n",
    "    input_dem_raster = future.result()    "
   ]
  },
  {
   "cell_type": "code",
   "execution_count": null,
   "id": "bada79f3",
   "metadata": {},
   "outputs": [],
   "source": [
    "# # write filled dem to file\n",
    "# filled_dem = f'{temp_dir}/filled_dem.tif'\n",
    "# wbe.write_raster(input_dem_raster, 'filled_dem.tif')"
   ]
  },
  {
   "cell_type": "code",
   "execution_count": null,
   "id": "c5462c26",
   "metadata": {},
   "outputs": [],
   "source": [
    "# def stream_network(*arg):\n",
    "    "
   ]
  }
 ],
 "metadata": {
  "kernelspec": {
   "display_name": "venv",
   "language": "python",
   "name": "python3"
  },
  "language_info": {
   "codemirror_mode": {
    "name": "ipython",
    "version": 3
   },
   "file_extension": ".py",
   "mimetype": "text/x-python",
   "name": "python",
   "nbconvert_exporter": "python",
   "pygments_lexer": "ipython3",
   "version": "3.13.2"
  }
 },
 "nbformat": 4,
 "nbformat_minor": 5
}
