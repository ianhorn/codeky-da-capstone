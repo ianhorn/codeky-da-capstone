{
 "cells": [
  {
   "cell_type": "markdown",
   "id": "a377d8e0",
   "metadata": {},
   "source": [
    "#### Water extraction"
   ]
  },
  {
   "cell_type": "code",
   "execution_count": 1,
   "id": "20357562",
   "metadata": {},
   "outputs": [],
   "source": [
    "import os\n",
    "# from hyp3_sdk import HyP3\n",
    "from asf_creds import username, password\n",
    "from hydrosar.flood_map import make_flood_map\n",
    "from hydrosar.water_map import make_water_map\n",
    "from scripts.constants import create_scenes_df\n",
    "\n",
    "# hyp3 = HyP3(username=username, password=password)"
   ]
  },
  {
   "cell_type": "code",
   "execution_count": 2,
   "id": "2c4e5ffb",
   "metadata": {},
   "outputs": [
    {
     "data": {
      "text/html": [
       "<div>\n",
       "<style scoped>\n",
       "    .dataframe tbody tr th:only-of-type {\n",
       "        vertical-align: middle;\n",
       "    }\n",
       "\n",
       "    .dataframe tbody tr th {\n",
       "        vertical-align: top;\n",
       "    }\n",
       "\n",
       "    .dataframe thead th {\n",
       "        text-align: right;\n",
       "    }\n",
       "</style>\n",
       "<table border=\"1\" class=\"dataframe\">\n",
       "  <thead>\n",
       "    <tr style=\"text-align: right;\">\n",
       "      <th></th>\n",
       "      <th>zipfile</th>\n",
       "      <th>link</th>\n",
       "      <th>scene_folder</th>\n",
       "      <th>input_dem</th>\n",
       "      <th>rgb</th>\n",
       "      <th>vv</th>\n",
       "      <th>vh</th>\n",
       "      <th>shapefile</th>\n",
       "    </tr>\n",
       "  </thead>\n",
       "  <tbody>\n",
       "    <tr>\n",
       "      <th>0</th>\n",
       "      <td>S1A_IW_20250124T233956_DVP_RTC10_G_gdufem_8285...</td>\n",
       "      <td>https://ky.box.com/shared/static/oiowba0ne7y0w...</td>\n",
       "      <td>S1A_IW_20250124T233956_DVP_RTC10_G_gdufem_8285</td>\n",
       "      <td>S1A_IW_20250124T233956_DVP_RTC10_G_gdufem_8285...</td>\n",
       "      <td>S1A_IW_20250124T233956_DVP_RTC10_G_gdufem_8285...</td>\n",
       "      <td>S1A_IW_20250124T233956_DVP_RTC10_G_gdufem_8285...</td>\n",
       "      <td>S1A_IW_20250124T233956_DVP_RTC10_G_gdufem_8285...</td>\n",
       "      <td>S1A_IW_20250124T233956_DVP_RTC10_G_gdufem_8285...</td>\n",
       "    </tr>\n",
       "    <tr>\n",
       "      <th>1</th>\n",
       "      <td>S1A_IW_20250217T233955_DVP_RTC10_G_gdufem_E701...</td>\n",
       "      <td>https://ky.box.com/shared/static/81wf3fabzhzsu...</td>\n",
       "      <td>S1A_IW_20250217T233955_DVP_RTC10_G_gdufem_E701</td>\n",
       "      <td>S1A_IW_20250217T233955_DVP_RTC10_G_gdufem_E701...</td>\n",
       "      <td>S1A_IW_20250217T233955_DVP_RTC10_G_gdufem_E701...</td>\n",
       "      <td>S1A_IW_20250217T233955_DVP_RTC10_G_gdufem_E701...</td>\n",
       "      <td>S1A_IW_20250217T233955_DVP_RTC10_G_gdufem_E701...</td>\n",
       "      <td>S1A_IW_20250217T233955_DVP_RTC10_G_gdufem_E701...</td>\n",
       "    </tr>\n",
       "    <tr>\n",
       "      <th>2</th>\n",
       "      <td>dem_processing.zip</td>\n",
       "      <td>https://ky.box.com/shared/static/rz15mqljj1m0t...</td>\n",
       "      <td>dem_processing</td>\n",
       "      <td>dem_processing_dem.tif</td>\n",
       "      <td>dem_processing_rgb.png</td>\n",
       "      <td>dem_processing_vv.tif</td>\n",
       "      <td>dem_processing_vh.tif</td>\n",
       "      <td>dem_processing_shape.shp</td>\n",
       "    </tr>\n",
       "  </tbody>\n",
       "</table>\n",
       "</div>"
      ],
      "text/plain": [
       "                                             zipfile  \\\n",
       "0  S1A_IW_20250124T233956_DVP_RTC10_G_gdufem_8285...   \n",
       "1  S1A_IW_20250217T233955_DVP_RTC10_G_gdufem_E701...   \n",
       "2                                 dem_processing.zip   \n",
       "\n",
       "                                                link  \\\n",
       "0  https://ky.box.com/shared/static/oiowba0ne7y0w...   \n",
       "1  https://ky.box.com/shared/static/81wf3fabzhzsu...   \n",
       "2  https://ky.box.com/shared/static/rz15mqljj1m0t...   \n",
       "\n",
       "                                     scene_folder  \\\n",
       "0  S1A_IW_20250124T233956_DVP_RTC10_G_gdufem_8285   \n",
       "1  S1A_IW_20250217T233955_DVP_RTC10_G_gdufem_E701   \n",
       "2                                  dem_processing   \n",
       "\n",
       "                                           input_dem  \\\n",
       "0  S1A_IW_20250124T233956_DVP_RTC10_G_gdufem_8285...   \n",
       "1  S1A_IW_20250217T233955_DVP_RTC10_G_gdufem_E701...   \n",
       "2                             dem_processing_dem.tif   \n",
       "\n",
       "                                                 rgb  \\\n",
       "0  S1A_IW_20250124T233956_DVP_RTC10_G_gdufem_8285...   \n",
       "1  S1A_IW_20250217T233955_DVP_RTC10_G_gdufem_E701...   \n",
       "2                             dem_processing_rgb.png   \n",
       "\n",
       "                                                  vv  \\\n",
       "0  S1A_IW_20250124T233956_DVP_RTC10_G_gdufem_8285...   \n",
       "1  S1A_IW_20250217T233955_DVP_RTC10_G_gdufem_E701...   \n",
       "2                              dem_processing_vv.tif   \n",
       "\n",
       "                                                  vh  \\\n",
       "0  S1A_IW_20250124T233956_DVP_RTC10_G_gdufem_8285...   \n",
       "1  S1A_IW_20250217T233955_DVP_RTC10_G_gdufem_E701...   \n",
       "2                              dem_processing_vh.tif   \n",
       "\n",
       "                                           shapefile  \n",
       "0  S1A_IW_20250124T233956_DVP_RTC10_G_gdufem_8285...  \n",
       "1  S1A_IW_20250217T233955_DVP_RTC10_G_gdufem_E701...  \n",
       "2                           dem_processing_shape.shp  "
      ]
     },
     "execution_count": 2,
     "metadata": {},
     "output_type": "execute_result"
    }
   ],
   "source": [
    "scene_df = create_scenes_df()\n",
    "scene_df"
   ]
  },
  {
   "cell_type": "markdown",
   "id": "5baab41f",
   "metadata": {},
   "source": [
    "Set up flood processing\n",
    "- variables\n",
    "- create water raster\n",
    "- create flood map"
   ]
  },
  {
   "cell_type": "code",
   "execution_count": null,
   "id": "bf6eecb6",
   "metadata": {},
   "outputs": [],
   "source": [
    "# make sure we have somewhere to park the processed data\n",
    "flood_processing = 'data/crisis_scene_processing'\n",
    "if not os.path.exists(flood_processing):\n",
    "    os.makedirs(flood_processing)\n",
    "\n",
    "# # basis scene processing\n",
    "# base_processing = 'data/base_scene_processing'\n",
    "# if not os.path.exists(base_processing):\n",
    "#     os.makedirs(base_processing)\n",
    "\n",
    "scene_folder = os.path.join('data', scene_df['scene_folder'][1])\n",
    "\n",
    "# flood map variables\n",
    "flood_raster = os.path.join(flood_processing, 'flood_map.tif')\n",
    "vv_raster = os.path.join(scene_folder, scene_df['vv'][1])\n",
    "vh_raster = os.path.join(scene_folder, scene_df['vh'][1])\n",
    "water_extent_raster = os.path.join(flood_processing, 'water_extent_raster.tif')\n",
    "hand_raster = 'data/dem_processing/hand.tif'"
   ]
  },
  {
   "cell_type": "code",
   "execution_count": 4,
   "id": "c303fb6c",
   "metadata": {},
   "outputs": [
    {
     "name": "stderr",
     "output_type": "stream",
     "text": [
      "Threshold too high! Using maximum threshold -23.0 db\n",
      "/Users/ianhorn/Documents/CodeKy/pathways/data-analysis/codeky-da-capstone/venv/lib/python3.13/site-packages/hydrosar/water_map.py:293: RuntimeWarning: invalid value encountered in log10\n",
      "  gaussian_lower_limit = np.log10(np.ma.median(array)) + 30.\n"
     ]
    },
    {
     "ename": "AssertionError",
     "evalue": "a <= b is required.",
     "output_type": "error",
     "traceback": [
      "\u001b[31m---------------------------------------------------------------------------\u001b[39m",
      "\u001b[31mAssertionError\u001b[39m                            Traceback (most recent call last)",
      "\u001b[36mCell\u001b[39m\u001b[36m \u001b[39m\u001b[32mIn[4]\u001b[39m\u001b[32m, line 2\u001b[39m\n\u001b[32m      1\u001b[39m \u001b[38;5;66;03m# make water map\u001b[39;00m\n\u001b[32m----> \u001b[39m\u001b[32m2\u001b[39m \u001b[43mmake_water_map\u001b[49m\u001b[43m(\u001b[49m\n\u001b[32m      3\u001b[39m \u001b[43m    \u001b[49m\u001b[43mwater_extent_raster\u001b[49m\u001b[43m,\u001b[49m\n\u001b[32m      4\u001b[39m \u001b[43m    \u001b[49m\u001b[43mvv_raster\u001b[49m\u001b[43m,\u001b[49m\n\u001b[32m      5\u001b[39m \u001b[43m    \u001b[49m\u001b[43mvh_raster\u001b[49m\u001b[43m,\u001b[49m\n\u001b[32m      6\u001b[39m \u001b[43m    \u001b[49m\u001b[43mhand_raster\u001b[49m\u001b[43m,\u001b[49m\n\u001b[32m      7\u001b[39m \u001b[43m    \u001b[49m\u001b[43mtile_shape\u001b[49m\u001b[43m=\u001b[49m\u001b[43m(\u001b[49m\u001b[32;43m100\u001b[39;49m\u001b[43m,\u001b[49m\u001b[43m \u001b[49m\u001b[32;43m100\u001b[39;49m\u001b[43m)\u001b[49m\u001b[43m,\u001b[49m\n\u001b[32m      8\u001b[39m \u001b[43m    \u001b[49m\u001b[43mmax_vv_threshold\u001b[49m\u001b[43m=\u001b[49m\u001b[43m-\u001b[49m\u001b[32;43m15.5\u001b[39;49m\u001b[43m,\u001b[49m\n\u001b[32m      9\u001b[39m \u001b[43m    \u001b[49m\u001b[43mmax_vh_threshold\u001b[49m\u001b[43m=\u001b[49m\u001b[43m-\u001b[49m\u001b[32;43m23.\u001b[39;49m\u001b[43m,\u001b[49m\n\u001b[32m     10\u001b[39m \u001b[43m    \u001b[49m\u001b[43mhand_threshold\u001b[49m\u001b[43m=\u001b[49m\u001b[32;43m15.\u001b[39;49m\u001b[43m,\u001b[49m\n\u001b[32m     11\u001b[39m \u001b[43m    \u001b[49m\u001b[43mhand_fraction\u001b[49m\u001b[43m=\u001b[49m\u001b[32;43m0.8\u001b[39;49m\n\u001b[32m     12\u001b[39m \u001b[43m    \u001b[49m\u001b[43m)\u001b[49m\n",
      "\u001b[36mFile \u001b[39m\u001b[32m~/Documents/CodeKy/pathways/data-analysis/codeky-da-capstone/venv/lib/python3.13/site-packages/hydrosar/water_map.py:295\u001b[39m, in \u001b[36mmake_water_map\u001b[39m\u001b[34m(out_raster, vv_raster, vh_raster, hand_raster, tile_shape, max_vv_threshold, max_vh_threshold, hand_threshold, hand_fraction, membership_threshold)\u001b[39m\n\u001b[32m    292\u001b[39m array = np.ma.masked_where(~water_map, array)\n\u001b[32m    293\u001b[39m gaussian_lower_limit = np.log10(np.ma.median(array)) + \u001b[32m30.\u001b[39m\n\u001b[32m--> \u001b[39m\u001b[32m295\u001b[39m water_map = \u001b[43mfuzzy_refinement\u001b[49m\u001b[43m(\u001b[49m\n\u001b[32m    296\u001b[39m \u001b[43m    \u001b[49m\u001b[43mwater_map\u001b[49m\u001b[43m,\u001b[49m\u001b[43m \u001b[49m\u001b[43mgaussian_array\u001b[49m\u001b[43m,\u001b[49m\u001b[43m \u001b[49m\u001b[43mhand_array\u001b[49m\u001b[43m,\u001b[49m\u001b[43m \u001b[49m\u001b[43mpixel_size\u001b[49m\u001b[43m=\u001b[49m\u001b[43mout_transform\u001b[49m\u001b[43m[\u001b[49m\u001b[32;43m1\u001b[39;49m\u001b[43m]\u001b[49m\u001b[43m,\u001b[49m\n\u001b[32m    297\u001b[39m \u001b[43m    \u001b[49m\u001b[43mgaussian_thresholds\u001b[49m\u001b[43m=\u001b[49m\u001b[43m(\u001b[49m\u001b[43mgaussian_lower_limit\u001b[49m\u001b[43m,\u001b[49m\u001b[43m \u001b[49m\u001b[43mgaussian_threshold\u001b[49m\u001b[43m)\u001b[49m\u001b[43m,\u001b[49m\u001b[43m \u001b[49m\u001b[43mmembership_threshold\u001b[49m\u001b[43m=\u001b[49m\u001b[43mmembership_threshold\u001b[49m\n\u001b[32m    298\u001b[39m \u001b[43m\u001b[49m\u001b[43m)\u001b[49m\n\u001b[32m    299\u001b[39m water_map &= ~array.mask\n\u001b[32m    301\u001b[39m write_cog(\u001b[38;5;28mstr\u001b[39m(out_raster).replace(\u001b[33m'\u001b[39m\u001b[33m.tif\u001b[39m\u001b[33m'\u001b[39m, \u001b[33mf\u001b[39m\u001b[33m'\u001b[39m\u001b[33m_\u001b[39m\u001b[38;5;132;01m{\u001b[39;00mpol\u001b[38;5;132;01m}\u001b[39;00m\u001b[33m_fuzzy.tif\u001b[39m\u001b[33m'\u001b[39m),\n\u001b[32m    302\u001b[39m           format_raster_data(water_map, padding_mask, nodata),\n\u001b[32m    303\u001b[39m           transform=out_transform, epsg_code=out_epsg, dtype=gdal.GDT_Byte, nodata_value=nodata)\n",
      "\u001b[36mFile \u001b[39m\u001b[32m~/Documents/CodeKy/pathways/data-analysis/codeky-da-capstone/venv/lib/python3.13/site-packages/hydrosar/water_map.py:157\u001b[39m, in \u001b[36mfuzzy_refinement\u001b[39m\u001b[34m(initial_map, gaussian_array, hand_array, pixel_size, gaussian_thresholds, membership_threshold)\u001b[39m\n\u001b[32m    154\u001b[39m water_segment_membership = segment_area_membership(water_segments)\n\u001b[32m    155\u001b[39m water_map &= ~np.isclose(water_segment_membership, \u001b[32m0.\u001b[39m)\n\u001b[32m--> \u001b[39m\u001b[32m157\u001b[39m gaussian_membership = \u001b[43mmin_max_membership\u001b[49m\u001b[43m(\u001b[49m\u001b[43mgaussian_array\u001b[49m\u001b[43m,\u001b[49m\u001b[43m \u001b[49m\u001b[43mgaussian_thresholds\u001b[49m\u001b[43m[\u001b[49m\u001b[32;43m0\u001b[39;49m\u001b[43m]\u001b[49m\u001b[43m,\u001b[49m\u001b[43m \u001b[49m\u001b[43mgaussian_thresholds\u001b[49m\u001b[43m[\u001b[49m\u001b[32;43m1\u001b[39;49m\u001b[43m]\u001b[49m\u001b[43m,\u001b[49m\u001b[43m \u001b[49m\u001b[32;43m0.005\u001b[39;49m\u001b[43m)\u001b[49m\n\u001b[32m    158\u001b[39m water_map &= ~np.isclose(gaussian_membership, \u001b[32m0.\u001b[39m)\n\u001b[32m    160\u001b[39m hand_lower_limit, hand_upper_limit = determine_membership_limits(hand_array)\n",
      "\u001b[36mFile \u001b[39m\u001b[32m~/Documents/CodeKy/pathways/data-analysis/codeky-da-capstone/venv/lib/python3.13/site-packages/hydrosar/water_map.py:103\u001b[39m, in \u001b[36mmin_max_membership\u001b[39m\u001b[34m(array, lower_limit, upper_limit, resolution)\u001b[39m\n\u001b[32m    101\u001b[39m \u001b[38;5;28;01mdef\u001b[39;00m\u001b[38;5;250m \u001b[39m\u001b[34mmin_max_membership\u001b[39m(array: np.ndarray, lower_limit: \u001b[38;5;28mfloat\u001b[39m, upper_limit: \u001b[38;5;28mfloat\u001b[39m, resolution: \u001b[38;5;28mfloat\u001b[39m) -> np.ndarray:\n\u001b[32m    102\u001b[39m     possible_values = np.arange(array.min(), array.max(), resolution)\n\u001b[32m--> \u001b[39m\u001b[32m103\u001b[39m     activation = \u001b[43mfuzz\u001b[49m\u001b[43m.\u001b[49m\u001b[43mzmf\u001b[49m\u001b[43m(\u001b[49m\u001b[43mpossible_values\u001b[49m\u001b[43m,\u001b[49m\u001b[43m \u001b[49m\u001b[43mlower_limit\u001b[49m\u001b[43m,\u001b[49m\u001b[43m \u001b[49m\u001b[43mupper_limit\u001b[49m\u001b[43m)\u001b[49m\n\u001b[32m    104\u001b[39m     membership = fuzz.interp_membership(possible_values, activation, array)\n\u001b[32m    105\u001b[39m     \u001b[38;5;28;01mreturn\u001b[39;00m membership\n",
      "\u001b[36mFile \u001b[39m\u001b[32m~/Documents/CodeKy/pathways/data-analysis/codeky-da-capstone/venv/lib/python3.13/site-packages/skfuzzy/membership/generatemf.py:561\u001b[39m, in \u001b[36mzmf\u001b[39m\u001b[34m(x, a, b)\u001b[39m\n\u001b[32m    539\u001b[39m \u001b[38;5;28;01mdef\u001b[39;00m\u001b[38;5;250m \u001b[39m\u001b[34mzmf\u001b[39m(x, a, b):\n\u001b[32m    540\u001b[39m \u001b[38;5;250m    \u001b[39m\u001b[33;03m\"\"\"\u001b[39;00m\n\u001b[32m    541\u001b[39m \u001b[33;03m    Z-function fuzzy membership generator.\u001b[39;00m\n\u001b[32m    542\u001b[39m \n\u001b[32m   (...)\u001b[39m\u001b[32m    559\u001b[39m \u001b[33;03m    Named such because of its Z-like shape.\u001b[39;00m\n\u001b[32m    560\u001b[39m \u001b[33;03m    \"\"\"\u001b[39;00m\n\u001b[32m--> \u001b[39m\u001b[32m561\u001b[39m     \u001b[38;5;28;01massert\u001b[39;00m a <= b, \u001b[33m'\u001b[39m\u001b[33ma <= b is required.\u001b[39m\u001b[33m'\u001b[39m\n\u001b[32m    563\u001b[39m     y = np.ones(\u001b[38;5;28mlen\u001b[39m(x))\n\u001b[32m    565\u001b[39m     idx = np.logical_and(a <= x, x < (a + b) / \u001b[32m2.\u001b[39m)\n",
      "\u001b[31mAssertionError\u001b[39m: a <= b is required."
     ]
    }
   ],
   "source": [
    "# make water map\n",
    "make_water_map(\n",
    "    water_extent_raster,\n",
    "    vv_raster,\n",
    "    vh_raster,\n",
    "    hand_raster,\n",
    "    tile_shape=(100, 100),\n",
    "    max_vv_threshold=-15.5,\n",
    "    max_vh_threshold=-23.,\n",
    "    hand_threshold=15.,\n",
    "    hand_fraction=0.8\n",
    "    )"
   ]
  },
  {
   "cell_type": "code",
   "execution_count": null,
   "id": "0495f324",
   "metadata": {},
   "outputs": [],
   "source": [
    "# run make_flood_map function\n",
    "make_flood_map(\n",
    "    out_raster=flood_raster,\n",
    "    vv_raster=vv_raster,\n",
    "    water_raster=water_extent_raster,\n",
    "    hand_raster=hand_raster\n",
    ")"
   ]
  }
 ],
 "metadata": {
  "kernelspec": {
   "display_name": "venv",
   "language": "python",
   "name": "python3"
  },
  "language_info": {
   "codemirror_mode": {
    "name": "ipython",
    "version": 3
   },
   "file_extension": ".py",
   "mimetype": "text/x-python",
   "name": "python",
   "nbconvert_exporter": "python",
   "pygments_lexer": "ipython3",
   "version": "3.13.2"
  }
 },
 "nbformat": 4,
 "nbformat_minor": 5
}
