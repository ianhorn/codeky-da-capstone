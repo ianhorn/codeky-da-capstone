{
 "cells": [
  {
   "cell_type": "code",
   "execution_count": 1,
   "id": "270839ce",
   "metadata": {},
   "outputs": [],
   "source": [
    "import os\n",
    "from concurrent.futures import ProcessPoolExecutor\n",
    "from scripts.constants import create_scenes_df, dem_fill\n",
    "from scripts.constants import flow_direction, flow_accumulation\n",
    "import multiprocessing\n",
    "from osgeo import gdal\n",
    "from whitebox_workflows import WbEnvironment"
   ]
  },
  {
   "cell_type": "code",
   "execution_count": 2,
   "id": "b2194628",
   "metadata": {},
   "outputs": [
    {
     "name": "stdout",
     "output_type": "stream",
     "text": [
      "Number of threads to use: 8\n"
     ]
    }
   ],
   "source": [
    "logical_cores = multiprocessing.cpu_count()\n",
    "# determine number of threads to use for multiprocessing\n",
    "num_workers = int(logical_cores * 0.8)  # rounds down in case not a whole number\n",
    "print(f'Number of threads to use: {num_workers}')\n",
    "\n",
    "scenes_df = create_scenes_df()"
   ]
  },
  {
   "cell_type": "code",
   "execution_count": null,
   "id": "15ddc7a7",
   "metadata": {},
   "outputs": [],
   "source": [
    "# Setup whitebox_workflows environment\n",
    "wbe = WbEnvironment()\n",
    "wbe.max_procs = num_workers\n",
    "wbe.verbose = True"
   ]
  },
  {
   "cell_type": "code",
   "execution_count": null,
   "id": "f00bf624",
   "metadata": {},
   "outputs": [
    {
     "name": "stdout",
     "output_type": "stream",
     "text": [
      "data/temp_dir already exists\n"
     ]
    }
   ],
   "source": [
    "\n",
    "data_folder = 'data'\n",
    "\n",
    "working_directory = os.getcwd()\n",
    "\n",
    "temp_dir = 'data/temp_dir'\n",
    "\n",
    "if not os.path.exists(temp_dir):\n",
    "    os.makedirs(temp_dir)\n",
    "else:\n",
    "    print(f'{temp_dir} already exists')"
   ]
  },
  {
   "cell_type": "code",
   "execution_count": 4,
   "id": "da7f9c23",
   "metadata": {},
   "outputs": [
    {
     "name": "stdout",
     "output_type": "stream",
     "text": [
      "source dem: data/S1A_IW_20250205T233956_DVP_RTC10_G_gdufem_246A/S1A_IW_20250205T233956_DVP_RTC10_G_gdufem_246A_dem.tif\n",
      "Shapefile: data/S1A_IW_20250205T233956_DVP_RTC10_G_gdufem_246A/S1A_IW_20250205T233956_DVP_RTC10_G_gdufem_246A_shape.shp\n",
      "Shape Layer: S1A_IW_20250205T233956_DVP_RTC10_G_gdufem_246A_shape\n",
      "Output file: data/temp_dir/dem_clipped.tif\n"
     ]
    }
   ],
   "source": [
    "# create variables\n",
    "input_dem = os.path.join(data_folder, scenes_df.at[0, 'scene_folder'],scenes_df.at[0, 'input_dem'])\n",
    "print(f'source dem: {input_dem}')\n",
    "\n",
    "# grab shapefile to clip the dem\n",
    "cutline_shapefile = os.path.join(data_folder, scenes_df.at[0, 'scene_folder'], scenes_df.at[0, 'shapefile'])\n",
    "# get the shapefile's layer name\n",
    "cutline_layer = os.path.splitext(os.path.basename(cutline_shapefile))[0]\n",
    "\n",
    "dem_clipped = os.path.join(temp_dir, 'dem_clipped.tif')\n",
    "print(f'Shapefile: {cutline_shapefile}\\nShape Layer: {cutline_layer}\\nOutput file: {dem_clipped}')\n",
    "\n",
    "# processing output files\n",
    "dem_pit_filled = os.path.join(temp_dir, 'pit_filled_dem.tif')\n",
    "dem_filled = os.path.join(temp_dir, 'dem_filled.tif')\n",
    "dem_flow = f'{temp_dir}/dem_flow.tif'\n",
    "dem_accum = f'{temp_dir}/dem_accum.tif'"
   ]
  },
  {
   "cell_type": "markdown",
   "id": "11a99036",
   "metadata": {},
   "source": [
    "If you inspect the DEM, which is the same in both folders, it is much larger in area converage than the scenes.  Because of this extra area, we would be processing data unnecessarily, so I'm going to geometrically clip DEM file to the scene grid.\n",
    "\n",
    "We will use the Geospatial Data Abstraction Library ([GDAL](https://gdal.org/en/stable/index.html), pronounced *\\`gee doll\\`*).\n",
    "\n",
    "The documentation is difficult to navigate.   Checkout this [cookbook](https://pcjericks.github.io/py-gdalogr-cookbook/).  "
   ]
  },
  {
   "cell_type": "code",
   "execution_count": 5,
   "id": "7d9e3393",
   "metadata": {},
   "outputs": [
    {
     "name": "stdout",
     "output_type": "stream",
     "text": [
      "File data/temp_dir/dem_clipped.tif already exists.\n"
     ]
    }
   ],
   "source": [
    "if not os.path.exists(dem_clipped):\n",
    "    gdal.Warp(\n",
    "        dem_clipped, input_dem,                     # output file, input file\n",
    "        format=\"GTiff\",                             # output format - Cloud-Optimized Geotiff\n",
    "        cutlineDSName=cutline_shapefile,            # Geometry to use for clipping\n",
    "        cutlineLayer=cutline_layer                  # using multiple cpus to perform task\n",
    "    )\n",
    "else:\n",
    "    print(f'File {dem_clipped} already exists.')"
   ]
  },
  {
   "cell_type": "markdown",
   "id": "7cec8dec",
   "metadata": {},
   "source": [
    "I get errors with python 13 and numpy when trying to read the dem image.  These next set let's me check the datatype and what is assigned to nodata."
   ]
  },
  {
   "cell_type": "code",
   "execution_count": 6,
   "id": "ea229091",
   "metadata": {},
   "outputs": [
    {
     "name": "stdout",
     "output_type": "stream",
     "text": [
      "Raster Data Type: Int16\n",
      "Raster NoData Value is None.  None is a problem, it is not a datatype\n"
     ]
    },
    {
     "name": "stderr",
     "output_type": "stream",
     "text": [
      "/Users/ianhorn/Documents/CodeKy/pathways/data-analysis/codeky-da-capstone/venv/lib/python3.13/site-packages/osgeo/gdal.py:314: FutureWarning: Neither gdal.UseExceptions() nor gdal.DontUseExceptions() has been explicitly called. In GDAL 4.0, exceptions will be enabled by default.\n",
      "  warnings.warn(\n"
     ]
    }
   ],
   "source": [
    "# open raster for reading\n",
    "dataset = gdal.Open(dem_clipped)\n",
    "band = dataset.GetRasterBand(1)\n",
    "\n",
    "# Get the raster data type\n",
    "dtype = band.DataType\n",
    "nodata_value = band.GetNoDataValue()\n",
    "\n",
    "print(f\"Raster Data Type: {gdal.GetDataTypeName(dtype)}\") \n",
    "if nodata_value is None:\n",
    "    print(f'Raster NoData Value is {nodata_value}.  None is a problem, it is not a datatype')\n",
    "else:\n",
    "    print(f'Raster NoData Value: {nodata_value}')\n",
    "\n",
    "dataset = None # close the file\n"
   ]
  },
  {
   "cell_type": "code",
   "execution_count": 7,
   "id": "73c6ce30",
   "metadata": {},
   "outputs": [],
   "source": [
    "get_dem_clipped = wbe.read_raster(dem_clipped)\n",
    "\n",
    "dem_pit_filled = wbe.fill_pits(get_dem_clipped)\n",
    "dem_pit_filled_output = f'{temp_dir}/dem_pit_filled.tif'\n",
    "\n",
    "wbe.write_raster(dem_pit_filled, dem_pit_filled_output)"
   ]
  },
  {
   "cell_type": "markdown",
   "id": "8a0659b3",
   "metadata": {},
   "source": [
    "Fill pits"
   ]
  },
  {
   "cell_type": "markdown",
   "id": "892fb184",
   "metadata": {},
   "source": []
  },
  {
   "cell_type": "markdown",
   "id": "75243c54",
   "metadata": {},
   "source": [
    "fill depressions"
   ]
  },
  {
   "cell_type": "code",
   "execution_count": 11,
   "id": "63ee6086",
   "metadata": {},
   "outputs": [
    {
     "name": "stdout",
     "output_type": "stream",
     "text": [
      "Filled Dem already exists.\n"
     ]
    }
   ],
   "source": [
    "# fill depressions\n",
    "if not os.path.exists(f'{temp_dir}/dem_filled.tif'):\n",
    "    dem_pit_filled = f'{temp_dir}/dem_pit_filled.tif'\n",
    "    fill_dem = wbe.read_raster(dem_pit_filled)\n",
    "    dem_filled_depressions = wbe.fill_depressions(fill_dem)\n",
    "    output_file = os.path.join(temp_dir, 'dem_filled.tif')\n",
    "    dem_filled_depressions = wbe.write_raster(dem_filled_depressions, output_file)\n",
    "else:\n",
    "    print('Filled Dem already exists.')\n"
   ]
  },
  {
   "cell_type": "markdown",
   "id": "03b3f124",
   "metadata": {},
   "source": [
    "#### Generate Flow direction\n",
    "Create a flow direction model from the Filled Dem we just created.\n",
    "Runs in seconds"
   ]
  },
  {
   "cell_type": "code",
   "execution_count": null,
   "id": "6ee3de7a",
   "metadata": {},
   "outputs": [
    {
     "name": "stderr",
     "output_type": "stream",
     "text": [
      "0.00s - Debugger warning: It seems that frozen modules are being used, which may\n",
      "0.00s - make the debugger miss breakpoints. Please pass -Xfrozen_modules=off\n",
      "0.00s - to python to disable frozen modules.\n",
      "0.00s - Note: Debugging will proceed. Set PYDEVD_DISABLE_FILE_VALIDATION=1 to disable this validation.\n",
      "0.00s - Debugger warning: It seems that frozen modules are being used, which may\n",
      "0.00s - make the debugger miss breakpoints. Please pass -Xfrozen_modules=off\n",
      "0.00s - to python to disable frozen modules.\n",
      "0.00s - Note: Debugging will proceed. Set PYDEVD_DISABLE_FILE_VALIDATION=1 to disable this validation.\n",
      "Traceback (most recent call last):\n",
      "  File \u001b[35m\"<string>\"\u001b[0m, line \u001b[35m1\u001b[0m, in \u001b[35m<module>\u001b[0m\n",
      "    import sys; sys.path.insert(0, r'/Users/ianhorn/Documents/CodeKy/pathways/data-analysis/codeky-da-capstone/venv/lib/python3.13/site-packages/debugpy/_vendored/pydevd'); import pydevd; pydevd.config('http_json', 'debugpy-dap'); \u001b[31mpydevd.settrace\u001b[0m\u001b[1;31m(host='127.0.0.1', port=49518, suspend=False, trace_only_current_thread=False, patch_multiprocessing=True, access_token='d04981587282f5045210bfafba67614969f325bc88558f13b15faa4ba0d64b53', client_access_token=None, __setup_holder__={'access-token': 'd04981587282f5045210bfafba67614969f325bc88558f13b15faa4ba0d64b53', 'client': '127.0.0.1', 'debug-mode': 'debugpy-dap', 'json-dap-http': True, 'multiprocess': True, 'port': 49518, 'ppid': 18139, 'preimport': '/Users/ianhorn/Documents/CodeKy/pathways/data-analysis/codeky-da-capstone/venv/lib/python3.13/site-packages;debugpy._vendored.force_pydevd', 'server': False, 'skip-notify-stdin': True})\u001b[0m; from multiprocessing.spawn import spawn_main; spawn_main(tracker_fd=83, pipe_handle=91)\n",
      "                                                                                                                                                                                                                                       \u001b[31m~~~~~~~~~~~~~~~\u001b[0m\u001b[1;31m^^^^^^^^^^^^^^^^^^^^^^^^^^^^^^^^^^^^^^^^^^^^^^^^^^^^^^^^^^^^^^^^^^^^^^^^^^^^^^^^^^^^^^^^^^^^^^^^^^^^^^^^^^^^^^^^^^^^^^^^^^^^^^^^^^^^^^^^^^^^^^^^^^^^^^^^^^^^^^^^^^^^^^^^^^^^^^^^^^^^^^^^^^^^^^^^^^^^^^^^^^^^^^^^^^^^^^^^^^^^^^^^^^^^^^^^^^^^^^^^^^^^^^^^^^^^^^^^^^^^^^^^^^^^^^^^^^^^^^^^^^^^^^^^^^^^^^^^^^^^^^^^^^^^^^^^^^^^^^^^^^^^^^^^^^^^^^^^^^^^^^^^^^^^^^^^^^^^^^^^^^^^^^^^^^^^^^^^^^^^^^^^^^^^^^^^^^^^^^^^^^^^^^^^^^^^^^^^^^^^^^^^^^^^^^^^^^^^^^^^^^^^^^^^^^^^^^^^^^^^^^^^^^^^^^^^^^^^^^^^^^^^^^^^^^^^^^^^^^^^^^^^^^^^^^^^^^^^^^^^^^^^^^^^^^^^^^^^^^^^^^^^^^^^^^^^^^^^^^^^^^^^^^^^^^^^^^^^^^^^^^^^^^^^^^^^^^^^^^^^^^^^^^^^^^^^^^^^^^^^^^^^^^^^^^^^^^^^^^^^^^\u001b[0m\n",
      "  File \u001b[35m\"/Users/ianhorn/Documents/CodeKy/pathways/data-analysis/codeky-da-capstone/venv/lib/python3.13/site-packages/debugpy/_vendored/pydevd/pydevd.py\"\u001b[0m, line \u001b[35m3013\u001b[0m, in \u001b[35msettrace\u001b[0m\n",
      "    \u001b[31m_locked_settrace\u001b[0m\u001b[1;31m(\u001b[0m\n",
      "    \u001b[31m~~~~~~~~~~~~~~~~\u001b[0m\u001b[1;31m^\u001b[0m\n",
      "        \u001b[1;31mhost,\u001b[0m\n",
      "        \u001b[1;31m^^^^^\u001b[0m\n",
      "    ...<14 lines>...\n",
      "        \u001b[1;31mnotify_stdin=notify_stdin,\u001b[0m\n",
      "        \u001b[1;31m^^^^^^^^^^^^^^^^^^^^^^^^^^\u001b[0m\n",
      "    \u001b[1;31m)\u001b[0m\n",
      "    \u001b[1;31m^\u001b[0m\n",
      "  File \u001b[35m\"/Users/ianhorn/Documents/CodeKy/pathways/data-analysis/codeky-da-capstone/venv/lib/python3.13/site-packages/debugpy/_vendored/pydevd/pydevd.py\"\u001b[0m, line \u001b[35m3122\u001b[0m, in \u001b[35m_locked_settrace\u001b[0m\n",
      "    \u001b[31mpy_db.wait_for_ready_to_run\u001b[0m\u001b[1;31m()\u001b[0m\n",
      "    \u001b[31m~~~~~~~~~~~~~~~~~~~~~~~~~~~\u001b[0m\u001b[1;31m^^\u001b[0m\n",
      "  File \u001b[35m\"/Users/ianhorn/Documents/CodeKy/pathways/data-analysis/codeky-da-capstone/venv/lib/python3.13/site-packages/debugpy/_vendored/pydevd/pydevd.py\"\u001b[0m, line \u001b[35m897\u001b[0m, in \u001b[35mwait_for_ready_to_run\u001b[0m\n",
      "    \u001b[31mself._py_db_command_thread_event.wait\u001b[0m\u001b[1;31m(TIMEOUT_FAST)\u001b[0m\n",
      "    \u001b[31m~~~~~~~~~~~~~~~~~~~~~~~~~~~~~~~~~~~~~\u001b[0m\u001b[1;31m^^^^^^^^^^^^^^\u001b[0m\n",
      "  File \u001b[35m\"/opt/homebrew/Cellar/python@3.13/3.13.2/Frameworks/Python.framework/Versions/3.13/lib/python3.13/threading.py\"\u001b[0m, line \u001b[35m659\u001b[0m, in \u001b[35mwait\u001b[0m\n",
      "    signaled = self._cond.wait(timeout)\n",
      "  File \u001b[35m\"/opt/homebrew/Cellar/python@3.13/3.13.2/Frameworks/Python.framework/Versions/3.13/lib/python3.13/threading.py\"\u001b[0m, line \u001b[35m363\u001b[0m, in \u001b[35mwait\u001b[0m\n",
      "    gotit = waiter.acquire(True, timeout)\n",
      "\u001b[1;35mKeyboardInterrupt\u001b[0m\n"
     ]
    },
    {
     "ename": "KeyboardInterrupt",
     "evalue": "",
     "output_type": "error",
     "traceback": [
      "\u001b[31m---------------------------------------------------------------------------\u001b[39m",
      "\u001b[31mKeyboardInterrupt\u001b[39m                         Traceback (most recent call last)",
      "\u001b[36mCell\u001b[39m\u001b[36m \u001b[39m\u001b[32mIn[12]\u001b[39m\u001b[32m, line 4\u001b[39m\n\u001b[32m      1\u001b[39m dem_fill = \u001b[33mf\u001b[39m\u001b[33m'\u001b[39m\u001b[38;5;132;01m{\u001b[39;00mtemp_dir\u001b[38;5;132;01m}\u001b[39;00m\u001b[33m/dem_fill.tif\u001b[39m\u001b[33m'\u001b[39m\n\u001b[32m      3\u001b[39m \u001b[38;5;28;01mif\u001b[39;00m \u001b[38;5;129;01mnot\u001b[39;00m os.path.exists(\u001b[33mf\u001b[39m\u001b[33m'\u001b[39m\u001b[38;5;132;01m{\u001b[39;00mtemp_dir\u001b[38;5;132;01m}\u001b[39;00m\u001b[33m/dem_flow.tif\u001b[39m\u001b[33m'\u001b[39m):\n\u001b[32m----> \u001b[39m\u001b[32m4\u001b[39m \u001b[43m    \u001b[49m\u001b[38;5;28;43;01mwith\u001b[39;49;00m\u001b[43m \u001b[49m\u001b[43mProcessPoolExecutor\u001b[49m\u001b[43m(\u001b[49m\u001b[43mmax_workers\u001b[49m\u001b[43m=\u001b[49m\u001b[43mnum_workers\u001b[49m\u001b[43m)\u001b[49m\u001b[43m \u001b[49m\u001b[38;5;28;43;01mas\u001b[39;49;00m\u001b[43m \u001b[49m\u001b[43mexecutor\u001b[49m\u001b[43m:\u001b[49m\n\u001b[32m      5\u001b[39m \u001b[43m        \u001b[49m\u001b[43mfuture\u001b[49m\u001b[43m \u001b[49m\u001b[43m=\u001b[49m\u001b[43m \u001b[49m\u001b[43mexecutor\u001b[49m\u001b[43m.\u001b[49m\u001b[43msubmit\u001b[49m\u001b[43m(\u001b[49m\u001b[43mflow_direction\u001b[49m\u001b[43m,\u001b[49m\u001b[43m \u001b[49m\u001b[43mdem_fill\u001b[49m\u001b[43m,\u001b[49m\u001b[43m \u001b[49m\u001b[43mtemp_dir\u001b[49m\u001b[43m)\u001b[49m\n\u001b[32m      6\u001b[39m \u001b[38;5;28;01melse\u001b[39;00m:\n",
      "\u001b[36mFile \u001b[39m\u001b[32m/opt/homebrew/Cellar/python@3.13/3.13.2/Frameworks/Python.framework/Versions/3.13/lib/python3.13/concurrent/futures/_base.py:647\u001b[39m, in \u001b[36mExecutor.__exit__\u001b[39m\u001b[34m(self, exc_type, exc_val, exc_tb)\u001b[39m\n\u001b[32m    646\u001b[39m \u001b[38;5;28;01mdef\u001b[39;00m\u001b[38;5;250m \u001b[39m\u001b[34m__exit__\u001b[39m(\u001b[38;5;28mself\u001b[39m, exc_type, exc_val, exc_tb):\n\u001b[32m--> \u001b[39m\u001b[32m647\u001b[39m     \u001b[38;5;28;43mself\u001b[39;49m\u001b[43m.\u001b[49m\u001b[43mshutdown\u001b[49m\u001b[43m(\u001b[49m\u001b[43mwait\u001b[49m\u001b[43m=\u001b[49m\u001b[38;5;28;43;01mTrue\u001b[39;49;00m\u001b[43m)\u001b[49m\n\u001b[32m    648\u001b[39m     \u001b[38;5;28;01mreturn\u001b[39;00m \u001b[38;5;28;01mFalse\u001b[39;00m\n",
      "\u001b[36mFile \u001b[39m\u001b[32m/opt/homebrew/Cellar/python@3.13/3.13.2/Frameworks/Python.framework/Versions/3.13/lib/python3.13/concurrent/futures/process.py:846\u001b[39m, in \u001b[36mProcessPoolExecutor.shutdown\u001b[39m\u001b[34m(self, wait, cancel_futures)\u001b[39m\n\u001b[32m    843\u001b[39m         \u001b[38;5;28mself\u001b[39m._executor_manager_thread_wakeup.wakeup()\n\u001b[32m    845\u001b[39m \u001b[38;5;28;01mif\u001b[39;00m \u001b[38;5;28mself\u001b[39m._executor_manager_thread \u001b[38;5;129;01mis\u001b[39;00m \u001b[38;5;129;01mnot\u001b[39;00m \u001b[38;5;28;01mNone\u001b[39;00m \u001b[38;5;129;01mand\u001b[39;00m wait:\n\u001b[32m--> \u001b[39m\u001b[32m846\u001b[39m     \u001b[38;5;28;43mself\u001b[39;49m\u001b[43m.\u001b[49m\u001b[43m_executor_manager_thread\u001b[49m\u001b[43m.\u001b[49m\u001b[43mjoin\u001b[49m\u001b[43m(\u001b[49m\u001b[43m)\u001b[49m\n\u001b[32m    847\u001b[39m \u001b[38;5;66;03m# To reduce the risk of opening too many files, remove references to\u001b[39;00m\n\u001b[32m    848\u001b[39m \u001b[38;5;66;03m# objects that use file descriptors.\u001b[39;00m\n\u001b[32m    849\u001b[39m \u001b[38;5;28mself\u001b[39m._executor_manager_thread = \u001b[38;5;28;01mNone\u001b[39;00m\n",
      "\u001b[36mFile \u001b[39m\u001b[32m/opt/homebrew/Cellar/python@3.13/3.13.2/Frameworks/Python.framework/Versions/3.13/lib/python3.13/threading.py:1092\u001b[39m, in \u001b[36mThread.join\u001b[39m\u001b[34m(self, timeout)\u001b[39m\n\u001b[32m   1089\u001b[39m \u001b[38;5;28;01mif\u001b[39;00m timeout \u001b[38;5;129;01mis\u001b[39;00m \u001b[38;5;129;01mnot\u001b[39;00m \u001b[38;5;28;01mNone\u001b[39;00m:\n\u001b[32m   1090\u001b[39m     timeout = \u001b[38;5;28mmax\u001b[39m(timeout, \u001b[32m0\u001b[39m)\n\u001b[32m-> \u001b[39m\u001b[32m1092\u001b[39m \u001b[38;5;28;43mself\u001b[39;49m\u001b[43m.\u001b[49m\u001b[43m_handle\u001b[49m\u001b[43m.\u001b[49m\u001b[43mjoin\u001b[49m\u001b[43m(\u001b[49m\u001b[43mtimeout\u001b[49m\u001b[43m)\u001b[49m\n",
      "\u001b[31mKeyboardInterrupt\u001b[39m: "
     ]
    }
   ],
   "source": [
    "dem_fill = f'{temp_dir}/dem_fill.tif'\n",
    "\n",
    "if not os.path.exists(f'{temp_dir}/dem_flow.tif'):\n",
    "    flow_direction(dem_fill, temp_dir)\n",
    "\n",
    "else:\n",
    "    print(f'flow_direction already exists.')"
   ]
  },
  {
   "cell_type": "markdown",
   "id": "07d53e90",
   "metadata": {},
   "source": [
    "#### Generate Flow Accumulation"
   ]
  },
  {
   "cell_type": "code",
   "execution_count": null,
   "id": "02884552",
   "metadata": {},
   "outputs": [],
   "source": [
    "dem_flow = 'f{temp_dir}/dem_flow.tif'\n",
    "\n",
    "if not os.path.exists('data/temp_dir/dem_accum.tif'):\n",
    "    with ProcessPoolExecutor(max_workers=num_workers) as executor:\n",
    "        future = executor.submit(flow_accumulation, dem_flow, temp_dir)\n",
    "else:\n",
    "    print('Flow accumulation file already exists.')\n"
   ]
  }
 ],
 "metadata": {
  "kernelspec": {
   "display_name": "venv",
   "language": "python",
   "name": "python3"
  },
  "language_info": {
   "codemirror_mode": {
    "name": "ipython",
    "version": 3
   },
   "file_extension": ".py",
   "mimetype": "text/x-python",
   "name": "python",
   "nbconvert_exporter": "python",
   "pygments_lexer": "ipython3",
   "version": "3.13.2"
  }
 },
 "nbformat": 4,
 "nbformat_minor": 5
}
