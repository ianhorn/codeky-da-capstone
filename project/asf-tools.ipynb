{
 "cells": [
  {
   "cell_type": "markdown",
   "id": "a377d8e0",
   "metadata": {},
   "source": [
    "#### Water extraction"
   ]
  },
  {
   "cell_type": "code",
   "execution_count": null,
   "id": "20357562",
   "metadata": {},
   "outputs": [],
   "source": [
    "import os\n",
    "\n",
    "# from hyp3_sdk import HyP3\n",
    "# from asf_creds import username, password\n",
    "# from hydrosar.flood_map import make_flood_map\n",
    "from hydrosar.water_map import make_water_map\n",
    "from scripts.constants import create_scenes_df\n",
    "from osgeo import gdal\n",
    "# import asf_tools as asf\n",
    "# hyp3 = HyP3(username=username, password=password)"
   ]
  },
  {
   "cell_type": "code",
   "execution_count": 2,
   "id": "2c4e5ffb",
   "metadata": {},
   "outputs": [
    {
     "data": {
      "text/html": [
       "<div>\n",
       "<style scoped>\n",
       "    .dataframe tbody tr th:only-of-type {\n",
       "        vertical-align: middle;\n",
       "    }\n",
       "\n",
       "    .dataframe tbody tr th {\n",
       "        vertical-align: top;\n",
       "    }\n",
       "\n",
       "    .dataframe thead th {\n",
       "        text-align: right;\n",
       "    }\n",
       "</style>\n",
       "<table border=\"1\" class=\"dataframe\">\n",
       "  <thead>\n",
       "    <tr style=\"text-align: right;\">\n",
       "      <th></th>\n",
       "      <th>zipfile</th>\n",
       "      <th>link</th>\n",
       "      <th>scene_folder</th>\n",
       "      <th>input_dem</th>\n",
       "      <th>rgb</th>\n",
       "      <th>vv</th>\n",
       "      <th>vh</th>\n",
       "      <th>shapefile</th>\n",
       "    </tr>\n",
       "  </thead>\n",
       "  <tbody>\n",
       "    <tr>\n",
       "      <th>0</th>\n",
       "      <td>S1A_IW_20250124T233956_DVP_RTC10_G_gdufem_8285...</td>\n",
       "      <td>https://ky.box.com/shared/static/oiowba0ne7y0w...</td>\n",
       "      <td>S1A_IW_20250124T233956_DVP_RTC10_G_gdufem_8285</td>\n",
       "      <td>S1A_IW_20250124T233956_DVP_RTC10_G_gdufem_8285...</td>\n",
       "      <td>S1A_IW_20250124T233956_DVP_RTC10_G_gdufem_8285...</td>\n",
       "      <td>S1A_IW_20250124T233956_DVP_RTC10_G_gdufem_8285...</td>\n",
       "      <td>S1A_IW_20250124T233956_DVP_RTC10_G_gdufem_8285...</td>\n",
       "      <td>S1A_IW_20250124T233956_DVP_RTC10_G_gdufem_8285...</td>\n",
       "    </tr>\n",
       "    <tr>\n",
       "      <th>1</th>\n",
       "      <td>S1A_IW_20250217T233955_DVP_RTC10_G_gdufem_E701...</td>\n",
       "      <td>https://ky.box.com/shared/static/81wf3fabzhzsu...</td>\n",
       "      <td>S1A_IW_20250217T233955_DVP_RTC10_G_gdufem_E701</td>\n",
       "      <td>S1A_IW_20250217T233955_DVP_RTC10_G_gdufem_E701...</td>\n",
       "      <td>S1A_IW_20250217T233955_DVP_RTC10_G_gdufem_E701...</td>\n",
       "      <td>S1A_IW_20250217T233955_DVP_RTC10_G_gdufem_E701...</td>\n",
       "      <td>S1A_IW_20250217T233955_DVP_RTC10_G_gdufem_E701...</td>\n",
       "      <td>S1A_IW_20250217T233955_DVP_RTC10_G_gdufem_E701...</td>\n",
       "    </tr>\n",
       "    <tr>\n",
       "      <th>2</th>\n",
       "      <td>dem_processing.zip</td>\n",
       "      <td>https://ky.box.com/shared/static/rz15mqljj1m0t...</td>\n",
       "      <td>dem_processing</td>\n",
       "      <td>dem_processing_dem.tif</td>\n",
       "      <td>dem_processing_rgb.png</td>\n",
       "      <td>dem_processing_vv.tif</td>\n",
       "      <td>dem_processing_vh.tif</td>\n",
       "      <td>dem_processing_shape.shp</td>\n",
       "    </tr>\n",
       "  </tbody>\n",
       "</table>\n",
       "</div>"
      ],
      "text/plain": [
       "                                             zipfile  \\\n",
       "0  S1A_IW_20250124T233956_DVP_RTC10_G_gdufem_8285...   \n",
       "1  S1A_IW_20250217T233955_DVP_RTC10_G_gdufem_E701...   \n",
       "2                                 dem_processing.zip   \n",
       "\n",
       "                                                link  \\\n",
       "0  https://ky.box.com/shared/static/oiowba0ne7y0w...   \n",
       "1  https://ky.box.com/shared/static/81wf3fabzhzsu...   \n",
       "2  https://ky.box.com/shared/static/rz15mqljj1m0t...   \n",
       "\n",
       "                                     scene_folder  \\\n",
       "0  S1A_IW_20250124T233956_DVP_RTC10_G_gdufem_8285   \n",
       "1  S1A_IW_20250217T233955_DVP_RTC10_G_gdufem_E701   \n",
       "2                                  dem_processing   \n",
       "\n",
       "                                           input_dem  \\\n",
       "0  S1A_IW_20250124T233956_DVP_RTC10_G_gdufem_8285...   \n",
       "1  S1A_IW_20250217T233955_DVP_RTC10_G_gdufem_E701...   \n",
       "2                             dem_processing_dem.tif   \n",
       "\n",
       "                                                 rgb  \\\n",
       "0  S1A_IW_20250124T233956_DVP_RTC10_G_gdufem_8285...   \n",
       "1  S1A_IW_20250217T233955_DVP_RTC10_G_gdufem_E701...   \n",
       "2                             dem_processing_rgb.png   \n",
       "\n",
       "                                                  vv  \\\n",
       "0  S1A_IW_20250124T233956_DVP_RTC10_G_gdufem_8285...   \n",
       "1  S1A_IW_20250217T233955_DVP_RTC10_G_gdufem_E701...   \n",
       "2                              dem_processing_vv.tif   \n",
       "\n",
       "                                                  vh  \\\n",
       "0  S1A_IW_20250124T233956_DVP_RTC10_G_gdufem_8285...   \n",
       "1  S1A_IW_20250217T233955_DVP_RTC10_G_gdufem_E701...   \n",
       "2                              dem_processing_vh.tif   \n",
       "\n",
       "                                           shapefile  \n",
       "0  S1A_IW_20250124T233956_DVP_RTC10_G_gdufem_8285...  \n",
       "1  S1A_IW_20250217T233955_DVP_RTC10_G_gdufem_E701...  \n",
       "2                           dem_processing_shape.shp  "
      ]
     },
     "execution_count": 2,
     "metadata": {},
     "output_type": "execute_result"
    }
   ],
   "source": [
    "scene_df = create_scenes_df()\n",
    "scene_df"
   ]
  },
  {
   "cell_type": "markdown",
   "id": "5baab41f",
   "metadata": {},
   "source": [
    "Set up flood processing\n",
    "- variables\n",
    "- create water raster\n",
    "- create flood map"
   ]
  },
  {
   "cell_type": "code",
   "execution_count": 3,
   "id": "e72bf70a",
   "metadata": {},
   "outputs": [
    {
     "name": "stdout",
     "output_type": "stream",
     "text": [
      "data/S1A_IW_20250217T233955_DVP_RTC10_G_gdufem_E701/S1A_IW_20250124T233956_DVP_RTC10_G_gdufem_8285_shape.shp\n"
     ]
    }
   ],
   "source": [
    "# make sure we have somewhere to park the processed data\n",
    "flood_processing = 'data/crisis_scene_processing'\n",
    "if not os.path.exists(flood_processing):\n",
    "    os.makedirs(flood_processing)\n",
    "\n",
    "# # basis scene processing\n",
    "# base_processing = 'data/base_scene_processing'\n",
    "# if not os.path.exists(base_processing):\n",
    "#     os.makedirs(base_processing)\n",
    "\n",
    "scene_folder = os.path.join('data', scene_df['scene_folder'][1])\n",
    "dem_processing = 'data/dem_processing'\n",
    "\n",
    "# flood map variables\n",
    "flood_raster = os.path.join(flood_processing, 'flood_map.tif')\n",
    "vv_raster = os.path.join(scene_folder, scene_df['vv'][1])\n",
    "vh_raster = os.path.join(scene_folder, scene_df['vh'][1])\n",
    "water_extent_raster = os.path.join(flood_processing, 'water_extent_raster.tif')\n",
    "hand_raster = f'{dem_processing}/hand.tif'\n",
    "clip_geometry = os.path.join(scene_folder, scene_df['shapefile'][0])\n",
    "print(clip_geometry)\n",
    "hand_clipped = os.path.join(dem_processing, 'hand_clipped.tif')"
   ]
  },
  {
   "cell_type": "markdown",
   "id": "7e02998c",
   "metadata": {},
   "source": [
    "#### Clip Hand to SAR Image/Geometry\n",
    "\n",
    "The functions to create a water map require that the hand and scene have the same projection and extent.  We need to clip the HAND to the scene extent."
   ]
  },
  {
   "cell_type": "code",
   "execution_count": 5,
   "id": "c303fb6c",
   "metadata": {},
   "outputs": [
    {
     "ename": "NameError",
     "evalue": "name 'make_water_map' is not defined",
     "output_type": "error",
     "traceback": [
      "\u001b[31m---------------------------------------------------------------------------\u001b[39m",
      "\u001b[31mNameError\u001b[39m                                 Traceback (most recent call last)",
      "\u001b[36mCell\u001b[39m\u001b[36m \u001b[39m\u001b[32mIn[5]\u001b[39m\u001b[32m, line 2\u001b[39m\n\u001b[32m      1\u001b[39m \u001b[38;5;66;03m# make water map\u001b[39;00m\n\u001b[32m----> \u001b[39m\u001b[32m2\u001b[39m \u001b[43mmake_water_map\u001b[49m(\n\u001b[32m      3\u001b[39m     water_extent_raster,\n\u001b[32m      4\u001b[39m     vv_raster,\n\u001b[32m      5\u001b[39m     vh_raster,\n\u001b[32m      6\u001b[39m     hand_clipped,\n\u001b[32m      7\u001b[39m     \u001b[38;5;66;03m# tile_shape=(100, 100),\u001b[39;00m\n\u001b[32m      8\u001b[39m     \u001b[38;5;66;03m# max_vv_threshold=-15.5,\u001b[39;00m\n\u001b[32m      9\u001b[39m     \u001b[38;5;66;03m# max_vh_threshold=-23.,\u001b[39;00m\n\u001b[32m     10\u001b[39m     \u001b[38;5;66;03m# hand_threshold=15.,\u001b[39;00m\n\u001b[32m     11\u001b[39m     hand_fraction=\u001b[32m0.8\u001b[39m\n\u001b[32m     12\u001b[39m     )\n",
      "\u001b[31mNameError\u001b[39m: name 'make_water_map' is not defined"
     ]
    }
   ],
   "source": [
    "# make water map\n",
    "make_water_map(\n",
    "    water_extent_raster,\n",
    "    vv_raster,\n",
    "    vh_raster,\n",
    "    hand_clipped,\n",
    "    # tile_shape=(100, 100),\n",
    "    # max_vv_threshold=-15.5,\n",
    "    # max_vh_threshold=-23.,\n",
    "    # hand_threshold=15.,\n",
    "    hand_fraction=0.8\n",
    "    )"
   ]
  },
  {
   "cell_type": "code",
   "execution_count": null,
   "id": "0495f324",
   "metadata": {},
   "outputs": [],
   "source": [
    "# run make_flood_map function\n",
    "make_flood_map(\n",
    "    out_raster=flood_raster,\n",
    "    vv_raster=vv_raster,\n",
    "    water_raster=water_extent_raster,\n",
    "    hand_raster=hand_raster\n",
    ")"
   ]
  }
 ],
 "metadata": {
  "kernelspec": {
   "display_name": "venv",
   "language": "python",
   "name": "python3"
  },
  "language_info": {
   "codemirror_mode": {
    "name": "ipython",
    "version": 3
   },
   "file_extension": ".py",
   "mimetype": "text/x-python",
   "name": "python",
   "nbconvert_exporter": "python",
   "pygments_lexer": "ipython3",
   "version": "3.13.2"
  }
 },
 "nbformat": 4,
 "nbformat_minor": 5
}
