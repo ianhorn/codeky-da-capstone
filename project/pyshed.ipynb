{
 "cells": [
  {
   "cell_type": "markdown",
   "id": "6df25796",
   "metadata": {},
   "source": [
    "Try conditioning with [pysheds](https://github.com/ianhorn/pysheds/blob/master/docs/dem-conditioning.md)"
   ]
  },
  {
   "cell_type": "code",
   "execution_count": 10,
   "id": "27fabcc9",
   "metadata": {},
   "outputs": [
    {
     "data": {
      "text/plain": [
       "'/Users/ianhorn/Documents/CodeKy/pathways/data-analysis/codeky-da-capstone/project/data/temp_pysheds'"
      ]
     },
     "execution_count": 10,
     "metadata": {},
     "output_type": "execute_result"
    }
   ],
   "source": [
    "import os\n",
    "from scripts.constants import create_scenes_df\n",
    "import matplotlib.pyplot as plt\n",
    "import matplotlib.colors as colors\n",
    "from pysheds.grid import Grid\n",
    "\n",
    "# set the working directory\n",
    "working_directory = 'data/temp_pysheds'\n",
    "os.chdir(working_directory)\n",
    "os.getcwd()"
   ]
  },
  {
   "cell_type": "code",
   "execution_count": 11,
   "id": "57a6e0a1",
   "metadata": {},
   "outputs": [
    {
     "data": {
      "text/html": [
       "<div>\n",
       "<style scoped>\n",
       "    .dataframe tbody tr th:only-of-type {\n",
       "        vertical-align: middle;\n",
       "    }\n",
       "\n",
       "    .dataframe tbody tr th {\n",
       "        vertical-align: top;\n",
       "    }\n",
       "\n",
       "    .dataframe thead th {\n",
       "        text-align: right;\n",
       "    }\n",
       "</style>\n",
       "<table border=\"1\" class=\"dataframe\">\n",
       "  <thead>\n",
       "    <tr style=\"text-align: right;\">\n",
       "      <th></th>\n",
       "      <th>zipfile</th>\n",
       "      <th>link</th>\n",
       "      <th>scene_folder</th>\n",
       "      <th>input_dem</th>\n",
       "      <th>rgb</th>\n",
       "      <th>vv</th>\n",
       "      <th>vh</th>\n",
       "      <th>shapefile</th>\n",
       "    </tr>\n",
       "  </thead>\n",
       "  <tbody>\n",
       "    <tr>\n",
       "      <th>0</th>\n",
       "      <td>S1A_IW_20250205T233956_DVP_RTC10_G_gdufem_246A...</td>\n",
       "      <td>https://ky.box.com/shared/static/xwhzpb6entefd...</td>\n",
       "      <td>S1A_IW_20250205T233956_DVP_RTC10_G_gdufem_246A</td>\n",
       "      <td>S1A_IW_20250205T233956_DVP_RTC10_G_gdufem_246A...</td>\n",
       "      <td>S1A_IW_20250205T233956_DVP_RTC10_G_gdufem_246A...</td>\n",
       "      <td>S1A_IW_20250205T233956_DVP_RTC10_G_gdufem_246A...</td>\n",
       "      <td>S1A_IW_20250205T233956_DVP_RTC10_G_gdufem_246A...</td>\n",
       "      <td>S1A_IW_20250205T233956_DVP_RTC10_G_gdufem_246A...</td>\n",
       "    </tr>\n",
       "    <tr>\n",
       "      <th>1</th>\n",
       "      <td>S1A_IW_20250217T233955_DVP_RTC10_G_gdufem_E701...</td>\n",
       "      <td>https://ky.box.com/shared/static/81wf3fabzhzsu...</td>\n",
       "      <td>S1A_IW_20250217T233955_DVP_RTC10_G_gdufem_E701</td>\n",
       "      <td>S1A_IW_20250217T233955_DVP_RTC10_G_gdufem_E701...</td>\n",
       "      <td>S1A_IW_20250217T233955_DVP_RTC10_G_gdufem_E701...</td>\n",
       "      <td>S1A_IW_20250217T233955_DVP_RTC10_G_gdufem_E701...</td>\n",
       "      <td>S1A_IW_20250217T233955_DVP_RTC10_G_gdufem_E701...</td>\n",
       "      <td>S1A_IW_20250217T233955_DVP_RTC10_G_gdufem_E701...</td>\n",
       "    </tr>\n",
       "  </tbody>\n",
       "</table>\n",
       "</div>"
      ],
      "text/plain": [
       "                                             zipfile  ...                                          shapefile\n",
       "0  S1A_IW_20250205T233956_DVP_RTC10_G_gdufem_246A...  ...  S1A_IW_20250205T233956_DVP_RTC10_G_gdufem_246A...\n",
       "1  S1A_IW_20250217T233955_DVP_RTC10_G_gdufem_E701...  ...  S1A_IW_20250217T233955_DVP_RTC10_G_gdufem_E701...\n",
       "\n",
       "[2 rows x 8 columns]"
      ]
     },
     "execution_count": 11,
     "metadata": {},
     "output_type": "execute_result"
    }
   ],
   "source": [
    "# bring in the scene data\n",
    "scenes_df = create_scenes_df()\n",
    "scenes_df"
   ]
  },
  {
   "cell_type": "code",
   "execution_count": null,
   "id": "4047be81",
   "metadata": {},
   "outputs": [],
   "source": []
  }
 ],
 "metadata": {
  "kernelspec": {
   "display_name": "venv",
   "language": "python",
   "name": "python3"
  },
  "language_info": {
   "codemirror_mode": {
    "name": "ipython",
    "version": 3
   },
   "file_extension": ".py",
   "mimetype": "text/x-python",
   "name": "python",
   "nbconvert_exporter": "python",
   "pygments_lexer": "ipython3",
   "version": "3.13.2"
  }
 },
 "nbformat": 4,
 "nbformat_minor": 5
}
