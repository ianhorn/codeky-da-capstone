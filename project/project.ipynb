{
 "cells": [
  {
   "cell_type": "markdown",
   "metadata": {},
   "source": [
    "# Extracting Flooding Areas from NRT Sentinel-1 Satellite Imagery"
   ]
  },
  {
   "cell_type": "code",
   "execution_count": 1,
   "metadata": {},
   "outputs": [],
   "source": [
    "from scripts.constants import create_scenes_df\n",
    "import pandas as pd                 \n",
    "import os\n",
    "import dataretrieval.nwis as nwis  \n",
    "import matplotlib.pyplot as plt\n",
    "import subprocess                                                   # for multithreading\n",
    "import multiprocessing                                              #  \"     \"      \"\n",
    "from concurrent.futures import ThreadPoolExecutor\n",
    "from ipyleaflet import Map, basemaps, basemap_to_tiles \n",
    "from ipyleaflet import GeoData, LayersControl, ImageOverlay\n",
    "import geopandas as gpd                                             # read geospatial data\n",
    "import ipywidgets as widgets                                        # interactive display"
   ]
  },
  {
   "cell_type": "code",
   "execution_count": 2,
   "metadata": {},
   "outputs": [
    {
     "name": "stdout",
     "output_type": "stream",
     "text": [
      "Number of threads to use: 8\n"
     ]
    }
   ],
   "source": [
    "# Set up a working environment\n",
    "\n",
    "# get number of cores to use for Threadpool Execture\n",
    "logical_cores = multiprocessing.cpu_count()\n",
    "num_workers = int(logical_cores * 0.8)  # rounds down in case not a whole number\n",
    "\n",
    "print(f'Number of threads to use: {num_workers}')"
   ]
  },
  {
   "cell_type": "markdown",
   "metadata": {},
   "source": [
    "## Review the water data\n",
    "\n",
    "Use the [USGS Water Services Instantaneous API](https://waterservices.usgs.gov/test-tools/?service=iv&siteType=&statTypeCd=all&major-filters=sites&format=json&date-type=type-none&statReportType=daily&statYearType=calendar&missingData=off&siteStatus=all&siteNameMatchOperator=start) to retreive data for a USGS Gage in Frankfort, Kentucky. \n",
    "\n",
    "Dataretrieval Python Documentation:\n",
    "    [https://doi-usgs.github.io/dataretrieval-python/index.html](https://doi-usgs.github.io/dataretrieval-python/index.html)  \n",
    "    I will used the dataretrievel.nwis.get_iv"
   ]
  },
  {
   "cell_type": "code",
   "execution_count": 3,
   "metadata": {},
   "outputs": [],
   "source": [
    "# set up variables for the instantaneous values (iv)\n",
    "# query ~60 days of data\n",
    "sites= '03287500'                      # site number for USGS Gage in Frankfort\n",
    "start = '2025-01-15'                   # filter for the range of start date\n",
    "end = '2025-03-15'                     # and end data\n",
    "parameterCd = [\"00060\", \"00065\"]       # parameter codes for gage discharge in cubic feet/second\n",
    "                                       # and height in feet                                       "
   ]
  },
  {
   "cell_type": "code",
   "execution_count": 4,
   "metadata": {},
   "outputs": [
    {
     "name": "stdout",
     "output_type": "stream",
     "text": [
      "Index(['site_no', '00060', '00060_cd', '00065', '00065_cd'], dtype='object')\n"
     ]
    },
    {
     "data": {
      "text/html": [
       "<div>\n",
       "<style scoped>\n",
       "    .dataframe tbody tr th:only-of-type {\n",
       "        vertical-align: middle;\n",
       "    }\n",
       "\n",
       "    .dataframe tbody tr th {\n",
       "        vertical-align: top;\n",
       "    }\n",
       "\n",
       "    .dataframe thead th {\n",
       "        text-align: right;\n",
       "    }\n",
       "</style>\n",
       "<table border=\"1\" class=\"dataframe\">\n",
       "  <thead>\n",
       "    <tr style=\"text-align: right;\">\n",
       "      <th></th>\n",
       "      <th>site_no</th>\n",
       "      <th>00060</th>\n",
       "      <th>00060_cd</th>\n",
       "      <th>00065</th>\n",
       "      <th>00065_cd</th>\n",
       "    </tr>\n",
       "    <tr>\n",
       "      <th>datetime</th>\n",
       "      <th></th>\n",
       "      <th></th>\n",
       "      <th></th>\n",
       "      <th></th>\n",
       "      <th></th>\n",
       "    </tr>\n",
       "  </thead>\n",
       "  <tbody>\n",
       "    <tr>\n",
       "      <th>2025-01-15 05:00:00+00:00</th>\n",
       "      <td>03287500</td>\n",
       "      <td>7490.0</td>\n",
       "      <td>P</td>\n",
       "      <td>9.17</td>\n",
       "      <td>P</td>\n",
       "    </tr>\n",
       "    <tr>\n",
       "      <th>2025-01-15 05:15:00+00:00</th>\n",
       "      <td>03287500</td>\n",
       "      <td>7490.0</td>\n",
       "      <td>P</td>\n",
       "      <td>9.17</td>\n",
       "      <td>P</td>\n",
       "    </tr>\n",
       "  </tbody>\n",
       "</table>\n",
       "</div>"
      ],
      "text/plain": [
       "                            site_no   00060 00060_cd  00065 00065_cd\n",
       "datetime                                                            \n",
       "2025-01-15 05:00:00+00:00  03287500  7490.0        P   9.17        P\n",
       "2025-01-15 05:15:00+00:00  03287500  7490.0        P   9.17        P"
      ]
     },
     "execution_count": 4,
     "metadata": {},
     "output_type": "execute_result"
    }
   ],
   "source": [
    "# create a metalink link and datafram\n",
    "water_df, water_md = nwis.get_iv(\n",
    "    sites=sites,\n",
    "    start=start,\n",
    "    end=end,\n",
    "    parameterCd=parameterCd,\n",
    "    multi_index=True,\n",
    ")\n",
    "print(water_df.columns)\n",
    "water_df.head(2)"
   ]
  },
  {
   "cell_type": "markdown",
   "metadata": {},
   "source": [
    "#### Datframe cleaning\n",
    "- drop columns\n",
    "- rename columns\n",
    "- reset index\n",
    "- convert datatime to date"
   ]
  },
  {
   "cell_type": "code",
   "execution_count": 5,
   "metadata": {},
   "outputs": [],
   "source": [
    "def clean_water_df(df):\n",
    "    # Drop site_no and columns that end in cd\n",
    "    cols_to_drop = ['site_no','00060_cd', '00065_cd']\n",
    "    df = df.drop(columns=cols_to_drop, axis=1)\n",
    "\n",
    "    # rename columns\n",
    "    cols_to_rename = {'00060': 'discharge (cubic feet)', '00065': 'stream height (feet)'}\n",
    "    df = df.rename(columns=cols_to_rename)\n",
    "\n",
    "    # reset index so we can use datetime\n",
    "    df = df.reset_index()           \n",
    "    df['date'] = pd.to_datetime(df['datetime'], errors='coerce').dt.date\n",
    "    df\n",
    "\n",
    "    new_df = df.iloc[:, [3, 2, 1]]\n",
    "    new_df\n",
    "\n",
    "    return new_df"
   ]
  },
  {
   "cell_type": "code",
   "execution_count": 6,
   "metadata": {},
   "outputs": [
    {
     "name": "stdout",
     "output_type": "stream",
     "text": [
      "Index(['date', 'stream height (feet)', 'discharge (cubic feet)'], dtype='object')\n"
     ]
    },
    {
     "data": {
      "text/html": [
       "<div>\n",
       "<style scoped>\n",
       "    .dataframe tbody tr th:only-of-type {\n",
       "        vertical-align: middle;\n",
       "    }\n",
       "\n",
       "    .dataframe tbody tr th {\n",
       "        vertical-align: top;\n",
       "    }\n",
       "\n",
       "    .dataframe thead th {\n",
       "        text-align: right;\n",
       "    }\n",
       "</style>\n",
       "<table border=\"1\" class=\"dataframe\">\n",
       "  <thead>\n",
       "    <tr style=\"text-align: right;\">\n",
       "      <th></th>\n",
       "      <th>date</th>\n",
       "      <th>stream height (feet)</th>\n",
       "      <th>discharge (cubic feet)</th>\n",
       "    </tr>\n",
       "  </thead>\n",
       "  <tbody>\n",
       "    <tr>\n",
       "      <th>5754</th>\n",
       "      <td>2025-03-16</td>\n",
       "      <td>11.26</td>\n",
       "      <td>18000.0</td>\n",
       "    </tr>\n",
       "    <tr>\n",
       "      <th>5755</th>\n",
       "      <td>2025-03-16</td>\n",
       "      <td>11.29</td>\n",
       "      <td>18200.0</td>\n",
       "    </tr>\n",
       "  </tbody>\n",
       "</table>\n",
       "</div>"
      ],
      "text/plain": [
       "            date  stream height (feet)  discharge (cubic feet)\n",
       "5754  2025-03-16                 11.26                 18000.0\n",
       "5755  2025-03-16                 11.29                 18200.0"
      ]
     },
     "execution_count": 6,
     "metadata": {},
     "output_type": "execute_result"
    }
   ],
   "source": [
    "# call function to clean\n",
    "clean_water_df = clean_water_df(water_df)\n",
    "print(clean_water_df.columns)\n",
    "clean_water_df.tail(2)"
   ]
  },
  {
   "cell_type": "code",
   "execution_count": 7,
   "metadata": {},
   "outputs": [
    {
     "name": "stdout",
     "output_type": "stream",
     "text": [
      "['date', 'stream height (feet)', 'discharge (cubic feet)']\n",
      "\n",
      "date                       object\n",
      "stream height (feet)      float64\n",
      "discharge (cubic feet)    float64\n",
      "dtype: object\n"
     ]
    },
    {
     "data": {
      "text/html": [
       "<div>\n",
       "<style scoped>\n",
       "    .dataframe tbody tr th:only-of-type {\n",
       "        vertical-align: middle;\n",
       "    }\n",
       "\n",
       "    .dataframe tbody tr th {\n",
       "        vertical-align: top;\n",
       "    }\n",
       "\n",
       "    .dataframe thead th {\n",
       "        text-align: right;\n",
       "    }\n",
       "</style>\n",
       "<table border=\"1\" class=\"dataframe\">\n",
       "  <thead>\n",
       "    <tr style=\"text-align: right;\">\n",
       "      <th></th>\n",
       "      <th>date</th>\n",
       "      <th>stream height (feet)</th>\n",
       "      <th>discharge (cubic feet)</th>\n",
       "    </tr>\n",
       "  </thead>\n",
       "  <tbody>\n",
       "    <tr>\n",
       "      <th>0</th>\n",
       "      <td>2025-01-15</td>\n",
       "      <td>9.17</td>\n",
       "      <td>7490.0</td>\n",
       "    </tr>\n",
       "  </tbody>\n",
       "</table>\n",
       "</div>"
      ],
      "text/plain": [
       "         date  stream height (feet)  discharge (cubic feet)\n",
       "0  2025-01-15                  9.17                  7490.0"
      ]
     },
     "execution_count": 7,
     "metadata": {},
     "output_type": "execute_result"
    }
   ],
   "source": [
    "print(list(clean_water_df.columns))         # print list of fields\n",
    "print(f'\\n{clean_water_df.dtypes}')         # check dtype\n",
    "clean_water_df.head(1)                      # See actual data"
   ]
  },
  {
   "cell_type": "markdown",
   "metadata": {},
   "source": [
    "#### Group the data by date and return max value for stream height and discharge for that day. "
   ]
  },
  {
   "cell_type": "code",
   "execution_count": 8,
   "metadata": {},
   "outputs": [
    {
     "name": "stdout",
     "output_type": "stream",
     "text": [
      "The new dataframe has 3 columns\n",
      "and 61 rows.\n"
     ]
    },
    {
     "data": {
      "text/html": [
       "<div>\n",
       "<style scoped>\n",
       "    .dataframe tbody tr th:only-of-type {\n",
       "        vertical-align: middle;\n",
       "    }\n",
       "\n",
       "    .dataframe tbody tr th {\n",
       "        vertical-align: top;\n",
       "    }\n",
       "\n",
       "    .dataframe thead th {\n",
       "        text-align: right;\n",
       "    }\n",
       "</style>\n",
       "<table border=\"1\" class=\"dataframe\">\n",
       "  <thead>\n",
       "    <tr style=\"text-align: right;\">\n",
       "      <th></th>\n",
       "      <th>date</th>\n",
       "      <th>stream height (feet)</th>\n",
       "      <th>discharge (cubic feet)</th>\n",
       "    </tr>\n",
       "  </thead>\n",
       "  <tbody>\n",
       "    <tr>\n",
       "      <th>0</th>\n",
       "      <td>2025-01-15</td>\n",
       "      <td>9.17</td>\n",
       "      <td>7490.0</td>\n",
       "    </tr>\n",
       "    <tr>\n",
       "      <th>1</th>\n",
       "      <td>2025-01-16</td>\n",
       "      <td>9.09</td>\n",
       "      <td>7180.0</td>\n",
       "    </tr>\n",
       "    <tr>\n",
       "      <th>2</th>\n",
       "      <td>2025-01-17</td>\n",
       "      <td>8.92</td>\n",
       "      <td>6540.0</td>\n",
       "    </tr>\n",
       "  </tbody>\n",
       "</table>\n",
       "</div>"
      ],
      "text/plain": [
       "         date  stream height (feet)  discharge (cubic feet)\n",
       "0  2025-01-15                  9.17                  7490.0\n",
       "1  2025-01-16                  9.09                  7180.0\n",
       "2  2025-01-17                  8.92                  6540.0"
      ]
     },
     "execution_count": 8,
     "metadata": {},
     "output_type": "execute_result"
    }
   ],
   "source": [
    "clean_water_df_groupby = clean_water_df.groupby('date', as_index=False).agg({\n",
    "    'stream height (feet)': 'max',\n",
    "    'discharge (cubic feet)': 'max'\n",
    "})\n",
    "print(f'The new dataframe has {clean_water_df_groupby.shape[1]} columns\\nand {clean_water_df_groupby.shape[0]} rows.')\n",
    "clean_water_df_groupby.head(3)"
   ]
  },
  {
   "cell_type": "markdown",
   "metadata": {},
   "source": [
    "#### Plot the data"
   ]
  },
  {
   "cell_type": "code",
   "execution_count": 9,
   "metadata": {},
   "outputs": [
    {
     "data": {
      "image/png": "[encoded data removed]",
      "text/plain": [
       "<Figure size 600x800 with 2 Axes>"
      ]
     },
     "metadata": {},
     "output_type": "display_data"
    }
   ],
   "source": [
    "gage_data = clean_water_df_groupby\n",
    "\n",
    "# have the plot read date as datetime, otherwise it looks messy\n",
    "gage_data['date'] = pd.to_datetime(gage_data['date'])\n",
    "\n",
    "# set x and y values\n",
    "x = gage_data['date']\n",
    "y1 = gage_data['stream height (feet)']\n",
    "y2 = gage_data['discharge (cubic feet)']\n",
    "\n",
    "fig,ax = plt.subplots(figsize=(6,8))\n",
    "\n",
    "ax.plot(x, y1, color = 'b', label='Stream Height (feet)')\n",
    "ax2 = ax.twinx()\n",
    "ax2.plot(x,y2, color='r', label='Discharge (cubic feet)')\n",
    "ax.set_xlabel('Date')\n",
    "ax.set_title('Stream Height & Discharge Over Time')\n",
    "\n",
    "# Add legends\n",
    "ax.legend(loc='upper left')  \n",
    "ax2.legend(loc='upper right')\n",
    "\n",
    "# rotate the x-axis labels to fit more\n",
    "ax.tick_params(axis='x', rotation=45)  \n",
    "\n",
    "ax.grid(True)\n",
    "\n",
    "# plot\n",
    "fig.tight_layout()\n",
    "plt.show()"
   ]
  },
  {
   "cell_type": "markdown",
   "metadata": {},
   "source": [
    "## Download Imagery\n",
    "\n",
    "1. Create a function that downloads two scenes and processing elevation data.\n",
    "2. Create a function that setups up a dataframe\n",
    "3. Create dataframe and download data"
   ]
  },
  {
   "cell_type": "code",
   "execution_count": 10,
   "metadata": {},
   "outputs": [],
   "source": [
    "def box_download(df):\n",
    "    out_folder = \"data\"\n",
    "    download_zip = os.path.join(out_folder, 'file.zip')\n",
    "    for index, row in df.iterrows():\n",
    "        link = row['link']\n",
    "        unzipped_folder = row['scene_folder']\n",
    "        unzip_path = os.path.join(out_folder, unzipped_folder)\n",
    "\n",
    "        cmd = f\"curl -L -o {download_zip} {link} && unzip {download_zip} -d {out_folder}\"\n",
    "        \n",
    "        if not os.path.exists(unzip_path):\n",
    "            subprocess.run(cmd, shell=True, check=True)\n",
    "            # delete downloaded zip file.\n",
    "            os.remove(download_zip)\n",
    "        else:\n",
    "            print(f'Extracted Files already exist for \"{unzipped_folder}\"')"
   ]
  },
  {
   "cell_type": "code",
   "execution_count": 11,
   "metadata": {},
   "outputs": [],
   "source": [
    "def create_scenes_df():\n",
    "    \n",
    "    \"\"\"\n",
    "       SAR Data:\n",
    "        These files were obtained using the ASF Vertex Data Search.\n",
    "        They were submitted for Radio Terrain Correctiom.\n",
    "        radiometry: gamma0\n",
    "        scale: decibel\n",
    "        pixel spacing: 10m\n",
    "       \n",
    "        Digital Elevation Model processing:\n",
    "         The dem processing folder contains the DEM used for radio-\n",
    "         terrain correction and derivative produces used to create \n",
    "         a HAND and water mask.\n",
    "    \"\"\"\n",
    "\n",
    "    box_data = {\n",
    "        'zipfile': ['S1A_IW_20250205T233956_DVP_RTC10_G_gdufem_246A.zip',\n",
    "                    'S1A_IW_20250217T233955_DVP_RTC10_G_gdufem_E701.zip',\n",
    "                    'dem_processing.zip'],\n",
    "        'link': ['https://ky.box.com/shared/static/xwhzpb6entefdhsi8jfhgii1f4ehh6x6.zip', \n",
    "                'https://ky.box.com/shared/static/81wf3fabzhzsux29nhe4ojdaq0qtwp89.zip',\n",
    "                'https://ky.box.com/shared/static/rz15mqljj1m0tcejhu647haey6sfrfkf.zip']\n",
    "            }\n",
    "    scenes_df = pd.DataFrame(data=box_data)\n",
    "\n",
    "    # calculate some fields\n",
    "    scenes_df['scene_folder'] = scenes_df['zipfile'].apply(lambda x: os.path.splitext(x)[0])\n",
    "    if not scenes_df['scene_folder'].eq('dem_processing.zip').any():\n",
    "        scenes_df['input_dem'] = scenes_df['scene_folder'] + '_dem.tif'\n",
    "        scenes_df['rgb'] = scenes_df['scene_folder'] +  '_rgb.png'\n",
    "        scenes_df['vv'] = scenes_df['scene_folder'] + '_vv.tif'\n",
    "        scenes_df['vh'] = scenes_df['scene_folder'] + '_vh.tif'\n",
    "        scenes_df['shapefile'] = scenes_df['scene_folder'] + '_shape.shp'\n",
    "    else:\n",
    "        print(\"dem processing is not a scene\")\n",
    "    return scenes_df"
   ]
  },
  {
   "cell_type": "code",
   "execution_count": 12,
   "metadata": {},
   "outputs": [
    {
     "data": {
      "text/html": [
       "<div>\n",
       "<style scoped>\n",
       "    .dataframe tbody tr th:only-of-type {\n",
       "        vertical-align: middle;\n",
       "    }\n",
       "\n",
       "    .dataframe tbody tr th {\n",
       "        vertical-align: top;\n",
       "    }\n",
       "\n",
       "    .dataframe thead th {\n",
       "        text-align: right;\n",
       "    }\n",
       "</style>\n",
       "<table border=\"1\" class=\"dataframe\">\n",
       "  <thead>\n",
       "    <tr style=\"text-align: right;\">\n",
       "      <th></th>\n",
       "      <th>zipfile</th>\n",
       "      <th>link</th>\n",
       "      <th>scene_folder</th>\n",
       "      <th>input_dem</th>\n",
       "      <th>rgb</th>\n",
       "      <th>vv</th>\n",
       "      <th>vh</th>\n",
       "      <th>shapefile</th>\n",
       "    </tr>\n",
       "  </thead>\n",
       "  <tbody>\n",
       "    <tr>\n",
       "      <th>0</th>\n",
       "      <td>S1A_IW_20250205T233956_DVP_RTC10_G_gdufem_246A...</td>\n",
       "      <td>https://ky.box.com/shared/static/xwhzpb6entefd...</td>\n",
       "      <td>S1A_IW_20250205T233956_DVP_RTC10_G_gdufem_246A</td>\n",
       "      <td>S1A_IW_20250205T233956_DVP_RTC10_G_gdufem_246A...</td>\n",
       "      <td>S1A_IW_20250205T233956_DVP_RTC10_G_gdufem_246A...</td>\n",
       "      <td>S1A_IW_20250205T233956_DVP_RTC10_G_gdufem_246A...</td>\n",
       "      <td>S1A_IW_20250205T233956_DVP_RTC10_G_gdufem_246A...</td>\n",
       "      <td>S1A_IW_20250205T233956_DVP_RTC10_G_gdufem_246A...</td>\n",
       "    </tr>\n",
       "    <tr>\n",
       "      <th>1</th>\n",
       "      <td>S1A_IW_20250217T233955_DVP_RTC10_G_gdufem_E701...</td>\n",
       "      <td>https://ky.box.com/shared/static/81wf3fabzhzsu...</td>\n",
       "      <td>S1A_IW_20250217T233955_DVP_RTC10_G_gdufem_E701</td>\n",
       "      <td>S1A_IW_20250217T233955_DVP_RTC10_G_gdufem_E701...</td>\n",
       "      <td>S1A_IW_20250217T233955_DVP_RTC10_G_gdufem_E701...</td>\n",
       "      <td>S1A_IW_20250217T233955_DVP_RTC10_G_gdufem_E701...</td>\n",
       "      <td>S1A_IW_20250217T233955_DVP_RTC10_G_gdufem_E701...</td>\n",
       "      <td>S1A_IW_20250217T233955_DVP_RTC10_G_gdufem_E701...</td>\n",
       "    </tr>\n",
       "    <tr>\n",
       "      <th>2</th>\n",
       "      <td>dem_processing.zip</td>\n",
       "      <td>https://ky.box.com/shared/static/rz15mqljj1m0t...</td>\n",
       "      <td>dem_processing</td>\n",
       "      <td>dem_processing_dem.tif</td>\n",
       "      <td>dem_processing_rgb.png</td>\n",
       "      <td>dem_processing_vv.tif</td>\n",
       "      <td>dem_processing_vh.tif</td>\n",
       "      <td>dem_processing_shape.shp</td>\n",
       "    </tr>\n",
       "  </tbody>\n",
       "</table>\n",
       "</div>"
      ],
      "text/plain": [
       "                                             zipfile  \\\n",
       "0  S1A_IW_20250205T233956_DVP_RTC10_G_gdufem_246A...   \n",
       "1  S1A_IW_20250217T233955_DVP_RTC10_G_gdufem_E701...   \n",
       "2                                 dem_processing.zip   \n",
       "\n",
       "                                                link  \\\n",
       "0  https://ky.box.com/shared/static/xwhzpb6entefd...   \n",
       "1  https://ky.box.com/shared/static/81wf3fabzhzsu...   \n",
       "2  https://ky.box.com/shared/static/rz15mqljj1m0t...   \n",
       "\n",
       "                                     scene_folder  \\\n",
       "0  S1A_IW_20250205T233956_DVP_RTC10_G_gdufem_246A   \n",
       "1  S1A_IW_20250217T233955_DVP_RTC10_G_gdufem_E701   \n",
       "2                                  dem_processing   \n",
       "\n",
       "                                           input_dem  \\\n",
       "0  S1A_IW_20250205T233956_DVP_RTC10_G_gdufem_246A...   \n",
       "1  S1A_IW_20250217T233955_DVP_RTC10_G_gdufem_E701...   \n",
       "2                             dem_processing_dem.tif   \n",
       "\n",
       "                                                 rgb  \\\n",
       "0  S1A_IW_20250205T233956_DVP_RTC10_G_gdufem_246A...   \n",
       "1  S1A_IW_20250217T233955_DVP_RTC10_G_gdufem_E701...   \n",
       "2                             dem_processing_rgb.png   \n",
       "\n",
       "                                                  vv  \\\n",
       "0  S1A_IW_20250205T233956_DVP_RTC10_G_gdufem_246A...   \n",
       "1  S1A_IW_20250217T233955_DVP_RTC10_G_gdufem_E701...   \n",
       "2                              dem_processing_vv.tif   \n",
       "\n",
       "                                                  vh  \\\n",
       "0  S1A_IW_20250205T233956_DVP_RTC10_G_gdufem_246A...   \n",
       "1  S1A_IW_20250217T233955_DVP_RTC10_G_gdufem_E701...   \n",
       "2                              dem_processing_vh.tif   \n",
       "\n",
       "                                           shapefile  \n",
       "0  S1A_IW_20250205T233956_DVP_RTC10_G_gdufem_246A...  \n",
       "1  S1A_IW_20250217T233955_DVP_RTC10_G_gdufem_E701...  \n",
       "2                           dem_processing_shape.shp  "
      ]
     },
     "execution_count": 12,
     "metadata": {},
     "output_type": "execute_result"
    }
   ],
   "source": [
    "scenes_df = create_scenes_df()\n",
    "scenes_df"
   ]
  },
  {
   "cell_type": "markdown",
   "metadata": {},
   "source": [
    "I don't think using multiprocessing helps now that I'm using a subprocess, but it's not hurting it either.\n",
    "\n",
    "Download could take several minutes, depending upon bandwidth.  Zipped up, the scenes are over 10gb in size each.  The dem products folder is ~2.5gb."
   ]
  },
  {
   "cell_type": "code",
   "execution_count": 13,
   "metadata": {},
   "outputs": [
    {
     "name": "stdout",
     "output_type": "stream",
     "text": [
      "Extracted Files already exist for \"S1A_IW_20250205T233956_DVP_RTC10_G_gdufem_246A\"\n",
      "Extracted Files already exist for \"S1A_IW_20250217T233955_DVP_RTC10_G_gdufem_E701\"\n",
      "Extracted Files already exist for \"dem_processing\"\n"
     ]
    }
   ],
   "source": [
    "# download data from Box\n",
    "box_download(scenes_df)"
   ]
  },
  {
   "cell_type": "code",
   "execution_count": 14,
   "metadata": {},
   "outputs": [
    {
     "name": "stdout",
     "output_type": "stream",
     "text": [
      "Base Scene Directory:  S1A_IW_20250205T233956_DVP_RTC10_G_gdufem_246A\n",
      "Flood Scene Directory: S1A_IW_20250217T233955_DVP_RTC10_G_gdufem_E701\n",
      "DEM products Directory: dem_processing\n"
     ]
    }
   ],
   "source": [
    "base_scene = scenes_df.at[0,'scene_folder']\n",
    "flood_scene = scenes_df.at[1,'scene_folder']\n",
    "dem_folder = scenes_df.at[2, 'scene_folder']\n",
    "print(f'Base Scene Directory:  {base_scene}\\nFlood Scene Directory: {flood_scene}\\nDEM products Directory: {dem_folder}')"
   ]
  },
  {
   "cell_type": "markdown",
   "metadata": {},
   "source": [
    "#### Review the README.md.txt file\n",
    "\n",
    "The folders contain several files.  Each image (png or tif) has a corresponding metadata (xml) file.  The folder also includes a shapefile (\\*_shape.\\*) and a google kmz which display a geometry on a map.  \n",
    "\n",
    "There is also a **README.md*$ file in each folder that breaks down how to undertand the file name and what is included in the scene folder.  \n",
    "- Base Scene [README](data/S1A_IW_20250205T233956_DVP_RTC10_G_gdufem_246A/S1A_IW_20250205T233956_DVP_RTC10_G_gdufem_246A.README.md)\n",
    "- Crisis Scene [README](project/data/S1A_IW_20250217T233955_DVP_RTC10_G_gdufem_E701/S1A_IW_20250217T233955_DVP_RTC10_G_gdufem_E701.README.md)\n",
    "\n",
    "Let's take a look at some of the files to get an idea of what we're looking at."
   ]
  },
  {
   "cell_type": "code",
   "execution_count": 15,
   "metadata": {},
   "outputs": [
    {
     "name": "stdout",
     "output_type": "stream",
     "text": [
      "source projection: EPSG:32616\n",
      "redefined projection: EPSG:4326\n"
     ]
    }
   ],
   "source": [
    "# read in base image shapefile\n",
    "base_shapefile = (f'data/{base_scene}/{base_scene}_shape.shp')\n",
    "\n",
    "# read in shapefile to geodataframe\n",
    "gdf_base_shapefile = gpd.read_file(base_shapefile)\n",
    "print(f'source projection: {gdf_base_shapefile.crs}')\n",
    "\n",
    "# redefine the projection to work with the map\n",
    "gdf_base_shapefile = gdf_base_shapefile.to_crs('EPSG:4326')\n",
    "print(f'redefined projection: {gdf_base_shapefile.crs}')"
   ]
  },
  {
   "cell_type": "code",
   "execution_count": 16,
   "metadata": {},
   "outputs": [],
   "source": [
    "# read in geodataframe to a ipyleaflet GeoData\n",
    "base_geo_data = GeoData(geo_dataframe = gdf_base_shapefile,\n",
    "                   style={'color': 'black', 'fillColor': '#3366cc', 'opacity':0.1, 'weight':1.9, 'dashArray':'2', 'fillOpacity':0.6},\n",
    "                   hover_style={'fillColor': 'red' , 'fillOpacity': 0.2},\n",
    "                   name = 'base Geometry')"
   ]
  },
  {
   "cell_type": "code",
   "execution_count": 17,
   "metadata": {},
   "outputs": [
    {
     "data": {
      "application/vnd.jupyter.widget-view+json": {
       "model_id": "5cca8d68c4dc4d4b83b3b29bf3a73458",
       "version_major": 2,
       "version_minor": 0
      },
      "text/plain": [
       "Map(center=[38, -85.5], controls=(ZoomControl(options=['position', 'zoom_in_text', 'zoom_in_title', 'zoom_out_…"
      ]
     },
     "execution_count": 17,
     "metadata": {},
     "output_type": "execute_result"
    }
   ],
   "source": [
    "m = Map(\n",
    "    basemap=basemap_to_tiles(basemaps.CartoDB.Positron),\n",
    "    center=(38, -85.5),\n",
    "    zoom=7.3\n",
    ")\n",
    "m.add(base_geo_data)\n",
    "# m.add(LayersContol())\n",
    "m"
   ]
  },
  {
   "cell_type": "markdown",
   "metadata": {},
   "source": [
    "## TODO\n",
    "\n",
    "Add a section that creates a grid to display several images side by side"
   ]
  },
  {
   "cell_type": "code",
   "execution_count": 18,
   "metadata": {},
   "outputs": [
    {
     "name": "stdout",
     "output_type": "stream",
     "text": [
      "Note how we can see the Ohio River starting near the uppermost right corner,\n",
      "extending to middle on the left.  This is the derived RGB image.  It will\n",
      "not be used for analysis.\n"
     ]
    },
    {
     "data": {
      "application/vnd.jupyter.widget-view+json": {
       "model_id": "3ff41a5ea96b4842a9770cfde5043dac",
       "version_major": 2,
       "version_minor": 0
      },
      "text/plain": [
       "Image(value=b'\\x89PNG\\r\\n\\x1a\\n\\x00\\x00\\x00\\rIHDR\\x00\\x00\\x08\\x00\\x00\\x00\\x05\\xfd\\x08\\x02\\x00\\x00\\x00\\xf5\\x1e/…"
      ]
     },
     "metadata": {},
     "output_type": "display_data"
    }
   ],
   "source": [
    "# display RGB Composite File\n",
    "rgb_png = './data/S1A_IW_20250217T233955_DVP_RTC10_G_gdufem_E701/S1A_IW_20250217T233955_DVP_RTC10_G_gdufem_E701_rgb.png'\n",
    "file = open(rgb_png, \"rb\")\n",
    "image = file.read()\n",
    "image_widget = widgets.Image(\n",
    "    value=image,\n",
    "    format='png',\n",
    "    width=300,\n",
    "    height=400,\n",
    ")\n",
    "print(\"Note how we can see the Ohio River starting near the uppermost right corner,\\nextending to middle on the left.  This is the derived RGB image.  It will\\nnot be used for analysis.\")\n",
    "display(image_widget)"
   ]
  },
  {
   "cell_type": "code",
   "execution_count": null,
   "metadata": {},
   "outputs": [],
   "source": []
  },
  {
   "cell_type": "code",
   "execution_count": null,
   "metadata": {},
   "outputs": [],
   "source": []
  },
  {
   "cell_type": "code",
   "execution_count": null,
   "metadata": {},
   "outputs": [],
   "source": []
  },
  {
   "cell_type": "code",
   "execution_count": null,
   "metadata": {},
   "outputs": [],
   "source": []
  },
  {
   "cell_type": "code",
   "execution_count": null,
   "metadata": {},
   "outputs": [],
   "source": []
  },
  {
   "cell_type": "code",
   "execution_count": null,
   "metadata": {},
   "outputs": [],
   "source": []
  },
  {
   "cell_type": "code",
   "execution_count": null,
   "metadata": {},
   "outputs": [],
   "source": []
  }
 ],
 "metadata": {
  "kernelspec": {
   "display_name": "venv",
   "language": "python",
   "name": "python3"
  },
  "language_info": {
   "codemirror_mode": {
    "name": "ipython",
    "version": 3
   },
   "file_extension": ".py",
   "mimetype": "text/x-python",
   "name": "python",
   "nbconvert_exporter": "python",
   "pygments_lexer": "ipython3",
   "version": "3.13.2"
  }
 },
 "nbformat": 4,
 "nbformat_minor": 4
}
