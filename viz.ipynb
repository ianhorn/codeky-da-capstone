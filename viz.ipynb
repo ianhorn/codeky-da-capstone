{
 "cells": [
  {
   "cell_type": "code",
   "execution_count": 1,
   "id": "dfba8582",
   "metadata": {},
   "outputs": [],
   "source": [
    "import os\n",
    "import geopandas as gpd\n",
    "from ipyleaflet import Map, basemaps, TileLayer\n",
    "import json\n",
    "import httpx"
   ]
  },
  {
   "cell_type": "code",
   "execution_count": 2,
   "id": "e7938ada",
   "metadata": {},
   "outputs": [
    {
     "data": {
      "application/vnd.jupyter.widget-view+json": {
       "model_id": "2d985fdc36a842929930e9ba3dfa85f5",
       "version_major": 2,
       "version_minor": 0
      },
      "text/plain": [
       "Map(center=[38.13707656, -85.31012789], controls=(ZoomControl(options=['position', 'zoom_in_text', 'zoom_in_ti…"
      ]
     },
     "execution_count": 2,
     "metadata": {},
     "output_type": "execute_result"
    }
   ],
   "source": [
    "# create a map\n",
    "tcm_layer = TileLayer(\n",
    "    url = 'https://kygisserver.ky.gov/arcgis/rest/services/WGS84WM_Services/Ky_TCM_Base_WGS84WM/MapServer/tile/{z}/{y}/{x}',\n",
    "    attibution = 'The Commonwealth Basemap'\n",
    ")\n",
    "center = [38.13707656, -85.31012789]\n",
    "zoom = 6\n",
    "\n",
    "m = Map(basemaps=basemaps.Stadia.OSMBright, center=center, zoom=zoom)\n",
    "\n",
    "m.add(tcm_layer)"
   ]
  },
  {
   "cell_type": "code",
   "execution_count": 5,
   "id": "7b82f379",
   "metadata": {},
   "outputs": [],
   "source": [
    "titiler_endpoint = (\n",
    "    'https://titiler.xyz'\n",
    ")\n",
    "\n",
    "url = '/Users/ianhorn/Documents/CodeKy/pathways/data-analysis/codeky-da-capstone/project/data/dem_processing/hand_clip.tif'\n",
    "\n"
   ]
  },
  {
   "cell_type": "code",
   "execution_count": 6,
   "id": "92e71f69",
   "metadata": {},
   "outputs": [
    {
     "name": "stdout",
     "output_type": "stream",
     "text": [
      "{'detail': '/Users/ianhorn/Documents/CodeKy/pathways/data-analysis/codeky-da-capstone/project/data/dem_processing/hand_clip.tif: No such file or directory'}\n"
     ]
    }
   ],
   "source": [
    "if os.path.exists(url):\n",
    "\n",
    "    # Fetch dataset Metadata\n",
    "    r = httpx.get(\n",
    "        f\"{titiler_endpoint}/cog/info\",\n",
    "        params={\n",
    "            \"url\": url,\n",
    "        },\n",
    "    ).json()\n",
    "\n",
    "    print(r)\n",
    "\n",
    "else:\n",
    "    print('File not found')\n",
    "\n"
   ]
  }
 ],
 "metadata": {
  "kernelspec": {
   "display_name": "venv",
   "language": "python",
   "name": "python3"
  },
  "language_info": {
   "codemirror_mode": {
    "name": "ipython",
    "version": 3
   },
   "file_extension": ".py",
   "mimetype": "text/x-python",
   "name": "python",
   "nbconvert_exporter": "python",
   "pygments_lexer": "ipython3",
   "version": "3.13.2"
  }
 },
 "nbformat": 4,
 "nbformat_minor": 5
}
