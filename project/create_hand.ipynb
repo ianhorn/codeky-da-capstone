{
 "cells": [
  {
   "cell_type": "code",
   "execution_count": 1,
   "id": "270839ce",
   "metadata": {},
   "outputs": [],
   "source": [
    "import os\n",
    "from concurrent.futures import ProcessPoolExecutor\n",
    "# set up Whitebox Environment, get available functions\n",
    "from whitebox_workflows import WbEnvironment\n",
    "from scripts.constants import create_scenes_df, dem_fill\n",
    "from scripts.constants import flow_direction, flow_accumulation\n",
    "import shutil\n",
    "import multiprocessing\n",
    "import rasterio\n",
    "from rasterio.plot import show\n",
    "from osgeo import gdal"
   ]
  },
  {
   "cell_type": "code",
   "execution_count": 2,
   "id": "b2194628",
   "metadata": {},
   "outputs": [
    {
     "name": "stdout",
     "output_type": "stream",
     "text": [
      "Number of threads to use: 8\n"
     ]
    }
   ],
   "source": [
    "logical_cores = multiprocessing.cpu_count()\n",
    "# determine number of threads to use for multiprocessing\n",
    "num_workers = int(logical_cores * 0.8)  # rounds down in case not a whole number\n",
    "print(f'Number of threads to use: {num_workers}')\n",
    "\n",
    "wbe = WbEnvironment()\n",
    "\n",
    "scenes_df = create_scenes_df()"
   ]
  },
  {
   "cell_type": "code",
   "execution_count": 3,
   "id": "f00bf624",
   "metadata": {},
   "outputs": [
    {
     "name": "stdout",
     "output_type": "stream",
     "text": [
      "data/S1A_IW_20250205T233956_DVP_RTC10_G_gdufem_246A/S1A_IW_20250205T233956_DVP_RTC10_G_gdufem_246A_dem.tif\n",
      "data/temp_dir already exists\n"
     ]
    }
   ],
   "source": [
    "data_folder = 'data'\n",
    "input_dem = os.path.join(data_folder, scenes_df.at[0, 'scene_folder'],scenes_df.at[0, 'input_dem'])\n",
    "print(input_dem)\n",
    "\n",
    "temp_dir = 'data/temp_dir'\n",
    "\n",
    "if not os.path.exists(temp_dir):\n",
    "    os.makedirs(temp_dir)\n",
    "else:\n",
    "    print(f'{temp_dir} already exists')"
   ]
  },
  {
   "cell_type": "code",
   "execution_count": null,
   "id": "3805427d",
   "metadata": {},
   "outputs": [],
   "source": [
    "# # # copy the dem to the directory\n",
    "# dem_copy = f'{temp_dir}/dem_copy.tif'\n",
    "# print(input_dem)\n",
    "# shutil.copyfile(input_dem, dem_copy)\n",
    "\n"
   ]
  },
  {
   "cell_type": "markdown",
   "id": "11a99036",
   "metadata": {},
   "source": [
    "If you inspect the DEM, which is the same in both folders, it is much larger in area converage than the scenes.  Because of this extra area, we would be processing data unnecessarily, so I'm going to geometrically clip DEM file to the scene grid.\n",
    "\n",
    "We will use the Geospatial Data Abstraction Library ([GDAL](https://gdal.org/en/stable/index.html), pronounced *\\`gee doll\\`*).\n",
    "\n",
    "The documentation is difficult to navigate.   Checkout this [cookbook](https://pcjericks.github.io/py-gdalogr-cookbook/).  "
   ]
  },
  {
   "cell_type": "code",
   "execution_count": 5,
   "id": "d663ea60",
   "metadata": {},
   "outputs": [
    {
     "name": "stdout",
     "output_type": "stream",
     "text": [
      "Shapefile: data/S1A_IW_20250205T233956_DVP_RTC10_G_gdufem_246A/S1A_IW_20250205T233956_DVP_RTC10_G_gdufem_246A_shape.shp\n",
      "Shape Layer: S1A_IW_20250205T233956_DVP_RTC10_G_gdufem_246A_shape\n",
      "Output file: data/temp_dir/dem_clipped.tif\n"
     ]
    }
   ],
   "source": [
    "# grab shapefile to clip the dem\n",
    "cutline_shapefile = os.path.join(data_folder, scenes_df.at[0, 'scene_folder'], scenes_df.at[0, 'shapefile'])\n",
    "\n",
    "# get the shapefile's layer name\n",
    "cutline_layer = os.path.splitext(os.path.basename(cutline_shapefile))[0]\n",
    "dem_clipped = os.path.join(temp_dir, 'dem_clipped.tif')\n",
    "print(f'Shapefile: {cutline_shapefile}\\nShape Layer: {cutline_layer}\\nOutput file: {dem_clipped}')"
   ]
  },
  {
   "cell_type": "code",
   "execution_count": 12,
   "id": "48cfdb26",
   "metadata": {},
   "outputs": [
    {
     "name": "stdout",
     "output_type": "stream",
     "text": [
      "Help on function WarpOptions in module osgeo.gdal:\n",
      "\n",
      "WarpOptions(\n",
      "    options=None,\n",
      "    format=None,\n",
      "    srcBands=None,\n",
      "    dstBands=None,\n",
      "    outputBounds=None,\n",
      "    outputBoundsSRS=None,\n",
      "    xRes=None,\n",
      "    yRes=None,\n",
      "    targetAlignedPixels=False,\n",
      "    width=0,\n",
      "    height=0,\n",
      "    srcSRS=None,\n",
      "    dstSRS=None,\n",
      "    coordinateOperation=None,\n",
      "    srcAlpha=None,\n",
      "    dstAlpha=False,\n",
      "    warpOptions=None,\n",
      "    errorThreshold=None,\n",
      "    warpMemoryLimit=None,\n",
      "    creationOptions=None,\n",
      "    outputType=0,\n",
      "    workingType=0,\n",
      "    resampleAlg=None,\n",
      "    srcNodata=None,\n",
      "    dstNodata=None,\n",
      "    multithread=False,\n",
      "    tps=False,\n",
      "    rpc=False,\n",
      "    geoloc=False,\n",
      "    polynomialOrder=None,\n",
      "    transformerOptions=None,\n",
      "    cutlineDSName=None,\n",
      "    cutlineWKT=None,\n",
      "    cutlineSRS=None,\n",
      "    cutlineLayer=None,\n",
      "    cutlineWhere=None,\n",
      "    cutlineSQL=None,\n",
      "    cutlineBlend=None,\n",
      "    cropToCutline=False,\n",
      "    copyMetadata=True,\n",
      "    metadataConflictValue=None,\n",
      "    setColorInterpretation=False,\n",
      "    overviewLevel='AUTO',\n",
      "    callback=None,\n",
      "    callback_data=None\n",
      ")\n",
      "    Create a WarpOptions() object that can be passed to gdal.Warp()\n",
      "\n",
      "    Parameters\n",
      "    ----------\n",
      "    options:\n",
      "        can be be an array of strings, a string or let empty and filled from other keywords.\n",
      "    format:\n",
      "        output format (\"GTiff\", etc...)\n",
      "    srcBands:\n",
      "        list of source band numbers (between 1 and the number of input bands)\n",
      "    dstBands:\n",
      "        list of output band numbers\n",
      "    outputBounds:\n",
      "        output bounds as (minX, minY, maxX, maxY) in target SRS\n",
      "    outputBoundsSRS:\n",
      "        SRS in which output bounds are expressed, in the case they are not expressed in dstSRS\n",
      "    xRes:\n",
      "        output resolution in target SRS\n",
      "    yRes:\n",
      "        output resolution in target SRS\n",
      "    targetAlignedPixels:\n",
      "        whether to force output bounds to be multiple of output resolution\n",
      "    width:\n",
      "        width of the output raster in pixel\n",
      "    height:\n",
      "        height of the output raster in pixel\n",
      "    srcSRS:\n",
      "        source SRS\n",
      "    dstSRS:\n",
      "        output SRS\n",
      "    coordinateOperation:\n",
      "        coordinate operation as a PROJ string or WKT string\n",
      "    srcAlpha:\n",
      "        whether to force the last band of the input dataset to be considered as an alpha band.\n",
      "        If set to False, source alpha warping will be disabled.\n",
      "    dstAlpha:\n",
      "        whether to force the creation of an output alpha band\n",
      "    outputType:\n",
      "        output type (gdalconst.GDT_Byte, etc...)\n",
      "    workingType:\n",
      "        working type (gdalconst.GDT_Byte, etc...)\n",
      "    warpOptions:\n",
      "        list or dict of warping options\n",
      "    errorThreshold:\n",
      "        error threshold for approximation transformer (in pixels)\n",
      "    warpMemoryLimit:\n",
      "        size of working buffer in MB\n",
      "    resampleAlg:\n",
      "        resampling mode\n",
      "    creationOptions:\n",
      "        list or dict of creation options\n",
      "    srcNodata:\n",
      "        source nodata value(s)\n",
      "    dstNodata:\n",
      "        output nodata value(s)\n",
      "    multithread:\n",
      "        whether to multithread computation and I/O operations\n",
      "    tps:\n",
      "        whether to use Thin Plate Spline GCP transformer\n",
      "    rpc:\n",
      "        whether to use RPC transformer\n",
      "    geoloc:\n",
      "        whether to use GeoLocation array transformer\n",
      "    polynomialOrder:\n",
      "        order of polynomial GCP interpolation\n",
      "    transformerOptions:\n",
      "        list or dict of transformer options\n",
      "    cutlineDSName:\n",
      "        cutline dataset name (mutually exclusive with cutlineWKT)\n",
      "    cutlineWKT:\n",
      "        cutline WKT geometry (POLYGON or MULTIPOLYGON) (mutually exclusive with cutlineDSName)\n",
      "    cutlineSRS:\n",
      "        set/override cutline SRS\n",
      "    cutlineLayer:\n",
      "        cutline layer name\n",
      "    cutlineWhere:\n",
      "        cutline WHERE clause\n",
      "    cutlineSQL:\n",
      "        cutline SQL statement\n",
      "    cutlineBlend:\n",
      "        cutline blend distance in pixels\n",
      "    cropToCutline:\n",
      "        whether to use cutline extent for output bounds\n",
      "    copyMetadata:\n",
      "        whether to copy source metadata\n",
      "    metadataConflictValue:\n",
      "        metadata data conflict value\n",
      "    setColorInterpretation:\n",
      "        whether to force color interpretation of input bands to output bands\n",
      "    overviewLevel:\n",
      "        To specify which overview level of source files must be used\n",
      "    callback:\n",
      "        callback method\n",
      "    callback_data:\n",
      "        user data for callback\n",
      "\n"
     ]
    }
   ],
   "source": [
    "# run help for the gdal.WarpOptions()\n",
    "help(gdal.WarpOptions)"
   ]
  },
  {
   "cell_type": "code",
   "execution_count": null,
   "id": "7d9e3393",
   "metadata": {},
   "outputs": [
    {
     "data": {
      "text/plain": [
       "<osgeo.gdal.Dataset; proxy of <Swig Object of type 'GDALDatasetShadow *' at 0x11461edc0> >"
      ]
     },
     "execution_count": 16,
     "metadata": {},
     "output_type": "execute_result"
    }
   ],
   "source": [
    "# use gdalwarp to clip the data\n",
    "gdal.Warp(\n",
    "    dem_clipped, input_dem,                     # output file, input file\n",
    "    format=\"COG\",                               # output format - Cloud-Optimized Geotiff\n",
    "    cutlineDSName=cutline_shapefile,            # Geometry to use for clipping\n",
    "    cutlineLayer=cutline_layer,                 # name of geometry data\n",
    "    dstNodata=-9999,                            # assign obscure value to nodata, this is important for later processing\n",
    "    multithread=num_workers                     # using multiple cpus to perform task\n",
    ")"
   ]
  },
  {
   "cell_type": "markdown",
   "id": "b70876e2",
   "metadata": {},
   "source": [
    "TODO, fill missing data.\n",
    "\n",
    "\n",
    "Call `dem_fill` function from *constants.py* script.  This will\n",
    " - find pits\n",
    " - fill depressions\n",
    " - find flats on flow\n",
    " - fix flats\n",
    "\n",
    "Process can take 10 minutes or so."
   ]
  },
  {
   "cell_type": "code",
   "execution_count": null,
   "id": "7a6f94b1",
   "metadata": {},
   "outputs": [],
   "source": [
    "# Fill pits\n",
    "# read the raster\n",
    "dem = wbe.read_raster(dem_copy)\n",
    "pit_filled_dem = wbe.fill_pits(dem)\n",
    "output_file = os.path.join(temp_dir, 'pit_filled_dem.tif')\n",
    "pit_filled_dem = wbe.write_raster(pit_filled_dem, output_file)"
   ]
  },
  {
   "cell_type": "code",
   "execution_count": null,
   "id": "e5714b25",
   "metadata": {},
   "outputs": [],
   "source": [
    "pit_filled_dem = f'{temp_dir}/pit_filled_dem.tif'"
   ]
  },
  {
   "cell_type": "code",
   "execution_count": null,
   "id": "9f425500",
   "metadata": {},
   "outputs": [],
   "source": [
    "# I'm setting this up to run on multiple CPUs, even though here we are only using one.  \n",
    "# The idea is that in the future, I may do this on several files\n",
    "if not os.path.exists(f'{temp_dir}/filled_dem.tif'):\n",
    "    print(\"file does not exist\")\n",
    "    with ProcessPoolExecutor(max_workers=num_workers) as executor:\n",
    "        future = executor.submit(dem_fill, pit_filled_dem, temp_dir)\n",
    "        input_dem_raster = future.result()\n",
    "else:\n",
    "    print('Filled Dem Tiff file already exists')  "
   ]
  },
  {
   "cell_type": "markdown",
   "id": "03b3f124",
   "metadata": {},
   "source": [
    "#### Generate Flow direction\n",
    "Create a flow direction model from the Filled Dem we just created.\n",
    "Runs in seconds"
   ]
  },
  {
   "cell_type": "code",
   "execution_count": null,
   "id": "6ee3de7a",
   "metadata": {},
   "outputs": [],
   "source": [
    "d8_pointer = f'{temp_dir}/d8_pointer.tif'\n",
    "\n",
    "if not os.path.exists('data/temp_dir/dem_flow.tif'):\n",
    "    with ProcessPoolExecutor(max_workers=num_workers) as executor:\n",
    "        future = executor.submit(flow_direction, d8_pointer, temp_dir)\n",
    "else:\n",
    "    print(f'flow_direction already exists.')"
   ]
  },
  {
   "cell_type": "markdown",
   "id": "07d53e90",
   "metadata": {},
   "source": [
    "#### Generate Flow Accumulation"
   ]
  },
  {
   "cell_type": "code",
   "execution_count": null,
   "id": "3472adac",
   "metadata": {},
   "outputs": [],
   "source": [
    "flow_accum = os.path.join(temp_dir, 'flow_accum.tif')\n",
    "flow_dem = os.path.join(temp_dir, 'flow_dem.tif')\n",
    "\n",
    "if not os.path.exists(flow_accum):\n",
    "    with ProcessPoolExecutor(max_workers=num_workers) as executor:\n",
    "        future = executor.submit(flow_accumulation, flow_direction, temp_dir)"
   ]
  }
 ],
 "metadata": {
  "kernelspec": {
   "display_name": "venv",
   "language": "python",
   "name": "python3"
  },
  "language_info": {
   "codemirror_mode": {
    "name": "ipython",
    "version": 3
   },
   "file_extension": ".py",
   "mimetype": "text/x-python",
   "name": "python",
   "nbconvert_exporter": "python",
   "pygments_lexer": "ipython3",
   "version": "3.13.2"
  }
 },
 "nbformat": 4,
 "nbformat_minor": 5
}
