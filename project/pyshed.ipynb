{
 "cells": [
  {
   "cell_type": "markdown",
   "id": "6df25796",
   "metadata": {},
   "source": [
    "Try conditioning with [pysheds](https://github.com/ianhorn/pysheds/blob/master/docs/dem-conditioning.md)"
   ]
  },
  {
   "cell_type": "code",
   "execution_count": null,
   "id": "27fabcc9",
   "metadata": {},
   "outputs": [],
   "source": [
    "import os\n",
    "import matplotlib.pyplot as plt\n",
    "import matplotlib.colors as colors\n",
    "from pysheds.grid import Grid\n",
    "import seaborn as sns"
   ]
  },
  {
   "cell_type": "code",
   "execution_count": null,
   "id": "4dd1ff22",
   "metadata": {},
   "outputs": [],
   "source": [
    "# set the working directory\n",
    "working_directory = 'data/temp_pysheds'\n",
    "os.chdir(working_directory)\n",
    "os.getcwd()"
   ]
  },
  {
   "cell_type": "code",
   "execution_count": null,
   "id": "4047be81",
   "metadata": {},
   "outputs": [],
   "source": [
    "# create a grid from raster\n",
    "dem = \"dem.tif\"\n",
    "grid = Grid.from_raster(dem, nodata=-9999)\n",
    "dem = grid.read_raster(dem, nodata=-9999)"
   ]
  },
  {
   "cell_type": "code",
   "execution_count": null,
   "id": "e3e8a553",
   "metadata": {},
   "outputs": [],
   "source": [
    "fig, ax = plt.subplots(figsize=(8,6))\n",
    "fig.patch.set_alpha(0)\n",
    "\n",
    "plt.imshow(dem, extent=grid.extent, cmap='terrain', zorder=1)\n",
    "plt.colorbar(label='Elevation (m)')\n",
    "plt.grid(zorder=0)\n",
    "plt.title('Digital elevation map', size=14)\n",
    "plt.xlabel('Longitude')\n",
    "plt.ylabel('Latitude')\n",
    "plt.tight_layout()"
   ]
  },
  {
   "cell_type": "code",
   "execution_count": null,
   "id": "c6a12ef6",
   "metadata": {},
   "outputs": [],
   "source": [
    "pits = grid.detect_pits(dem)"
   ]
  },
  {
   "cell_type": "code",
   "execution_count": null,
   "id": "f3ad013f",
   "metadata": {},
   "outputs": [],
   "source": [
    "# Plot pits\n",
    "fig, ax = plt.subplots(figsize=(8,6))\n",
    "fig.patch.set_alpha(0)\n",
    "\n",
    "plt.imshow(pits, cmap='Greys_r', zorder=1)\n",
    "plt.title('Pits', size=14)\n",
    "plt.tight_layout()"
   ]
  },
  {
   "cell_type": "code",
   "execution_count": null,
   "id": "9235ea51",
   "metadata": {},
   "outputs": [],
   "source": [
    "pit_filled_dem =grid.fill_pits(dem)\n",
    "pits = grid.detect_pits(pit_filled_dem)\n",
    "assert not pits.any()"
   ]
  },
  {
   "cell_type": "code",
   "execution_count": null,
   "id": "d6a745e1",
   "metadata": {},
   "outputs": [],
   "source": [
    "depressions = grid.detect_depressions(pit_filled_dem)"
   ]
  },
  {
   "cell_type": "code",
   "execution_count": null,
   "id": "0a2d8df7",
   "metadata": {},
   "outputs": [],
   "source": [
    "# Plot depressions\n",
    "fig, ax = plt.subplots(figsize=(8,6))\n",
    "fig.patch.set_alpha(0)\n",
    "\n",
    "plt.imshow(depressions, cmap='Greys_r', zorder=1)\n",
    "plt.title('Depressions', size=14)\n",
    "plt.tight_layout()"
   ]
  },
  {
   "cell_type": "code",
   "execution_count": null,
   "id": "2d221e57",
   "metadata": {},
   "outputs": [],
   "source": [
    "flooded_dem = grid.fill_depressions(pit_filled_dem)\n",
    "depressions = grid.detect_depressions(flooded_dem)\n",
    "assert not depressions.any()"
   ]
  },
  {
   "cell_type": "code",
   "execution_count": null,
   "id": "e2126043",
   "metadata": {},
   "outputs": [],
   "source": [
    "flats = grid.detect_flats(flooded_dem)"
   ]
  },
  {
   "cell_type": "code",
   "execution_count": null,
   "id": "3e781233",
   "metadata": {},
   "outputs": [],
   "source": [
    "# Plot flats\n",
    "fig, ax = plt.subplots(figsize=(8,6))\n",
    "fig.patch.set_alpha(0)\n",
    "\n",
    "plt.imshow(flats, cmap='Greys_r', zorder=1)\n",
    "plt.title('Flats', size=14)\n",
    "plt.tight_layout()"
   ]
  },
  {
   "cell_type": "code",
   "execution_count": null,
   "id": "f5fa0fcf",
   "metadata": {},
   "outputs": [],
   "source": [
    "inflated_dem = grid.resolve_flats(flooded_dem)\n",
    "flats = grid.detect_flats(inflated_dem)\n",
    "assert not flats.any()"
   ]
  },
  {
   "cell_type": "code",
   "execution_count": null,
   "id": "5135bfd5",
   "metadata": {},
   "outputs": [],
   "source": [
    "import numpy as np\n",
    "\n",
    "# Detect flats again after resolve_flats()\n",
    "flats = grid.detect_flats(inflated_dem)\n",
    "\n",
    "# Print summary\n",
    "print(\"Number of flat cells:\", np.count_nonzero(flats))\n",
    "\n",
    "# Optionally visualize\n",
    "import matplotlib.pyplot as plt\n",
    "plt.imshow(flats, cmap='gray')\n",
    "plt.title(\"Remaining Flats After resolve_flats()\")\n",
    "plt.colorbar()\n",
    "plt.show()"
   ]
  },
  {
   "cell_type": "code",
   "execution_count": null,
   "id": "1a9785ab",
   "metadata": {},
   "outputs": [],
   "source": [
    "# Compute flow direction based on corrected DEM\n",
    "fdir = grid.flowdir(inflated_dem)\n",
    "\n",
    "# Compute flow accumulation based on computed flow direction\n",
    "acc = grid.accumulation(fdir)\n"
   ]
  },
  {
   "cell_type": "code",
   "execution_count": null,
   "id": "2256c169",
   "metadata": {},
   "outputs": [],
   "source": [
    "fig, ax = plt.subplots(figsize=(8,6))\n",
    "fig.patch.set_alpha(0)\n",
    "im = ax.imshow(acc, zorder=2,\n",
    "               cmap='cubehelix',\n",
    "               norm=colors.LogNorm(1, acc.max()),\n",
    "               interpolation='bilinear')\n",
    "plt.colorbar(im, ax=ax, label='Upstream Cells')\n",
    "plt.title('Flow Accumulation', size=14)\n",
    "plt.tight_layout()"
   ]
  }
 ],
 "metadata": {
  "kernelspec": {
   "display_name": "hydrosar",
   "language": "python",
   "name": "python3"
  },
  "language_info": {
   "codemirror_mode": {
    "name": "ipython",
    "version": 3
   },
   "file_extension": ".py",
   "mimetype": "text/x-python",
   "name": "python",
   "nbconvert_exporter": "python",
   "pygments_lexer": "ipython3",
   "version": "3.12.9"
  }
 },
 "nbformat": 4,
 "nbformat_minor": 5
}
