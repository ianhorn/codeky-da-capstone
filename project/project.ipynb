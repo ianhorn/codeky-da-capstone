{
 "cells": [
  {
   "cell_type": "markdown",
   "metadata": {},
   "source": [
    "# Using satellite imagery to create near-real-time flood maps\n",
    "---"
   ]
  },
  {
   "cell_type": "markdown",
   "metadata": {},
   "source": [
    "If you did not create a virtual environmnet, uncomment this sections to install python modules."
   ]
  },
  {
   "cell_type": "code",
   "execution_count": null,
   "metadata": {},
   "outputs": [],
   "source": [
    "# # Install Modules\n",
    "# !pip install requests\n",
    "# !pip install geopandas\n",
    "# !pip install pandas\n"
   ]
  },
  {
   "cell_type": "code",
   "execution_count": 10,
   "metadata": {},
   "outputs": [],
   "source": [
    "import requests\n",
    "import geopandas as gpd\n",
    "import pandas as pd\n",
    "from scripts.create_sqlitedb import create_db"
   ]
  },
  {
   "cell_type": "code",
   "execution_count": 11,
   "metadata": {},
   "outputs": [
    {
     "name": "stdout",
     "output_type": "stream",
     "text": [
      "Database already exists\n"
     ]
    }
   ],
   "source": [
    "# Create a database\n",
    "db = create_db()  # This will prompt for input"
   ]
  },
  {
   "cell_type": "markdown",
   "metadata": {},
   "source": [
    "To facilitate the API URL, we need to get a FIPS code for our Kentucky Counties [KyGISServer](https://kygisserver.ky.gov/arcgis/rest/services/WGS84WM_Services/Ky_Counties_Generalized_WGS84WM/MapServer/0) Rest Endpoint.\n",
    "\n"
   ]
  },
  {
   "cell_type": "code",
   "execution_count": 12,
   "metadata": {},
   "outputs": [
    {
     "name": "stdout",
     "output_type": "stream",
     "text": [
      "NAME2         object\n",
      "FIPS_ID      float64\n",
      "geometry    geometry\n",
      "dtype: object\n"
     ]
    },
    {
     "data": {
      "text/html": [
       "<div>\n",
       "<style scoped>\n",
       "    .dataframe tbody tr th:only-of-type {\n",
       "        vertical-align: middle;\n",
       "    }\n",
       "\n",
       "    .dataframe tbody tr th {\n",
       "        vertical-align: top;\n",
       "    }\n",
       "\n",
       "    .dataframe thead th {\n",
       "        text-align: right;\n",
       "    }\n",
       "</style>\n",
       "<table border=\"1\" class=\"dataframe\">\n",
       "  <thead>\n",
       "    <tr style=\"text-align: right;\">\n",
       "      <th></th>\n",
       "      <th>NAME2</th>\n",
       "      <th>FIPS_ID</th>\n",
       "      <th>geometry</th>\n",
       "    </tr>\n",
       "  </thead>\n",
       "  <tbody>\n",
       "    <tr>\n",
       "      <th>0</th>\n",
       "      <td>Greenup</td>\n",
       "      <td>21089.0</td>\n",
       "      <td>POLYGON ((-9242952.878 4682431.15, -9241037.90...</td>\n",
       "    </tr>\n",
       "    <tr>\n",
       "      <th>1</th>\n",
       "      <td>Mason</td>\n",
       "      <td>21161.0</td>\n",
       "      <td>POLYGON ((-9340139.537 4688519.829, -9335101.3...</td>\n",
       "    </tr>\n",
       "    <tr>\n",
       "      <th>2</th>\n",
       "      <td>Carroll</td>\n",
       "      <td>21041.0</td>\n",
       "      <td>POLYGON ((-9499237.108 4683958.597, -9494357.7...</td>\n",
       "    </tr>\n",
       "  </tbody>\n",
       "</table>\n",
       "</div>"
      ],
      "text/plain": [
       "     NAME2  FIPS_ID                                           geometry\n",
       "0  Greenup  21089.0  POLYGON ((-9242952.878 4682431.15, -9241037.90...\n",
       "1    Mason  21161.0  POLYGON ((-9340139.537 4688519.829, -9335101.3...\n",
       "2  Carroll  21041.0  POLYGON ((-9499237.108 4683958.597, -9494357.7..."
      ]
     },
     "execution_count": 12,
     "metadata": {},
     "output_type": "execute_result"
    }
   ],
   "source": [
    "# Pull in County Data Information\n",
    "counties_url = 'https://kygisserver.ky.gov/arcgis/rest/services/WGS84WM_Services/Ky_Counties_Generalized_WGS84WM/MapServer/0/query?where=1%3D1&units=esriSRUnit_Foot&outFields=NAME2%2CFIPS_ID&returnExtentOnly=false&featureEncoding=esriDefault&f=pjson'\n",
    "df = gpd.read_file(counties_url)\n",
    "print(df.dtypes)\n",
    "df.head(3)"
   ]
  },
  {
   "cell_type": "markdown",
   "metadata": {},
   "source": [
    "\\*The FIPS_ID is a float, we can worry about that later if it's important.  Might be easier to leave as is and manipulated with SQL.\n",
    "\n",
    "---\n",
    "\n",
    "Use USGS [StreamStats (API) Service](https://waterservices.usgs.gov/test-tools/?service=iv&siteType=&statTypeCd=all&major-filters=state-territory&stateCd=ky&format=json&date-type=type-absolute&statReportType=daily&statYearType=calendar&missingData=off&siteStatus=all&siteNameMatchOperator=start) to query water level data.\n",
    "\n",
    "Set up a Sqlite database with the spatialite extension -> [setup documentation](https://til.simonwillison.net/spatialite/minimal-spatialite-database-in-python)"
   ]
  }
 ],
 "metadata": {
  "kernelspec": {
   "display_name": "venv",
   "language": "python",
   "name": "python3"
  },
  "language_info": {
   "codemirror_mode": {
    "name": "ipython",
    "version": 3
   },
   "file_extension": ".py",
   "mimetype": "text/x-python",
   "name": "python",
   "nbconvert_exporter": "python",
   "pygments_lexer": "ipython3",
   "version": "3.13.1"
  }
 },
 "nbformat": 4,
 "nbformat_minor": 2
}
