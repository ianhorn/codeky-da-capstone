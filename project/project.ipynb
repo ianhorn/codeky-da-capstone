{
 "cells": [
  {
   "cell_type": "markdown",
   "metadata": {},
   "source": [
    "# [HydroSAR](https://github.com/HydroSAR/HydroSAR/tree/develop)\n",
    "\n",
    "Set up the stack with help from HydroSAR [Notebooks](https://github.com/HydroSAR/HydroSAR/tree/develop)"
   ]
  },
  {
   "cell_type": "code",
   "execution_count": 1,
   "metadata": {},
   "outputs": [],
   "source": [
    "import pandas as pd\n",
    "import os\n",
    "import subprocess\n",
    "import multiprocessing\n",
    "from concurrent.futures import ThreadPoolExecutor"
   ]
  },
  {
   "cell_type": "code",
   "execution_count": 2,
   "metadata": {},
   "outputs": [
    {
     "name": "stdout",
     "output_type": "stream",
     "text": [
      "Base Image: S1A_IW_20250205T233956_DVP_RTC10_G_gduned_DD97\n",
      "Flood Image: S1A_IW_20250217T233955_DVR_RTC10_G_gduned_0491\n"
     ]
    }
   ],
   "source": [
    "box_data = {\n",
    "    'zipfile': ['S1A_IW_20250205T233956_DVP_RTC10_G_gduned_DD97.zip',\n",
    "                'S1A_IW_20250217T233955_DVR_RTC10_G_gduned_0491.zip'],\n",
    "    'link': ['https://ky.box.com/shared/static/2w2x6sj97x2trg0gv9az6k16o0v9zgbl.zip', \n",
    "             'https://ky.box.com/shared/static/w3zruxeczm2zpl9mepixbpp6nxszxzg1.zip']\n",
    "    }\n",
    "\n",
    "df = pd.DataFrame(data=box_data)\n",
    "\n",
    "base_image = df.at[0,'zipfile']\n",
    "flood_image = df.at[1, 'zipfile']\n",
    "print(f'Base Image: {os.path.splitext(base_image)[0]}\\nFlood Image: {os.path.splitext(flood_image)[0]}')"
   ]
  },
  {
   "cell_type": "markdown",
   "metadata": {},
   "source": [
    "Function to download files from Box\\* \\*\\*\n",
    "\n",
    "\\* At first I create a function to use the Box download link, but it was corrupting the file and not letting me unzip.  As a last resort, I'm using subprocess.\n",
    "\n",
    "\\*\\* If all else fails, the download links can be used to directly download files and unzip locally"
   ]
  },
  {
   "cell_type": "code",
   "execution_count": 3,
   "metadata": {},
   "outputs": [],
   "source": [
    "def box_download(df):\n",
    "    out_folder = \"data\"\n",
    "    download_zip = os.path.join(out_folder, 'file.zip')\n",
    "    for row_index, row in df.iterrows():\n",
    "        link = row['link']\n",
    "        unzipped_folder = os.path.splitext(row['zipfile'])[0]  # get basename of zip file\n",
    "        unzip_path = os.path.join(out_folder, unzipped_folder)\n",
    "\n",
    "        cmd = f\"curl -L -o {download_zip} {link} && unzip {download_zip} - d {unzip_path}\"\n",
    "        \n",
    "        if not os.path.exists(unzip_path):\n",
    "            subprocess.run(cmd, shell=True, check=True)\n",
    "            # delete downloaded zip file.\n",
    "            os.remove(download_zip)\n",
    "        else:\n",
    "            print(\"Extracted Files already exist\")"
   ]
  },
  {
   "cell_type": "markdown",
   "metadata": {},
   "source": [
    "I don't think using multiprocessing helps now that I'm using a subprocess, but it's not hurting it either.\n",
    "\n",
    "Download could take several minutes (6 for me) depending upon bandwidth."
   ]
  },
  {
   "cell_type": "code",
   "execution_count": 5,
   "metadata": {},
   "outputs": [
    {
     "name": "stdout",
     "output_type": "stream",
     "text": [
      "Number of threads to use: 7\n",
      "Extracted Files already exist\n",
      "Extracted Files already exist\n"
     ]
    }
   ],
   "source": [
    "logical_cores = multiprocessing.cpu_count()\n",
    "# determine number of threads to use for multiprocessing\n",
    "num_workers = int(logical_cores * 0.75)  # rounds down in case not a whole number\n",
    "print(f'Number of threads to use: {num_workers}')\n",
    "\n",
    "with ThreadPoolExecutor(max_workers=num_workers) as executor:\n",
    "    executor.map(box_download(df))"
   ]
  }
 ],
 "metadata": {
  "kernelspec": {
   "display_name": "venv",
   "language": "python",
   "name": "python3"
  },
  "language_info": {
   "codemirror_mode": {
    "name": "ipython",
    "version": 3
   },
   "file_extension": ".py",
   "mimetype": "text/x-python",
   "name": "python",
   "nbconvert_exporter": "python",
   "pygments_lexer": "ipython3",
   "version": "3.13.2"
  }
 },
 "nbformat": 4,
 "nbformat_minor": 2
}
