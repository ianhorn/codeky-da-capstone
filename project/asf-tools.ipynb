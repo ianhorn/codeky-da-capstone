{
 "cells": [
  {
   "cell_type": "markdown",
   "id": "a377d8e0",
   "metadata": {},
   "source": [
    "#### Water extraction"
   ]
  },
  {
   "cell_type": "code",
   "execution_count": 1,
   "id": "20357562",
   "metadata": {},
   "outputs": [],
   "source": [
    "import os\n",
    "# from hyp3_sdk import HyP3\n",
    "from asf_creds import username, password\n",
    "from hydrosar.flood_map import make_flood_map\n",
    "from hydrosar.water_map import make_water_map\n",
    "from scripts.constants import create_scenes_df\n",
    "\n",
    "# hyp3 = HyP3(username=username, password=password)"
   ]
  },
  {
   "cell_type": "code",
   "execution_count": 2,
   "id": "2c4e5ffb",
   "metadata": {},
   "outputs": [
    {
     "data": {
      "text/html": [
       "<div>\n",
       "<style scoped>\n",
       "    .dataframe tbody tr th:only-of-type {\n",
       "        vertical-align: middle;\n",
       "    }\n",
       "\n",
       "    .dataframe tbody tr th {\n",
       "        vertical-align: top;\n",
       "    }\n",
       "\n",
       "    .dataframe thead th {\n",
       "        text-align: right;\n",
       "    }\n",
       "</style>\n",
       "<table border=\"1\" class=\"dataframe\">\n",
       "  <thead>\n",
       "    <tr style=\"text-align: right;\">\n",
       "      <th></th>\n",
       "      <th>zipfile</th>\n",
       "      <th>link</th>\n",
       "      <th>scene_folder</th>\n",
       "      <th>input_dem</th>\n",
       "      <th>rgb</th>\n",
       "      <th>vv</th>\n",
       "      <th>vh</th>\n",
       "      <th>shapefile</th>\n",
       "    </tr>\n",
       "  </thead>\n",
       "  <tbody>\n",
       "    <tr>\n",
       "      <th>0</th>\n",
       "      <td>S1A_IW_20250124T233956_DVP_RTC10_G_gdufem_8285...</td>\n",
       "      <td>https://ky.box.com/shared/static/oiowba0ne7y0w...</td>\n",
       "      <td>S1A_IW_20250124T233956_DVP_RTC10_G_gdufem_8285</td>\n",
       "      <td>S1A_IW_20250124T233956_DVP_RTC10_G_gdufem_8285...</td>\n",
       "      <td>S1A_IW_20250124T233956_DVP_RTC10_G_gdufem_8285...</td>\n",
       "      <td>S1A_IW_20250124T233956_DVP_RTC10_G_gdufem_8285...</td>\n",
       "      <td>S1A_IW_20250124T233956_DVP_RTC10_G_gdufem_8285...</td>\n",
       "      <td>S1A_IW_20250124T233956_DVP_RTC10_G_gdufem_8285...</td>\n",
       "    </tr>\n",
       "    <tr>\n",
       "      <th>1</th>\n",
       "      <td>S1A_IW_20250217T233955_DVP_RTC10_G_gdufem_E701...</td>\n",
       "      <td>https://ky.box.com/shared/static/81wf3fabzhzsu...</td>\n",
       "      <td>S1A_IW_20250217T233955_DVP_RTC10_G_gdufem_E701</td>\n",
       "      <td>S1A_IW_20250217T233955_DVP_RTC10_G_gdufem_E701...</td>\n",
       "      <td>S1A_IW_20250217T233955_DVP_RTC10_G_gdufem_E701...</td>\n",
       "      <td>S1A_IW_20250217T233955_DVP_RTC10_G_gdufem_E701...</td>\n",
       "      <td>S1A_IW_20250217T233955_DVP_RTC10_G_gdufem_E701...</td>\n",
       "      <td>S1A_IW_20250217T233955_DVP_RTC10_G_gdufem_E701...</td>\n",
       "    </tr>\n",
       "    <tr>\n",
       "      <th>2</th>\n",
       "      <td>dem_processing.zip</td>\n",
       "      <td>https://ky.box.com/shared/static/rz15mqljj1m0t...</td>\n",
       "      <td>dem_processing</td>\n",
       "      <td>dem_processing_dem.tif</td>\n",
       "      <td>dem_processing_rgb.png</td>\n",
       "      <td>dem_processing_vv.tif</td>\n",
       "      <td>dem_processing_vh.tif</td>\n",
       "      <td>dem_processing_shape.shp</td>\n",
       "    </tr>\n",
       "  </tbody>\n",
       "</table>\n",
       "</div>"
      ],
      "text/plain": [
       "                                             zipfile  \\\n",
       "0  S1A_IW_20250124T233956_DVP_RTC10_G_gdufem_8285...   \n",
       "1  S1A_IW_20250217T233955_DVP_RTC10_G_gdufem_E701...   \n",
       "2                                 dem_processing.zip   \n",
       "\n",
       "                                                link  \\\n",
       "0  https://ky.box.com/shared/static/oiowba0ne7y0w...   \n",
       "1  https://ky.box.com/shared/static/81wf3fabzhzsu...   \n",
       "2  https://ky.box.com/shared/static/rz15mqljj1m0t...   \n",
       "\n",
       "                                     scene_folder  \\\n",
       "0  S1A_IW_20250124T233956_DVP_RTC10_G_gdufem_8285   \n",
       "1  S1A_IW_20250217T233955_DVP_RTC10_G_gdufem_E701   \n",
       "2                                  dem_processing   \n",
       "\n",
       "                                           input_dem  \\\n",
       "0  S1A_IW_20250124T233956_DVP_RTC10_G_gdufem_8285...   \n",
       "1  S1A_IW_20250217T233955_DVP_RTC10_G_gdufem_E701...   \n",
       "2                             dem_processing_dem.tif   \n",
       "\n",
       "                                                 rgb  \\\n",
       "0  S1A_IW_20250124T233956_DVP_RTC10_G_gdufem_8285...   \n",
       "1  S1A_IW_20250217T233955_DVP_RTC10_G_gdufem_E701...   \n",
       "2                             dem_processing_rgb.png   \n",
       "\n",
       "                                                  vv  \\\n",
       "0  S1A_IW_20250124T233956_DVP_RTC10_G_gdufem_8285...   \n",
       "1  S1A_IW_20250217T233955_DVP_RTC10_G_gdufem_E701...   \n",
       "2                              dem_processing_vv.tif   \n",
       "\n",
       "                                                  vh  \\\n",
       "0  S1A_IW_20250124T233956_DVP_RTC10_G_gdufem_8285...   \n",
       "1  S1A_IW_20250217T233955_DVP_RTC10_G_gdufem_E701...   \n",
       "2                              dem_processing_vh.tif   \n",
       "\n",
       "                                           shapefile  \n",
       "0  S1A_IW_20250124T233956_DVP_RTC10_G_gdufem_8285...  \n",
       "1  S1A_IW_20250217T233955_DVP_RTC10_G_gdufem_E701...  \n",
       "2                           dem_processing_shape.shp  "
      ]
     },
     "execution_count": 2,
     "metadata": {},
     "output_type": "execute_result"
    }
   ],
   "source": [
    "scene_df = create_scenes_df()\n",
    "scene_df"
   ]
  },
  {
   "cell_type": "markdown",
   "id": "5baab41f",
   "metadata": {},
   "source": [
    "Set up flood processing\n",
    "- variables\n",
    "- create water raster\n",
    "- create flood map"
   ]
  },
  {
   "cell_type": "code",
   "execution_count": null,
   "id": "bf6eecb6",
   "metadata": {},
   "outputs": [],
   "source": [
    "# make sure we have somewhere to park the processed data\n",
    "flood_processing = 'data/crisis_scene_processing'\n",
    "if not os.path.exists(flood_processing):\n",
    "    os.makedirs(flood_processing)\n",
    "\n",
    "# # basis scene processing\n",
    "# base_processing = 'data/base_scene_processing'\n",
    "# if not os.path.exists(base_processing):\n",
    "#     os.makedirs(base_processing)\n",
    "\n",
    "scene_folder = os.path.join('data', scene_df['scene_folder'][1])\n",
    "\n",
    "# flood map variables\n",
    "flood_raster = os.path.join(flood_processing, 'flood_map.tif')\n",
    "vv_raster = os.path.join(scene_folder, scene_df['vv'][1])\n",
    "vh_raster = os.path.join(scene_folder, scene_df['vh'][1])\n",
    "water_extent_raster = os.path.join(flood_processing, 'water_extent_raster.tif')\n",
    "hand_raster = 'data/dem_processing/hand.tif'"
   ]
  },
  {
   "cell_type": "code",
   "execution_count": null,
   "id": "c303fb6c",
   "metadata": {},
   "outputs": [],
   "source": [
    "# make water map\n",
    "make_water_map(\n",
    "    water_extent_raster,\n",
    "    vv_raster,\n",
    "    vh_raster,\n",
    "    hand_raster,\n",
    "    tile_shape=(100, 100),\n",
    "    max_vv_threshold=-15.5,\n",
    "    max_vh_threshold=-23.,\n",
    "    hand_threshold=15.,\n",
    "    hand_fraction=0.8\n",
    "    )"
   ]
  },
  {
   "cell_type": "code",
   "execution_count": null,
   "id": "0495f324",
   "metadata": {},
   "outputs": [],
   "source": [
    "# run make_flood_map function\n",
    "make_flood_map(\n",
    "    out_raster=flood_raster,\n",
    "    vv_raster=vv_raster,\n",
    "    water_raster=water_extent_raster,\n",
    "    hand_raster=hand_raster\n",
    ")"
   ]
  }
 ],
 "metadata": {
  "kernelspec": {
   "display_name": "venv",
   "language": "python",
   "name": "python3"
  },
  "language_info": {
   "codemirror_mode": {
    "name": "ipython",
    "version": 3
   },
   "file_extension": ".py",
   "mimetype": "text/x-python",
   "name": "python",
   "nbconvert_exporter": "python",
   "pygments_lexer": "ipython3",
   "version": "3.13.2"
  }
 },
 "nbformat": 4,
 "nbformat_minor": 5
}
