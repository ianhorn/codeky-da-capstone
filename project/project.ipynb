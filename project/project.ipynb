{
 "cells": [
  {
   "cell_type": "markdown",
   "metadata": {},
   "source": [
    "# Extracting Flooding Areas from NRT Sentinel-1 Satellite Imagery"
   ]
  },
  {
   "cell_type": "code",
   "execution_count": 2,
   "metadata": {},
   "outputs": [],
   "source": [
    "import pandas as pd            # ready geospatial data\n",
    "import os\n",
    "import subprocess              # for multithreading\n",
    "import multiprocessing         #  \"     \"      \"\n",
    "from concurrent.futures import ThreadPoolExecutor\n",
    "from ipyleaflet import Map, basemaps, basemap_to_tiles \n",
    "from ipyleaflet import GeoData, LayersControl, ImageOverlay\n",
    "import geopandas as gpd\n",
    "from sidecar import Sidecar\n",
    "import ipywidgets as widgets     # interactive display"
   ]
  },
  {
   "cell_type": "code",
   "execution_count": 3,
   "metadata": {},
   "outputs": [
    {
     "data": {
      "application/vnd.microsoft.datawrangler.viewer.v0+json": {
       "columns": [
        {
         "name": "index",
         "rawType": "int64",
         "type": "integer"
        },
        {
         "name": "zipfile",
         "rawType": "object",
         "type": "string"
        },
        {
         "name": "link",
         "rawType": "object",
         "type": "string"
        },
        {
         "name": "scene_folder",
         "rawType": "object",
         "type": "string"
        },
        {
         "name": "input_dem",
         "rawType": "object",
         "type": "string"
        },
        {
         "name": "rgb",
         "rawType": "object",
         "type": "string"
        },
        {
         "name": "vv",
         "rawType": "object",
         "type": "string"
        },
        {
         "name": "vh",
         "rawType": "object",
         "type": "string"
        },
        {
         "name": "shapefile",
         "rawType": "object",
         "type": "string"
        }
       ],
       "conversionMethod": "pd.DataFrame",
       "ref": "dca99dd5-1480-4a88-80d5-5f6af5b798cd",
       "rows": [
        [
         "0",
         "S1A_IW_20250205T233956_DVP_RTC10_G_gdufem_246A.zip",
         "https://ky.box.com/shared/static/xwhzpb6entefdhsi8jfhgii1f4ehh6x6.zip",
         "S1A_IW_20250205T233956_DVP_RTC10_G_gdufem_246A",
         "S1A_IW_20250205T233956_DVP_RTC10_G_gdufem_246A/_dem.tif",
         "S1A_IW_20250205T233956_DVP_RTC10_G_gdufem_246A/_rgb.png",
         "S1A_IW_20250205T233956_DVP_RTC10_G_gdufem_246A/_vv.tif",
         "S1A_IW_20250205T233956_DVP_RTC10_G_gdufem_246A/_vh.tif",
         "S1A_IW_20250205T233956_DVP_RTC10_G_gdufem_246A/_shape.shp"
        ],
        [
         "1",
         "S1A_IW_20250217T233955_DVP_RTC10_G_gdufem_E701.zip",
         "https://ky.box.com/shared/static/81wf3fabzhzsux29nhe4ojdaq0qtwp89.zip",
         "S1A_IW_20250217T233955_DVP_RTC10_G_gdufem_E701",
         "S1A_IW_20250217T233955_DVP_RTC10_G_gdufem_E701/_dem.tif",
         "S1A_IW_20250217T233955_DVP_RTC10_G_gdufem_E701/_rgb.png",
         "S1A_IW_20250217T233955_DVP_RTC10_G_gdufem_E701/_vv.tif",
         "S1A_IW_20250217T233955_DVP_RTC10_G_gdufem_E701/_vh.tif",
         "S1A_IW_20250217T233955_DVP_RTC10_G_gdufem_E701/_shape.shp"
        ]
       ],
       "shape": {
        "columns": 8,
        "rows": 2
       }
      },
      "text/html": [
       "<div>\n",
       "<style scoped>\n",
       "    .dataframe tbody tr th:only-of-type {\n",
       "        vertical-align: middle;\n",
       "    }\n",
       "\n",
       "    .dataframe tbody tr th {\n",
       "        vertical-align: top;\n",
       "    }\n",
       "\n",
       "    .dataframe thead th {\n",
       "        text-align: right;\n",
       "    }\n",
       "</style>\n",
       "<table border=\"1\" class=\"dataframe\">\n",
       "  <thead>\n",
       "    <tr style=\"text-align: right;\">\n",
       "      <th></th>\n",
       "      <th>zipfile</th>\n",
       "      <th>link</th>\n",
       "      <th>scene_folder</th>\n",
       "      <th>input_dem</th>\n",
       "      <th>rgb</th>\n",
       "      <th>vv</th>\n",
       "      <th>vh</th>\n",
       "      <th>shapefile</th>\n",
       "    </tr>\n",
       "  </thead>\n",
       "  <tbody>\n",
       "    <tr>\n",
       "      <th>0</th>\n",
       "      <td>S1A_IW_20250205T233956_DVP_RTC10_G_gdufem_246A...</td>\n",
       "      <td>https://ky.box.com/shared/static/xwhzpb6entefd...</td>\n",
       "      <td>S1A_IW_20250205T233956_DVP_RTC10_G_gdufem_246A</td>\n",
       "      <td>S1A_IW_20250205T233956_DVP_RTC10_G_gdufem_246A...</td>\n",
       "      <td>S1A_IW_20250205T233956_DVP_RTC10_G_gdufem_246A...</td>\n",
       "      <td>S1A_IW_20250205T233956_DVP_RTC10_G_gdufem_246A...</td>\n",
       "      <td>S1A_IW_20250205T233956_DVP_RTC10_G_gdufem_246A...</td>\n",
       "      <td>S1A_IW_20250205T233956_DVP_RTC10_G_gdufem_246A...</td>\n",
       "    </tr>\n",
       "    <tr>\n",
       "      <th>1</th>\n",
       "      <td>S1A_IW_20250217T233955_DVP_RTC10_G_gdufem_E701...</td>\n",
       "      <td>https://ky.box.com/shared/static/81wf3fabzhzsu...</td>\n",
       "      <td>S1A_IW_20250217T233955_DVP_RTC10_G_gdufem_E701</td>\n",
       "      <td>S1A_IW_20250217T233955_DVP_RTC10_G_gdufem_E701...</td>\n",
       "      <td>S1A_IW_20250217T233955_DVP_RTC10_G_gdufem_E701...</td>\n",
       "      <td>S1A_IW_20250217T233955_DVP_RTC10_G_gdufem_E701...</td>\n",
       "      <td>S1A_IW_20250217T233955_DVP_RTC10_G_gdufem_E701...</td>\n",
       "      <td>S1A_IW_20250217T233955_DVP_RTC10_G_gdufem_E701...</td>\n",
       "    </tr>\n",
       "  </tbody>\n",
       "</table>\n",
       "</div>"
      ],
      "text/plain": [
       "                                             zipfile  \\\n",
       "0  S1A_IW_20250205T233956_DVP_RTC10_G_gdufem_246A...   \n",
       "1  S1A_IW_20250217T233955_DVP_RTC10_G_gdufem_E701...   \n",
       "\n",
       "                                                link  \\\n",
       "0  https://ky.box.com/shared/static/xwhzpb6entefd...   \n",
       "1  https://ky.box.com/shared/static/81wf3fabzhzsu...   \n",
       "\n",
       "                                     scene_folder  \\\n",
       "0  S1A_IW_20250205T233956_DVP_RTC10_G_gdufem_246A   \n",
       "1  S1A_IW_20250217T233955_DVP_RTC10_G_gdufem_E701   \n",
       "\n",
       "                                           input_dem  \\\n",
       "0  S1A_IW_20250205T233956_DVP_RTC10_G_gdufem_246A...   \n",
       "1  S1A_IW_20250217T233955_DVP_RTC10_G_gdufem_E701...   \n",
       "\n",
       "                                                 rgb  \\\n",
       "0  S1A_IW_20250205T233956_DVP_RTC10_G_gdufem_246A...   \n",
       "1  S1A_IW_20250217T233955_DVP_RTC10_G_gdufem_E701...   \n",
       "\n",
       "                                                  vv  \\\n",
       "0  S1A_IW_20250205T233956_DVP_RTC10_G_gdufem_246A...   \n",
       "1  S1A_IW_20250217T233955_DVP_RTC10_G_gdufem_E701...   \n",
       "\n",
       "                                                  vh  \\\n",
       "0  S1A_IW_20250205T233956_DVP_RTC10_G_gdufem_246A...   \n",
       "1  S1A_IW_20250217T233955_DVP_RTC10_G_gdufem_E701...   \n",
       "\n",
       "                                           shapefile  \n",
       "0  S1A_IW_20250205T233956_DVP_RTC10_G_gdufem_246A...  \n",
       "1  S1A_IW_20250217T233955_DVP_RTC10_G_gdufem_E701...  "
      ]
     },
     "execution_count": 3,
     "metadata": {},
     "output_type": "execute_result"
    }
   ],
   "source": [
    "\"\"\"\n",
    "These files were obtained using the ASF Vertex Data Search.\n",
    "They were submitted for Radio Terrain Correctiom.\n",
    "radiometry: gamma0\n",
    "scale: decibel\n",
    "pixel spacing: 10m\n",
    "\"\"\"\n",
    "\n",
    "box_data = {\n",
    "    'zipfile': ['S1A_IW_20250205T233956_DVP_RTC10_G_gdufem_246A.zip',\n",
    "                'S1A_IW_20250217T233955_DVP_RTC10_G_gdufem_E701.zip'],\n",
    "    'link': ['https://ky.box.com/shared/static/xwhzpb6entefdhsi8jfhgii1f4ehh6x6.zip', \n",
    "             'https://ky.box.com/shared/static/81wf3fabzhzsux29nhe4ojdaq0qtwp89.zip']\n",
    "        }\n",
    "scenes_df = pd.DataFrame(data=box_data)\n",
    "\n",
    "# calculate some fields\n",
    "scenes_df['scene_folder'] = scenes_df['zipfile'].apply(lambda x: os.path.splitext(x)[0])\n",
    "scenes_df['input_dem'] = scenes_df['scene_folder'].apply(lambda x: os.path.join(x, '_dem.tif'))\n",
    "scenes_df['rgb'] = scenes_df['scene_folder'].apply(lambda x: os.path.join(x, '_rgb.png'))\n",
    "scenes_df['vv'] = scenes_df['scene_folder'].apply(lambda x: os.path.join(x, '_vv.tif'))\n",
    "scenes_df['vh'] = scenes_df['scene_folder'].apply(lambda x: os.path.join(x, '_vh.tif'))\n",
    "scenes_df['shapefile'] = scenes_df['scene_folder'].apply(lambda x: os.path.join(x, '_shape.shp'))\n",
    "\n",
    "# print an example\n",
    "scenes_df"
   ]
  },
  {
   "cell_type": "code",
   "execution_count": 4,
   "metadata": {},
   "outputs": [
    {
     "name": "stdout",
     "output_type": "stream",
     "text": [
      "Base Scene Directory:  S1A_IW_20250205T233956_DVP_RTC10_G_gdufem_246A\n",
      "Flood Scene Directory: S1A_IW_20250217T233955_DVP_RTC10_G_gdufem_E701\n"
     ]
    }
   ],
   "source": [
    "base_scene = scenes_df.at[0,'scene_folder']\n",
    "flood_scene = scenes_df.at[1,'scene_folder']\n",
    "\n",
    "print(f'Base Scene Directory:  {base_scene}\\nFlood Scene Directory: {flood_scene}')"
   ]
  },
  {
   "cell_type": "markdown",
   "metadata": {},
   "source": [
    "Function to download files from Box\\* \\*\\*\n",
    "\n",
    "\\* At first I create a function to use the Box download link, but it was corrupting the file and not letting me unzip.  As a last resort, I'm using subprocess.\n",
    "\n",
    "\\*\\* If all else fails, the download links can be used to directly download files and unzip locally"
   ]
  },
  {
   "cell_type": "markdown",
   "metadata": {},
   "source": [
    "---\n",
    "## Downloading"
   ]
  },
  {
   "cell_type": "code",
   "execution_count": 5,
   "metadata": {},
   "outputs": [],
   "source": [
    "def box_download(df):\n",
    "    out_folder = \"data\"\n",
    "    download_zip = os.path.join(out_folder, 'file.zip')\n",
    "    for index, row in scenes_df.iterrows():\n",
    "        link = row['link']\n",
    "        unzipped_folder = row['scene_folder']\n",
    "        unzip_path = os.path.join(out_folder, unzipped_folder)\n",
    "\n",
    "        cmd = f\"curl -L -o {download_zip} {link} && unzip {download_zip} -d {out_folder}\"\n",
    "        \n",
    "        if not os.path.exists(unzip_path):\n",
    "            subprocess.run(cmd, shell=True, check=True)\n",
    "            # delete downloaded zip file.\n",
    "            os.remove(download_zip)\n",
    "        else:\n",
    "            print(f'Extracted Files already exist for \"{unzipped_folder}\"')"
   ]
  },
  {
   "cell_type": "markdown",
   "metadata": {},
   "source": [
    "I don't think using multiprocessing helps now that I'm using a subprocess, but it's not hurting it either.\n",
    "\n",
    "Download could take several minutes, depending upon bandwidth.  Zipped up, the scenes are over 10gb in size each."
   ]
  },
  {
   "cell_type": "code",
   "execution_count": 6,
   "metadata": {},
   "outputs": [
    {
     "name": "stdout",
     "output_type": "stream",
     "text": [
      "Number of threads to use: 7\n",
      "Extracted Files already exist for \"S1A_IW_20250205T233956_DVP_RTC10_G_gdufem_246A\"\n",
      "Extracted Files already exist for \"S1A_IW_20250217T233955_DVP_RTC10_G_gdufem_E701\"\n"
     ]
    }
   ],
   "source": [
    "logical_cores = multiprocessing.cpu_count()\n",
    "# determine number of threads to use for multiprocessing\n",
    "num_workers = int(logical_cores * 0.75)  # rounds down in case not a whole number\n",
    "print(f'Number of threads to use: {num_workers}')\n",
    "\n",
    "with ThreadPoolExecutor(max_workers=num_workers) as executor:\n",
    "    executor.map(box_download(scenes_df))"
   ]
  },
  {
   "cell_type": "markdown",
   "metadata": {},
   "source": [
    "#### Review the README.md.txt file\n",
    "\n",
    "The folders contain several files.  Each image (png or tif) has a corresponding metadata (xml) file.  The folder also includes a shapefile (\\*_shape.\\*) and a google kmz which display a geometry on a map.  There is also a README.md.txt file in each folder that breaks down how to undertand the file name and what is included in the scene folder.  Try \n",
    "removing the *.txt* and open with a Markdown Viewer.  \n",
    "\n",
    "Let's take a look at some of the files to get an idea of what we're looking at."
   ]
  },
  {
   "cell_type": "code",
   "execution_count": 7,
   "metadata": {},
   "outputs": [
    {
     "name": "stdout",
     "output_type": "stream",
     "text": [
      "source projection: EPSG:32616\n",
      "redefined projection: EPSG:4326\n"
     ]
    }
   ],
   "source": [
    "# read in base image shapefile\n",
    "base_shapefile = (f'data/{base_scene}/{base_scene}_shape.shp')\n",
    "\n",
    "# read in shapefile to geodataframe\n",
    "gdf_base_shapefile = gpd.read_file(base_shapefile)\n",
    "print(f'source projection: {gdf_base_shapefile.crs}')\n",
    "\n",
    "# redefine the projection to work with the map\n",
    "gdf_base_shapefile = gdf_base_shapefile.to_crs('EPSG:4326')\n",
    "print(f'redefined projection: {gdf_base_shapefile.crs}')"
   ]
  },
  {
   "cell_type": "code",
   "execution_count": 8,
   "metadata": {},
   "outputs": [],
   "source": [
    "# read in geodataframe to a ipyleaflet GeoData\n",
    "base_geo_data = GeoData(geo_dataframe = gdf_base_shapefile,\n",
    "                   style={'color': 'black', 'fillColor': '#3366cc', 'opacity':0.1, 'weight':1.9, 'dashArray':'2', 'fillOpacity':0.6},\n",
    "                   hover_style={'fillColor': 'red' , 'fillOpacity': 0.2},\n",
    "                   name = 'base Geometry')"
   ]
  },
  {
   "cell_type": "code",
   "execution_count": 9,
   "metadata": {},
   "outputs": [
    {
     "data": {
      "application/vnd.jupyter.widget-view+json": {
       "model_id": "10ce0ebb491f407b9fbbeb4134c60037",
       "version_major": 2,
       "version_minor": 0
      },
      "text/plain": [
       "Map(center=[38, -85.5], controls=(ZoomControl(options=['position', 'zoom_in_text', 'zoom_in_title', 'zoom_out_…"
      ]
     },
     "execution_count": 9,
     "metadata": {},
     "output_type": "execute_result"
    }
   ],
   "source": [
    "m = Map(\n",
    "    basemap=basemap_to_tiles(basemaps.CartoDB.Positron),\n",
    "    center=(38, -85.5),\n",
    "    zoom=7.3\n",
    ")\n",
    "m.add(base_geo_data)\n",
    "# m.add(LayersContol())\n",
    "m\n"
   ]
  },
  {
   "cell_type": "markdown",
   "metadata": {},
   "source": [
    "## TODO\n",
    "\n",
    "Add a section that creates a grid to display several images side by side"
   ]
  },
  {
   "cell_type": "code",
   "execution_count": 10,
   "metadata": {},
   "outputs": [
    {
     "name": "stdout",
     "output_type": "stream",
     "text": [
      "\n",
      "Note how we can see the Ohio River starting near the uppermost right corner,\n",
      "extending to middle on the left.  This is the derived RGB image.  It will\n",
      "not be used for analysis.\n"
     ]
    },
    {
     "data": {
      "application/vnd.jupyter.widget-view+json": {
       "model_id": "adaad58f86e54c058ef1c0a7c0003f07",
       "version_major": 2,
       "version_minor": 0
      },
      "text/plain": [
       "Image(value=b'\\x89PNG\\r\\n\\x1a\\n\\x00\\x00\\x00\\rIHDR\\x00\\x00\\x08\\x00\\x00\\x00\\x05\\xfd\\x08\\x02\\x00\\x00\\x00\\xf5\\x1e/…"
      ]
     },
     "metadata": {},
     "output_type": "display_data"
    }
   ],
   "source": [
    "# display RGB Composite File\n",
    "rgb_png = './data/S1A_IW_20250217T233955_DVP_RTC10_G_gdufem_E701/S1A_IW_20250217T233955_DVP_RTC10_G_gdufem_E701_rgb.png'\n",
    "file = open(rgb_png, \"rb\")\n",
    "image = file.read()\n",
    "image_widget = widgets.Image(\n",
    "    value=image,\n",
    "    format='png',\n",
    "    width=300,\n",
    "    height=400,\n",
    ")\n",
    "print(\"\\nNote how we can see the Ohio River starting near the uppermost right corner,\\nextending to middle on the left.  This is the derived RGB image.  It will\\nnot be used for analysis.\")\n",
    "display(image_widget)"
   ]
  },
  {
   "cell_type": "markdown",
   "metadata": {},
   "source": [
    "---\n",
    "## Processing\n",
    "\n",
    "### Create Functions to process the DEM files of each scene.\n",
    "\n",
    "References: [Whitebox Workflows for Python](https://www.whiteboxgeo.com/manual/wbw-user-manual/book/introduction.html) - QGIS plugin with robust Python API"
   ]
  },
  {
   "cell_type": "markdown",
   "metadata": {},
   "source": [
    "In order to create the HAND, we need to hydrologically condition the DEM file of each scene:\n",
    " - fill voids\n",
    " - smooth\n",
    " - correct for artifacts"
   ]
  },
  {
   "cell_type": "code",
   "execution_count": 11,
   "metadata": {},
   "outputs": [
    {
     "name": "stdout",
     "output_type": "stream",
     "text": [
      "Whitebox Workflows for Python v1.3.3 by Whitebox Geospatial Inc. \n",
      "Developed by Dr. John B. Lindsay, (c) 2022-2024\n",
      "\n",
      "Description:\n",
      "Whitebox Workflows for Python is an advanced geospatial data analysis platform \n",
      "and Python extension module.\n",
      "Available Methods (LicenseType.WbW):\n",
      "1. adaptive_filter                                2. add_point_coordinates_to_table\n",
      "3. aggregate_raster                               4. anova\n",
      "5. ascii_to_las                                   6. aspect\n",
      "7. attribute_correlation                          8. attribute_histogram\n",
      "9. attribute_scattergram                          10. available_functions\n",
      "11. average_flowpath_slope                        12. average_normal_vector_angular_deviation\n",
      "13. average_overlay                               14. average_upslope_flowpath_length\n",
      "15. balance_contrast_enhancement                  16. basins\n",
      "17. bilateral_filter                              18. block_maximum\n",
      "19. block_minimum                                 20. bool_and\n",
      "21. bool_not                                      22. bool_or\n",
      "23. bool_xor                                      24. boundary_shape_complexity\n",
      "25. breach_depressions_least_cost                 26. breach_single_cell_pits\n",
      "27. buffer_raster                                 28. burn_streams_at_roads\n",
      "29. centroid_raster                               30. centroid_vector\n",
      "31. change_vector_analysis                        32. check_in_license\n",
      "33. circular_variance_of_aspect                   34. classify_buildings_in_lidar\n",
      "35. classify_overlap_points                       36. clean_vector\n",
      "37. clip                                          38. clip_lidar_to_polygon\n",
      "39. clip_raster_to_polygon                        40. closing\n",
      "41. clump                                         42. compactness_ratio\n",
      "43. conservative_smoothing_filter                 44. construct_vector_tin\n",
      "45. contours_from_points                          46. contours_from_raster\n",
      "47. convergence_index                             48. convert_nodata_to_zero\n",
      "49. corner_detection                              50. correct_vignetting\n",
      "51. cost_allocation                               52. cost_distance\n",
      "53. cost_pathway                                  54. count_if\n",
      "55. create_colour_composite                       56. create_plane\n",
      "57. crispness_index                               58. cross_tabulation\n",
      "59. csv_points_to_vector                          60. cumulative_distribution\n",
      "61. d8_flow_accum                                 62. d8_mass_flux\n",
      "63. d8_pointer                                    64. depth_in_sink\n",
      "65. deviation_from_mean_elevation                 66. deviation_from_regional_direction\n",
      "67. diff_of_gaussians_filter                      68. difference\n",
      "69. difference_from_mean_elevation                70. dinf_flow_accum\n",
      "71. dinf_mass_flux                                72. dinf_pointer\n",
      "73. direct_decorrelation_stretch                  74. directional_relief\n",
      "75. dissolve                                      76. distance_to_outlet\n",
      "77. diversity_filter                              78. downslope_distance_to_stream\n",
      "79. downslope_flowpath_length                     80. downslope_index\n",
      "81. edge_contamination                            82. edge_density\n",
      "83. edge_preserving_mean_filter                   84. edge_proportion\n",
      "85. elev_relative_to_min_max                      86. elev_relative_to_watershed_min_max\n",
      "87. elevation_above_pit                           88. elevation_above_stream\n",
      "89. elevation_above_stream_euclidean              90. elevation_percentile\n",
      "91. eliminate_coincident_points                   92. elongation_ratio\n",
      "93. embankment_mapping                            94. emboss_filter\n",
      "95. erase                                         96. erase_polygon_from_lidar\n",
      "97. erase_polygon_from_raster                     98. euclidean_allocation\n",
      "99. euclidean_distance                            100. export_table_to_csv\n",
      "101. exposure_towards_wind_flux                   102. extend_vector_lines\n",
      "103. extract_by_attribute                         104. extract_nodes\n",
      "105. extract_raster_values_at_points              106. extract_streams\n",
      "107. extract_valleys                              108. farthest_channel_head\n",
      "109. fast_almost_gaussian_filter                  110. fd8_flow_accum\n",
      "111. fd8_pointer                                  112. feature_preserving_smoothing\n",
      "113. fetch_analysis                               114. fill_burn\n",
      "115. fill_depressions                             116. fill_depressions_planchon_and_darboux\n",
      "117. fill_depressions_wang_and_liu                118. fill_missing_data\n",
      "119. fill_pits                                    120. filter_lidar_classes\n",
      "121. filter_lidar_noise                           122. filter_lidar_scan_angles\n",
      "123. filter_raster_features_by_area               124. filter_vector_features_by_area\n",
      "125. find_flightline_edge_points                  126. find_lowest_or_highest_points\n",
      "127. find_main_stem                               128. find_noflow_cells\n",
      "129. find_parallel_flow                           130. find_patch_edge_cells\n",
      "131. find_ridges                                  132. flatten_lakes\n",
      "133. flightline_overlap                           134. flip_image\n",
      "135. flood_order                                  136. flow_accum_full_workflow\n",
      "137. flow_length_diff                             138. gamma_correction\n",
      "139. gaussian_contrast_stretch                    140. gaussian_curvature\n",
      "141. gaussian_filter                              142. geomorphons\n",
      "143. hack_stream_order                            144. heat_map\n",
      "145. height_above_ground                          146. hexagonal_grid_from_raster_base\n",
      "147. hexagonal_grid_from_vector_base              148. high_pass_filter\n",
      "149. high_pass_median_filter                      150. highest_position\n",
      "151. hillshade                                    152. hillslopes\n",
      "153. histogram_equalization                       154. histogram_matching\n",
      "155. histogram_matching_two_images                156. hole_proportion\n",
      "157. horizon_angle                                158. horton_ratios\n",
      "159. horton_stream_order                          160. hypsometric_analysis\n",
      "161. hypsometrically_tinted_hillshade             162. idw_interpolation\n",
      "163. ihs_to_rgb                                   164. image_autocorrelation\n",
      "165. image_correlation                            166. image_correlation_neighbourhood_analysis\n",
      "167. image_regression                             168. image_stack_profile\n",
      "169. impoundment_size_index                       170. individual_tree_detection\n",
      "171. insert_dams                                  172. integral_image_transform\n",
      "173. intersect                                    174. isobasins\n",
      "175. jenson_snap_pour_points                      176. join_tables\n",
      "177. k_means_clustering                           178. k_nearest_mean_filter\n",
      "179. kappa_index                                  180. ks_normality_test\n",
      "181. laplacian_filter                             182. laplacian_of_gaussians_filter\n",
      "183. las_to_ascii                                 184. las_to_shapefile\n",
      "185. layer_footprint_raster                       186. layer_footprint_vector\n",
      "187. lee_filter                                   188. length_of_upstream_channels\n",
      "189. lidar_block_maximum                          190. lidar_block_minimum\n",
      "191. lidar_classify_subset                        192. lidar_colourize\n",
      "193. lidar_construct_vector_tin                   194. lidar_digital_surface_model\n",
      "195. lidar_elevation_slice                        196. lidar_ground_point_filter\n",
      "197. lidar_hex_bin                                198. lidar_hillshade\n",
      "199. lidar_histogram                              200. lidar_idw_interpolation\n",
      "201. lidar_info                                   202. lidar_join\n",
      "203. lidar_kappa                                  204. lidar_nearest_neighbour_gridding\n",
      "205. lidar_point_density                          206. lidar_point_stats\n",
      "207. lidar_radial_basis_function_interpolation    208. lidar_ransac_planes\n",
      "209. lidar_remove_outliers                        210. lidar_rooftop_analysis\n",
      "211. lidar_segmentation                           212. lidar_segmentation_based_filter\n",
      "213. lidar_shift                                  214. lidar_thin\n",
      "215. lidar_thin_high_density                      216. lidar_tile\n",
      "217. lidar_tile_footprint                         218. lidar_tin_gridding\n",
      "219. lidar_tophat_transform                       220. line_detection_filter\n",
      "221. line_intersections                           222. line_thinning\n",
      "223. linearity_index                              224. lines_to_polygons\n",
      "225. list_unique_values                           226. list_unique_values_raster\n",
      "227. long_profile                                 228. long_profile_from_points\n",
      "229. longest_flowpath                             230. lowest_position\n",
      "231. majority_filter                              232. map_off_terrain_objects\n",
      "233. max_absolute_overlay                         234. max_anisotropy_dev\n",
      "235. max_anisotropy_dev_signature                 236. max_branch_length\n",
      "237. max_difference_from_mean                     238. max_downslope_elev_change\n",
      "239. max_elevation_dev_signature                  240. max_elevation_deviation\n",
      "241. max_overlay                                  242. max_upslope_elev_change\n",
      "243. max_upslope_flowpath_length                  244. max_upslope_value\n",
      "245. maximal_curvature                            246. maximum_filter\n",
      "247. mdinf_flow_accum                             248. mean_curvature\n",
      "249. mean_filter                                  250. median_filter\n",
      "251. medoid                                       252. merge_line_segments\n",
      "253. merge_table_with_csv                         254. merge_vectors\n",
      "255. min_absolute_overlay                         256. min_downslope_elev_change\n",
      "257. min_max_contrast_stretch                     258. min_overlay\n",
      "259. minimal_curvature                            260. minimum_bounding_box\n",
      "261. minimum_bounding_circle                      262. minimum_bounding_envelope\n",
      "263. minimum_convex_hull                          264. minimum_filter\n",
      "265. modified_k_means_clustering                  266. modified_shepard_interpolation\n",
      "267. modify_nodata_value                          268. mosaic\n",
      "269. mosaic_with_feathering                       270. multidirectional_hillshade\n",
      "271. multipart_to_singlepart                      272. multiply_overlay\n",
      "273. multiscale_elevated_index                    274. multiscale_elevation_percentile\n",
      "275. multiscale_low_lying_index                   276. multiscale_roughness\n",
      "277. multiscale_roughness_signature               278. multiscale_std_dev_normals\n",
      "279. multiscale_std_dev_normals_signature         280. multiscale_topographic_position_image\n",
      "281. narrowness_index                             282. natural_neighbour_interpolation\n",
      "283. nearest_neighbour_interpolation              284. new_lidar\n",
      "285. new_raster                                   286. new_raster_from_base_raster\n",
      "287. new_raster_from_base_vector                  288. new_vector\n",
      "289. normal_vectors                               290. normalize_lidar\n",
      "291. normalized_difference_index                  292. num_downslope_neighbours\n",
      "293. num_inflowing_neighbours                     294. olympic_filter\n",
      "295. opening                                      296. otsu_thresholding\n",
      "297. paired_sample_t_test                         298. panchromatic_sharpening\n",
      "299. patch_orientation                            300. pennock_landform_classification\n",
      "301. percent_elev_range                           302. percent_equal_to\n",
      "303. percent_greater_than                         304. percent_less_than\n",
      "305. percentage_contrast_stretch                  306. percentile_filter\n",
      "307. perimeter_area_ratio                         308. pick_from_list\n",
      "309. plan_curvature                               310. polygon_area\n",
      "311. polygon_long_axis                            312. polygon_perimeter\n",
      "313. polygon_short_axis                           314. polygonize\n",
      "315. polygons_to_lines                            316. prewitt_filter\n",
      "317. principal_component_analysis                 318. print_geotiff_tags\n",
      "319. profile                                      320. profile_curvature\n",
      "321. qin_flow_accumulation                        322. quantiles\n",
      "323. quinn_flow_accumulation                      324. radial_basis_function_interpolation\n",
      "325. radius_of_gyration                           326. raise_walls\n",
      "327. random_field                                 328. random_sample\n",
      "329. range_filter                                 330. raster_area\n",
      "331. raster_calculator                            332. raster_cell_assignment\n",
      "333. raster_histogram                             334. raster_perimeter\n",
      "335. raster_streams_to_vector                     336. raster_summary_stats\n",
      "337. raster_to_vector_lines                       338. raster_to_vector_points\n",
      "339. raster_to_vector_polygons                    340. rasterize_streams\n",
      "341. read_lidar                                   342. read_lidars\n",
      "343. read_raster                                  344. read_rasters\n",
      "345. read_vector                                  346. read_vectors\n",
      "347. reciprocal                                   348. reclass\n",
      "349. reclass_equal_interval                       350. rectangular_grid_from_raster_base\n",
      "351. rectangular_grid_from_vector_base            352. reinitialize_attribute_table\n",
      "353. related_circumscribing_circle                354. relative_aspect\n",
      "355. relative_stream_power_index                  356. relative_topographic_position\n",
      "357. remove_duplicates                            358. remove_off_terrain_objects\n",
      "359. remove_polygon_holes                         360. remove_short_streams\n",
      "361. remove_spurs                                 362. repair_stream_vector_topology\n",
      "363. resample                                     364. rescale_value_range\n",
      "365. rgb_to_ihs                                   366. rho8_flow_accum\n",
      "367. rho8_pointer                                 368. roberts_cross_filter\n",
      "369. root_mean_square_error                       370. ruggedness_index\n",
      "371. scharr_filter                                372. sediment_transport_index\n",
      "373. select_tiles_by_polygon                      374. set_nodata_value\n",
      "375. shape_complexity_index_raster                376. shape_complexity_index_vector\n",
      "377. shreve_stream_magnitude                      378. sigmoidal_contrast_stretch\n",
      "379. singlepart_to_multipart                      380. sink\n",
      "381. slope                                        382. slope_vs_elev_plot\n",
      "383. smooth_vectors                               384. snap_pour_points\n",
      "385. sobel_filter                                 386. spherical_std_dev_of_normals\n",
      "387. split_colour_composite                       388. split_vector_lines\n",
      "389. split_with_lines                             390. standard_deviation_contrast_stretch\n",
      "391. standard_deviation_filter                    392. standard_deviation_of_slope\n",
      "393. standard_deviation_overlay                   394. stochastic_depression_analysis\n",
      "395. strahler_order_basins                        396. strahler_stream_order\n",
      "397. stream_link_class                            398. stream_link_identifier\n",
      "399. stream_link_length                           400. stream_link_slope\n",
      "401. stream_slope_continuous                      402. subbasins\n",
      "403. sum_overlay                                  404. surface_area_ratio\n",
      "405. symmetrical_difference                       406. tangential_curvature\n",
      "407. thicken_raster_line                          408. time_in_daylight\n",
      "409. tin_interpolation                            410. tophat_transform\n",
      "411. topographic_hachures                         412. topological_stream_order\n",
      "413. total_curvature                              414. total_filter\n",
      "415. trace_downslope_flowpaths                    416. travelling_salesman_problem\n",
      "417. trend_surface                                418. trend_surface_vector_points\n",
      "419. tributary_identifier                         420. turning_bands_simulation\n",
      "421. two_sample_ks_test                           422. union\n",
      "423. unnest_basins                                424. unsharp_masking\n",
      "425. update_nodata_cells                          426. upslope_depression_storage\n",
      "427. user_defined_weights_filter                  428. vector_hex_binning\n",
      "429. vector_lines_to_raster                       430. vector_points_to_raster\n",
      "431. vector_polygons_to_raster                    432. vector_stream_network_analysis\n",
      "433. version                                      434. viewshed\n",
      "435. visibility_index                             436. voronoi_diagram\n",
      "437. watershed                                    438. watershed_from_raster_pour_points\n",
      "439. weighted_overlay                             440. weighted_sum\n",
      "441. wetness_index                                442. wilcoxon_signed_rank_test\n",
      "443. write_function_memory_insertion              444. write_lidar\n",
      "445. write_raster                                 446. write_text\n",
      "447. write_vector                                 448. z_scores\n",
      "449. zonal_statistics                             \n"
     ]
    }
   ],
   "source": [
    "# set up Whitebox Environment, get available functions\n",
    "from whitebox_workflows import WbEnvironment\n",
    "\n",
    "wbe = WbEnvironment()\n",
    "print(wbe.version())\n",
    "\n",
    "wbe.available_functions()"
   ]
  },
  {
   "cell_type": "code",
   "execution_count": 12,
   "metadata": {},
   "outputs": [
    {
     "name": "stdout",
     "output_type": "stream",
     "text": [
      "S1A_IW_20250205T233956_DVP_RTC10_G_gdufem_246A\n",
      "S1A_IW_20250217T233955_DVP_RTC10_G_gdufem_E701\n"
     ]
    }
   ],
   "source": [
    "for index, row in scenes_df.iterrows():\n",
    "    print(row['scene_folder'])"
   ]
  }
 ],
 "metadata": {
  "kernelspec": {
   "display_name": "venv",
   "language": "python",
   "name": "python3"
  },
  "language_info": {
   "codemirror_mode": {
    "name": "ipython",
    "version": 3
   },
   "file_extension": ".py",
   "mimetype": "text/x-python",
   "name": "python",
   "nbconvert_exporter": "python",
   "pygments_lexer": "ipython3",
   "version": "3.13.2"
  }
 },
 "nbformat": 4,
 "nbformat_minor": 2
}
