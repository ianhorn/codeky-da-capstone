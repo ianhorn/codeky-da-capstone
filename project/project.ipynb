{
 "cells": [
  {
   "cell_type": "markdown",
   "metadata": {},
   "source": [
    "# Extracting Flooding Areas from NRT Sentinel-1 Satellite Imagery"
   ]
  },
  {
   "cell_type": "code",
   "execution_count": 1,
   "metadata": {},
   "outputs": [],
   "source": [
    "import pandas as pd\n",
    "import os\n",
    "import subprocess\n",
    "import multiprocessing\n",
    "from concurrent.futures import ThreadPoolExecutor"
   ]
  },
  {
   "cell_type": "code",
   "execution_count": null,
   "metadata": {},
   "outputs": [
    {
     "name": "stdout",
     "output_type": "stream",
     "text": [
      "Base Image: S1A_IW_20250205T233956_DVP_RTC10_G_gduned_DD97\n",
      "Flood Image: S1A_IW_20250217T233955_DVR_RTC10_G_gduned_0491\n"
     ]
    }
   ],
   "source": [
    "\"\"\"\n",
    "These files were obtained using the ASF Vertex Data Search.\n",
    "They were submitted for Radio Terrain Correctiom.\n",
    "radiometry: gamma0\n",
    "scale: decibel\n",
    "pixel spacing: 10m\n",
    "\"\"\"\n",
    "\n",
    "box_data = {\n",
    "    'zipfile': ['S1A_IW_20250205T233956_DVP_RTC10_G_gduned_DD97.zip',\n",
    "                'S1A_IW_20250217T233955_DVR_RTC10_G_gduned_0491.zip'],\n",
    "    'link': ['https://ky.box.com/shared/static/2w2x6sj97x2trg0gv9az6k16o0v9zgbl.zip', \n",
    "             'https://ky.box.com/shared/static/w3zruxeczm2zpl9mepixbpp6nxszxzg1.zip']\n",
    "    }\n",
    "\n",
    "df = pd.DataFrame(data=box_data)\n",
    "\n",
    "base_image = df.at[0,'zipfile']\n",
    "flood_image = df.at[1, 'zipfile']\n",
    "print(f'Base Image: {os.path.splitext(base_image)[0]}\\nFlood Image: {os.path.splitext(flood_image)[0]}')"
   ]
  },
  {
   "cell_type": "markdown",
   "metadata": {},
   "source": [
    "Function to download files from Box\\* \\*\\*\n",
    "\n",
    "\\* At first I create a function to use the Box download link, but it was corrupting the file and not letting me unzip.  As a last resort, I'm using subprocess.\n",
    "\n",
    "\\*\\* If all else fails, the download links can be used to directly download files and unzip locally"
   ]
  },
  {
   "cell_type": "markdown",
   "metadata": {},
   "source": [
    "---\n",
    "## Downloading"
   ]
  },
  {
   "cell_type": "code",
   "execution_count": null,
   "metadata": {},
   "outputs": [],
   "source": [
    "def box_download(df):\n",
    "    out_folder = \"data\"\n",
    "    download_zip = os.path.join(out_folder, 'file.zip')\n",
    "    for row_index, row in df.iterrows():\n",
    "        link = row['link']\n",
    "        unzipped_folder = os.path.splitext(row['zipfile'])[0]  # get basename of zip file\n",
    "        unzip_path = os.path.join(out_folder, unzipped_folder)\n",
    "\n",
    "        cmd = f\"curl -L -o {download_zip} {link} && unzip {download_zip} -d {unzip_path}\"\n",
    "        \n",
    "        if not os.path.exists(unzip_path):\n",
    "            subprocess.run(cmd, shell=True, check=True)\n",
    "            # delete downloaded zip file.\n",
    "            os.remove(download_zip)\n",
    "        else:\n",
    "            print(f'Extracted Files already exist for \"{unzipped_folder}\"')"
   ]
  },
  {
   "cell_type": "markdown",
   "metadata": {},
   "source": [
    "I don't think using multiprocessing helps now that I'm using a subprocess, but it's not hurting it either.\n",
    "\n",
    "Download could take several minutes (6 for me) depending upon bandwidth."
   ]
  },
  {
   "cell_type": "code",
   "execution_count": 4,
   "metadata": {},
   "outputs": [
    {
     "name": "stdout",
     "output_type": "stream",
     "text": [
      "Number of threads to use: 7\n"
     ]
    },
    {
     "name": "stderr",
     "output_type": "stream",
     "text": [
      "  % Total    % Received % Xferd  Average Speed   Time    Time     Time  Current\n",
      "                                 Dload  Upload   Total   Spent    Left  Speed\n",
      "  0     0    0     0    0     0      0      0 --:--:-- --:--:-- --:--:--     0\n",
      "  0     0    0     0    0     0      0      0 --:--:-- --:--:-- --:--:--     0\n",
      "100    10    0    10    0     0      9      0 --:--:--  0:00:01 --:--:--    15\n",
      "100 4905M  100 4905M    0     0  28.9M      0  0:02:49  0:02:49 --:--:-- 36.9M\n",
      "caution: filename not matched:  -\n",
      "caution: filename not matched:  d\n",
      "caution: filename not matched:  data/S1A_IW_20250205T233956_DVP_RTC10_G_gduned_DD97\n"
     ]
    },
    {
     "name": "stdout",
     "output_type": "stream",
     "text": [
      "Archive:  data/file.zip\n"
     ]
    },
    {
     "ename": "CalledProcessError",
     "evalue": "Command 'curl -L -o data/file.zip https://ky.box.com/shared/static/2w2x6sj97x2trg0gv9az6k16o0v9zgbl.zip && unzip data/file.zip - d data/S1A_IW_20250205T233956_DVP_RTC10_G_gduned_DD97' returned non-zero exit status 11.",
     "output_type": "error",
     "traceback": [
      "\u001b[31m---------------------------------------------------------------------------\u001b[39m",
      "\u001b[31mCalledProcessError\u001b[39m                        Traceback (most recent call last)",
      "\u001b[36mCell\u001b[39m\u001b[36m \u001b[39m\u001b[32mIn[4]\u001b[39m\u001b[32m, line 7\u001b[39m\n\u001b[32m      4\u001b[39m \u001b[38;5;28mprint\u001b[39m(\u001b[33mf\u001b[39m\u001b[33m'\u001b[39m\u001b[33mNumber of threads to use: \u001b[39m\u001b[38;5;132;01m{\u001b[39;00mnum_workers\u001b[38;5;132;01m}\u001b[39;00m\u001b[33m'\u001b[39m)\n\u001b[32m      6\u001b[39m \u001b[38;5;28;01mwith\u001b[39;00m ThreadPoolExecutor(max_workers=num_workers) \u001b[38;5;28;01mas\u001b[39;00m executor:\n\u001b[32m----> \u001b[39m\u001b[32m7\u001b[39m     executor.map(\u001b[43mbox_download\u001b[49m\u001b[43m(\u001b[49m\u001b[43mdf\u001b[49m\u001b[43m)\u001b[49m)\n",
      "\u001b[36mCell\u001b[39m\u001b[36m \u001b[39m\u001b[32mIn[3]\u001b[39m\u001b[32m, line 12\u001b[39m, in \u001b[36mbox_download\u001b[39m\u001b[34m(df)\u001b[39m\n\u001b[32m      9\u001b[39m cmd = \u001b[33mf\u001b[39m\u001b[33m\"\u001b[39m\u001b[33mcurl -L -o \u001b[39m\u001b[38;5;132;01m{\u001b[39;00mdownload_zip\u001b[38;5;132;01m}\u001b[39;00m\u001b[33m \u001b[39m\u001b[38;5;132;01m{\u001b[39;00mlink\u001b[38;5;132;01m}\u001b[39;00m\u001b[33m && unzip \u001b[39m\u001b[38;5;132;01m{\u001b[39;00mdownload_zip\u001b[38;5;132;01m}\u001b[39;00m\u001b[33m - d \u001b[39m\u001b[38;5;132;01m{\u001b[39;00munzip_path\u001b[38;5;132;01m}\u001b[39;00m\u001b[33m\"\u001b[39m\n\u001b[32m     11\u001b[39m \u001b[38;5;28;01mif\u001b[39;00m \u001b[38;5;129;01mnot\u001b[39;00m os.path.exists(unzip_path):\n\u001b[32m---> \u001b[39m\u001b[32m12\u001b[39m     \u001b[43msubprocess\u001b[49m\u001b[43m.\u001b[49m\u001b[43mrun\u001b[49m\u001b[43m(\u001b[49m\u001b[43mcmd\u001b[49m\u001b[43m,\u001b[49m\u001b[43m \u001b[49m\u001b[43mshell\u001b[49m\u001b[43m=\u001b[49m\u001b[38;5;28;43;01mTrue\u001b[39;49;00m\u001b[43m,\u001b[49m\u001b[43m \u001b[49m\u001b[43mcheck\u001b[49m\u001b[43m=\u001b[49m\u001b[38;5;28;43;01mTrue\u001b[39;49;00m\u001b[43m)\u001b[49m\n\u001b[32m     13\u001b[39m     \u001b[38;5;66;03m# delete downloaded zip file.\u001b[39;00m\n\u001b[32m     14\u001b[39m     os.remove(download_zip)\n",
      "\u001b[36mFile \u001b[39m\u001b[32m/opt/homebrew/Cellar/python@3.13/3.13.2/Frameworks/Python.framework/Versions/3.13/lib/python3.13/subprocess.py:579\u001b[39m, in \u001b[36mrun\u001b[39m\u001b[34m(input, capture_output, timeout, check, *popenargs, **kwargs)\u001b[39m\n\u001b[32m    577\u001b[39m     retcode = process.poll()\n\u001b[32m    578\u001b[39m     \u001b[38;5;28;01mif\u001b[39;00m check \u001b[38;5;129;01mand\u001b[39;00m retcode:\n\u001b[32m--> \u001b[39m\u001b[32m579\u001b[39m         \u001b[38;5;28;01mraise\u001b[39;00m CalledProcessError(retcode, process.args,\n\u001b[32m    580\u001b[39m                                  output=stdout, stderr=stderr)\n\u001b[32m    581\u001b[39m \u001b[38;5;28;01mreturn\u001b[39;00m CompletedProcess(process.args, retcode, stdout, stderr)\n",
      "\u001b[31mCalledProcessError\u001b[39m: Command 'curl -L -o data/file.zip https://ky.box.com/shared/static/2w2x6sj97x2trg0gv9az6k16o0v9zgbl.zip && unzip data/file.zip - d data/S1A_IW_20250205T233956_DVP_RTC10_G_gduned_DD97' returned non-zero exit status 11."
     ]
    }
   ],
   "source": [
    "logical_cores = multiprocessing.cpu_count()\n",
    "# determine number of threads to use for multiprocessing\n",
    "num_workers = int(logical_cores * 0.75)  # rounds down in case not a whole number\n",
    "print(f'Number of threads to use: {num_workers}')\n",
    "\n",
    "with ThreadPoolExecutor(max_workers=num_workers) as executor:\n",
    "    executor.map(box_download(df))"
   ]
  },
  {
   "cell_type": "markdown",
   "metadata": {},
   "source": [
    "---\n",
    "## Processing"
   ]
  }
 ],
 "metadata": {
  "kernelspec": {
   "display_name": "venv",
   "language": "python",
   "name": "python3"
  },
  "language_info": {
   "codemirror_mode": {
    "name": "ipython",
    "version": 3
   },
   "file_extension": ".py",
   "mimetype": "text/x-python",
   "name": "python",
   "nbconvert_exporter": "python",
   "pygments_lexer": "ipython3",
   "version": "3.13.2"
  }
 },
 "nbformat": 4,
 "nbformat_minor": 2
}
