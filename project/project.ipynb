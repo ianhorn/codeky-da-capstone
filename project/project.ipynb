{
 "cells": [
  {
   "cell_type": "markdown",
   "metadata": {},
   "source": [
    "# Extracting Flooding Areas from NRT Sentinel-1 Satellite Imagery"
   ]
  },
  {
   "cell_type": "code",
   "execution_count": 1,
   "metadata": {},
   "outputs": [],
   "source": [
    "import os\n",
    "import pandas as pd                 \n",
    "import geopandas as gpd                                             # read geospatial data\n",
    "import dataretrieval.nwis as nwis  \n",
    "import matplotlib.pyplot as plt\n",
    "import subprocess                                                   # to run commandline commands\n",
    "import multiprocessing                                              # get number of cores\n",
    "from ipyleaflet import Map, basemaps, basemap_to_tiles \n",
    "from ipyleaflet import GeoData, LayersControl, ImageOverlay\n",
    "import ipywidgets as widgets                                        # interactive display\n",
    "from hydrosar.flood_map import make_flood_map"
   ]
  },
  {
   "cell_type": "code",
   "execution_count": 2,
   "metadata": {},
   "outputs": [
    {
     "name": "stdout",
     "output_type": "stream",
     "text": [
      "Number of threads to use: 8\n"
     ]
    }
   ],
   "source": [
    "# get number of cores\n",
    "logical_cores = multiprocessing.cpu_count()\n",
    "num_workers = int(logical_cores * 0.8)  # rounds down in case not a whole number\n",
    "print(f'Number of threads to use: {num_workers}')"
   ]
  },
  {
   "cell_type": "markdown",
   "metadata": {},
   "source": [
    "## Review the water data\n",
    "\n",
    "Use the [USGS Water Services Instantaneous API](https://waterservices.usgs.gov/test-tools/?service=iv&siteType=&statTypeCd=all&major-filters=sites&format=json&date-type=type-none&statReportType=daily&statYearType=calendar&missingData=off&siteStatus=all&siteNameMatchOperator=start) to retreive data for a USGS Gage in Frankfort, Kentucky. \n",
    "\n",
    "Dataretrieval Python Documentation:\n",
    "    [https://doi-usgs.github.io/dataretrieval-python/index.html](https://doi-usgs.github.io/dataretrieval-python/index.html)  \n",
    "    I will used the dataretrievel.nwis.get_iv"
   ]
  },
  {
   "cell_type": "code",
   "execution_count": 3,
   "metadata": {},
   "outputs": [],
   "source": [
    "# set up variables for the instantaneous values (iv)\n",
    "# query ~60 days of data\n",
    "sites= '03287500'                      # site number for USGS Gage in Frankfort\n",
    "start = '2025-01-15'                   # filter for the range of start date\n",
    "end = '2025-03-15'                     # and end data\n",
    "parameterCd = [\"00060\", \"00065\"]       # parameter codes for gage discharge in cubic feet/second\n",
    "                                       # and height in feet                                       "
   ]
  },
  {
   "cell_type": "code",
   "execution_count": 4,
   "metadata": {},
   "outputs": [
    {
     "name": "stdout",
     "output_type": "stream",
     "text": [
      "Metadata Link: NWIS_Metadata(url=https://waterservices.usgs.gov/nwis/iv?format=json&parameterCd=00060%2C00065&startDT=2025-01-15&endDT=2025-03-15&sites=03287500)\n",
      "Index(['site_no', '00060', '00060_cd', '00065', '00065_cd'], dtype='object')\n",
      "The stream gage table has 5 rows and 5756 colummns\n"
     ]
    }
   ],
   "source": [
    "# create a metadata link and dataframe\n",
    "water_df, water_md = nwis.get_iv(\n",
    "    sites=sites,\n",
    "    start=start,\n",
    "    end=end,\n",
    "    parameterCd=parameterCd,\n",
    "    multi_index=True,\n",
    ")\n",
    "print(f'Metadata Link: {water_md}')\n",
    "print(water_df.columns)\n",
    "print(f'The stream gage table has {water_df.shape[1]} rows and {water_df.shape[0]} colummns')"
   ]
  },
  {
   "cell_type": "markdown",
   "metadata": {},
   "source": [
    "#### Dataframe cleaning\n",
    "- drop columns\n",
    "- rename columns\n",
    "- reset index\n",
    "- convert datatime to date"
   ]
  },
  {
   "cell_type": "code",
   "execution_count": 5,
   "metadata": {},
   "outputs": [],
   "source": [
    "def clean_water_df(df):\n",
    "    # Drop site_no and columns that end in cd\n",
    "    cols_to_drop = ['site_no','00060_cd', '00065_cd']\n",
    "    df = df.drop(columns=cols_to_drop, axis=1)\n",
    "\n",
    "    # rename columns\n",
    "    cols_to_rename = {'00060': 'discharge (cubic feet)', '00065': 'stream height (feet)'}\n",
    "    df = df.rename(columns=cols_to_rename)\n",
    "\n",
    "    # reset index so we can use datetime\n",
    "    df = df.reset_index()           \n",
    "    df['date'] = pd.to_datetime(df['datetime'], errors='coerce').dt.date\n",
    "    df\n",
    "\n",
    "    new_df = df.iloc[:, [3, 2, 1]]\n",
    "    new_df\n",
    "\n",
    "    return new_df"
   ]
  },
  {
   "cell_type": "code",
   "execution_count": 6,
   "metadata": {},
   "outputs": [],
   "source": [
    "# call function to clean\n",
    "clean_water_df = clean_water_df(water_df)"
   ]
  },
  {
   "cell_type": "code",
   "execution_count": 7,
   "metadata": {},
   "outputs": [
    {
     "name": "stdout",
     "output_type": "stream",
     "text": [
      "\n",
      "date                       object\n",
      "stream height (feet)      float64\n",
      "discharge (cubic feet)    float64\n",
      "dtype: object\n"
     ]
    },
    {
     "data": {
      "text/html": [
       "<div>\n",
       "<style scoped>\n",
       "    .dataframe tbody tr th:only-of-type {\n",
       "        vertical-align: middle;\n",
       "    }\n",
       "\n",
       "    .dataframe tbody tr th {\n",
       "        vertical-align: top;\n",
       "    }\n",
       "\n",
       "    .dataframe thead th {\n",
       "        text-align: right;\n",
       "    }\n",
       "</style>\n",
       "<table border=\"1\" class=\"dataframe\">\n",
       "  <thead>\n",
       "    <tr style=\"text-align: right;\">\n",
       "      <th></th>\n",
       "      <th>date</th>\n",
       "      <th>stream height (feet)</th>\n",
       "      <th>discharge (cubic feet)</th>\n",
       "    </tr>\n",
       "  </thead>\n",
       "  <tbody>\n",
       "    <tr>\n",
       "      <th>0</th>\n",
       "      <td>2025-01-15</td>\n",
       "      <td>9.17</td>\n",
       "      <td>7490.0</td>\n",
       "    </tr>\n",
       "  </tbody>\n",
       "</table>\n",
       "</div>"
      ],
      "text/plain": [
       "         date  stream height (feet)  discharge (cubic feet)\n",
       "0  2025-01-15                  9.17                  7490.0"
      ]
     },
     "execution_count": 7,
     "metadata": {},
     "output_type": "execute_result"
    }
   ],
   "source": [
    "print(f'\\n{clean_water_df.dtypes}')         # check dtype\n",
    "clean_water_df.head(1)                      # See actual data"
   ]
  },
  {
   "cell_type": "markdown",
   "metadata": {},
   "source": [
    "#### Group the data by date and return max value for stream height and discharge for that day. "
   ]
  },
  {
   "cell_type": "code",
   "execution_count": 8,
   "metadata": {},
   "outputs": [
    {
     "name": "stdout",
     "output_type": "stream",
     "text": [
      "The new dataframe has 3 columns and 61 rows.\n"
     ]
    },
    {
     "data": {
      "text/html": [
       "<div>\n",
       "<style scoped>\n",
       "    .dataframe tbody tr th:only-of-type {\n",
       "        vertical-align: middle;\n",
       "    }\n",
       "\n",
       "    .dataframe tbody tr th {\n",
       "        vertical-align: top;\n",
       "    }\n",
       "\n",
       "    .dataframe thead th {\n",
       "        text-align: right;\n",
       "    }\n",
       "</style>\n",
       "<table border=\"1\" class=\"dataframe\">\n",
       "  <thead>\n",
       "    <tr style=\"text-align: right;\">\n",
       "      <th></th>\n",
       "      <th>date</th>\n",
       "      <th>stream height (feet)</th>\n",
       "      <th>discharge (cubic feet)</th>\n",
       "    </tr>\n",
       "  </thead>\n",
       "  <tbody>\n",
       "    <tr>\n",
       "      <th>58</th>\n",
       "      <td>2025-03-14</td>\n",
       "      <td>8.93</td>\n",
       "      <td>6580.0</td>\n",
       "    </tr>\n",
       "    <tr>\n",
       "      <th>59</th>\n",
       "      <td>2025-03-15</td>\n",
       "      <td>9.42</td>\n",
       "      <td>8490.0</td>\n",
       "    </tr>\n",
       "    <tr>\n",
       "      <th>60</th>\n",
       "      <td>2025-03-16</td>\n",
       "      <td>11.29</td>\n",
       "      <td>18200.0</td>\n",
       "    </tr>\n",
       "  </tbody>\n",
       "</table>\n",
       "</div>"
      ],
      "text/plain": [
       "          date  stream height (feet)  discharge (cubic feet)\n",
       "58  2025-03-14                  8.93                  6580.0\n",
       "59  2025-03-15                  9.42                  8490.0\n",
       "60  2025-03-16                 11.29                 18200.0"
      ]
     },
     "execution_count": 8,
     "metadata": {},
     "output_type": "execute_result"
    }
   ],
   "source": [
    "clean_water_df_groupby = clean_water_df.groupby('date', as_index=False).agg({\n",
    "    'stream height (feet)': 'max',\n",
    "    'discharge (cubic feet)': 'max'\n",
    "})\n",
    "print(f'The new dataframe has {clean_water_df_groupby.shape[1]} columns and {clean_water_df_groupby.shape[0]} rows.')\n",
    "clean_water_df_groupby.tail(3)"
   ]
  },
  {
   "cell_type": "markdown",
   "metadata": {},
   "source": [
    "#### Plot the data"
   ]
  },
  {
   "cell_type": "code",
   "execution_count": 9,
   "metadata": {},
   "outputs": [
    {
     "data": {
      "image/png": "[encoded data removed]",
      "text/plain": [
       "<Figure size 800x800 with 2 Axes>"
      ]
     },
     "metadata": {},
     "output_type": "display_data"
    }
   ],
   "source": [
    "gage_data = clean_water_df_groupby\n",
    "\n",
    "# have the plot read date as datetime, otherwise it looks messy\n",
    "gage_data['date'] = pd.to_datetime(gage_data['date'])\n",
    "\n",
    "# set x and y values\n",
    "x = gage_data['date']\n",
    "y1 = gage_data['stream height (feet)']\n",
    "y2 = gage_data['discharge (cubic feet)']\n",
    "\n",
    "fig,ax = plt.subplots(figsize=(8,8))\n",
    "\n",
    "ax.plot(x, y1, color = 'b', label='Stream Height (feet)')\n",
    "ax2 = ax.twinx()\n",
    "ax2.plot(x,y2, color='r', label='Discharge (cubic feet)')\n",
    "ax.set_xlabel('Date')\n",
    "ax.set_title('Stream Height & Discharge Over Time')\n",
    "\n",
    "# Add legends\n",
    "ax.legend(loc='upper left')  \n",
    "ax2.legend(loc='upper right')\n",
    "\n",
    "# rotate the x-axis labels to fit more\n",
    "ax.tick_params(axis='x', rotation=45)  \n",
    "\n",
    "ax.grid(True)\n",
    "\n",
    "# plot\n",
    "fig.tight_layout()\n",
    "plt.show()"
   ]
  },
  {
   "cell_type": "markdown",
   "metadata": {},
   "source": [
    "___\n",
    "## Download Imagery\n",
    "\n",
    "1. Create a function that downloads two scenes and processing elevation data.\n",
    "2. Create a function that setups up a dataframe\n",
    "3. Create dataframe and download data"
   ]
  },
  {
   "cell_type": "code",
   "execution_count": null,
   "metadata": {},
   "outputs": [],
   "source": [
    "# download function\n",
    "def box_download(df):\n",
    "    out_folder = \"data\"\n",
    "    download_zip = os.path.join(out_folder, 'file.zip')\n",
    "    for index, row in df.iterrows():\n",
    "        link = row['link']\n",
    "        unzipped_folder = row['scene_folder']\n",
    "        unzip_path = os.path.join(out_folder, unzipped_folder)\n",
    "\n",
    "        cmd = f\"curl -L -o {download_zip} {link} && unzip {download_zip} -d {out_folder}\"\n",
    "        \n",
    "        if not os.path.exists(unzip_path):\n",
    "            subprocess.run(cmd, shell=True, check=True)\n",
    "            # delete downloaded zip file.\n",
    "            os.remove(download_zip)\n",
    "        else:\n",
    "            print(f'Extracted Files already exist for \"{unzipped_folder}\"')"
   ]
  },
  {
   "cell_type": "code",
   "execution_count": null,
   "metadata": {},
   "outputs": [],
   "source": [
    "# dataframe function\n",
    "def create_scenes_df():\n",
    "    \n",
    "    \"\"\"\n",
    "       SAR Data:\n",
    "        These files were obtained using the ASF Vertex Data Search.\n",
    "        They were submitted for Radio Terrain Correctiom.\n",
    "        radiometry: gamma0\n",
    "        scale: power\n",
    "        pixel spacing: 10m\n",
    "       \n",
    "        Digital Elevation Model processing:\n",
    "         The dem processing folder contains the DEM used for radio-\n",
    "         terrain correction and derivative products used to create \n",
    "         a HAND and water mask.\n",
    "    \"\"\"\n",
    "\n",
    "    box_data = {\n",
    "        'zipfile': ['S1A_IW_20250124T233956_DVP_RTC10_G_gdufem_8285.zip',\n",
    "                    'S1A_IW_20250217T233955_DVP_RTC10_G_gpufem_0598',\n",
    "                    'dem_processing.zip'],\n",
    "        'link': ['https://ky.box.com/shared/static/lchrmjmb5cy1jdtsq5wfp5y3hao5cs0d.zip',\n",
    "                'https://ky.box.com/shared/static/rz15mqljj1m0tcejhu647haey6sfrfkf.zip']\n",
    "            }\n",
    "    scenes_df = pd.DataFrame(data=box_data)\n",
    "\n",
    "    # calculate some fields\n",
    "    scenes_df['scene_folder'] = scenes_df['zipfile'].apply(lambda x: os.path.splitext(x)[0])\n",
    "    if not scenes_df['scene_folder'].eq('dem_processing.zip').any():\n",
    "        scenes_df['input_dem'] = scenes_df['scene_folder'] + '_dem.tif'\n",
    "        scenes_df['rgb'] = scenes_df['scene_folder'] +  '_rgb.png'\n",
    "        scenes_df['vv'] = scenes_df['scene_folder'] + '_vv.tif'\n",
    "        scenes_df['vh'] = scenes_df['scene_folder'] + '_vh.tif'\n",
    "        scenes_df['shapefile'] = scenes_df['scene_folder'] + '_shape.shp'\n",
    "    else:\n",
    "        print(\"dem processing is not a scene\")\n",
    "    return scenes_df"
   ]
  },
  {
   "cell_type": "code",
   "execution_count": 12,
   "metadata": {},
   "outputs": [
    {
     "ename": "ValueError",
     "evalue": "All arrays must be of the same length",
     "output_type": "error",
     "traceback": [
      "\u001b[31m---------------------------------------------------------------------------\u001b[39m",
      "\u001b[31mValueError\u001b[39m                                Traceback (most recent call last)",
      "\u001b[36mCell\u001b[39m\u001b[36m \u001b[39m\u001b[32mIn[12]\u001b[39m\u001b[32m, line 4\u001b[39m\n\u001b[32m      2\u001b[39m \u001b[38;5;28;01mif\u001b[39;00m \u001b[38;5;129;01mnot\u001b[39;00m os.path.exists(\u001b[33m'\u001b[39m\u001b[33mdata\u001b[39m\u001b[33m'\u001b[39m):\n\u001b[32m      3\u001b[39m     os.makedirs(\u001b[33m'\u001b[39m\u001b[33mdata\u001b[39m\u001b[33m'\u001b[39m)\n\u001b[32m----> \u001b[39m\u001b[32m4\u001b[39m scenes_df = \u001b[43mcreate_scenes_df\u001b[49m\u001b[43m(\u001b[49m\u001b[43m)\u001b[49m\n\u001b[32m      5\u001b[39m scenes_df\n",
      "\u001b[36mCell\u001b[39m\u001b[36m \u001b[39m\u001b[32mIn[11]\u001b[39m\u001b[32m, line 24\u001b[39m, in \u001b[36mcreate_scenes_df\u001b[39m\u001b[34m()\u001b[39m\n\u001b[32m      3\u001b[39m \u001b[38;5;250m\u001b[39m\u001b[33;03m\"\"\"\u001b[39;00m\n\u001b[32m      4\u001b[39m \u001b[33;03m   SAR Data:\u001b[39;00m\n\u001b[32m      5\u001b[39m \u001b[33;03m    These files were obtained using the ASF Vertex Data Search.\u001b[39;00m\n\u001b[32m   (...)\u001b[39m\u001b[32m     14\u001b[39m \u001b[33;03m     a HAND and water mask.\u001b[39;00m\n\u001b[32m     15\u001b[39m \u001b[33;03m\"\"\"\u001b[39;00m\n\u001b[32m     17\u001b[39m box_data = {\n\u001b[32m     18\u001b[39m     \u001b[33m'\u001b[39m\u001b[33mzipfile\u001b[39m\u001b[33m'\u001b[39m: [\u001b[33m'\u001b[39m\u001b[33mS1A_IW_20250124T233956_DVP_RTC10_G_gdufem_8285.zip\u001b[39m\u001b[33m'\u001b[39m,\n\u001b[32m     19\u001b[39m                 \u001b[33m'\u001b[39m\u001b[33mS1A_IW_20250217T233955_DVP_RTC10_G_gpufem_0598\u001b[39m\u001b[33m'\u001b[39m,\n\u001b[32m   (...)\u001b[39m\u001b[32m     22\u001b[39m             \u001b[33m'\u001b[39m\u001b[33mhttps://ky.box.com/shared/static/rz15mqljj1m0tcejhu647haey6sfrfkf.zip\u001b[39m\u001b[33m'\u001b[39m]\n\u001b[32m     23\u001b[39m         }\n\u001b[32m---> \u001b[39m\u001b[32m24\u001b[39m scenes_df = \u001b[43mpd\u001b[49m\u001b[43m.\u001b[49m\u001b[43mDataFrame\u001b[49m\u001b[43m(\u001b[49m\u001b[43mdata\u001b[49m\u001b[43m=\u001b[49m\u001b[43mbox_data\u001b[49m\u001b[43m)\u001b[49m\n\u001b[32m     26\u001b[39m \u001b[38;5;66;03m# calculate some fields\u001b[39;00m\n\u001b[32m     27\u001b[39m scenes_df[\u001b[33m'\u001b[39m\u001b[33mscene_folder\u001b[39m\u001b[33m'\u001b[39m] = scenes_df[\u001b[33m'\u001b[39m\u001b[33mzipfile\u001b[39m\u001b[33m'\u001b[39m].apply(\u001b[38;5;28;01mlambda\u001b[39;00m x: os.path.splitext(x)[\u001b[32m0\u001b[39m])\n",
      "\u001b[36mFile \u001b[39m\u001b[32m~/Documents/CodeKy/pathways/data-analysis/codeky-da-capstone/venv/lib/python3.13/site-packages/pandas/core/frame.py:778\u001b[39m, in \u001b[36mDataFrame.__init__\u001b[39m\u001b[34m(self, data, index, columns, dtype, copy)\u001b[39m\n\u001b[32m    772\u001b[39m     mgr = \u001b[38;5;28mself\u001b[39m._init_mgr(\n\u001b[32m    773\u001b[39m         data, axes={\u001b[33m\"\u001b[39m\u001b[33mindex\u001b[39m\u001b[33m\"\u001b[39m: index, \u001b[33m\"\u001b[39m\u001b[33mcolumns\u001b[39m\u001b[33m\"\u001b[39m: columns}, dtype=dtype, copy=copy\n\u001b[32m    774\u001b[39m     )\n\u001b[32m    776\u001b[39m \u001b[38;5;28;01melif\u001b[39;00m \u001b[38;5;28misinstance\u001b[39m(data, \u001b[38;5;28mdict\u001b[39m):\n\u001b[32m    777\u001b[39m     \u001b[38;5;66;03m# GH#38939 de facto copy defaults to False only in non-dict cases\u001b[39;00m\n\u001b[32m--> \u001b[39m\u001b[32m778\u001b[39m     mgr = \u001b[43mdict_to_mgr\u001b[49m\u001b[43m(\u001b[49m\u001b[43mdata\u001b[49m\u001b[43m,\u001b[49m\u001b[43m \u001b[49m\u001b[43mindex\u001b[49m\u001b[43m,\u001b[49m\u001b[43m \u001b[49m\u001b[43mcolumns\u001b[49m\u001b[43m,\u001b[49m\u001b[43m \u001b[49m\u001b[43mdtype\u001b[49m\u001b[43m=\u001b[49m\u001b[43mdtype\u001b[49m\u001b[43m,\u001b[49m\u001b[43m \u001b[49m\u001b[43mcopy\u001b[49m\u001b[43m=\u001b[49m\u001b[43mcopy\u001b[49m\u001b[43m,\u001b[49m\u001b[43m \u001b[49m\u001b[43mtyp\u001b[49m\u001b[43m=\u001b[49m\u001b[43mmanager\u001b[49m\u001b[43m)\u001b[49m\n\u001b[32m    779\u001b[39m \u001b[38;5;28;01melif\u001b[39;00m \u001b[38;5;28misinstance\u001b[39m(data, ma.MaskedArray):\n\u001b[32m    780\u001b[39m     \u001b[38;5;28;01mfrom\u001b[39;00m\u001b[38;5;250m \u001b[39m\u001b[34;01mnumpy\u001b[39;00m\u001b[34;01m.\u001b[39;00m\u001b[34;01mma\u001b[39;00m\u001b[38;5;250m \u001b[39m\u001b[38;5;28;01mimport\u001b[39;00m mrecords\n",
      "\u001b[36mFile \u001b[39m\u001b[32m~/Documents/CodeKy/pathways/data-analysis/codeky-da-capstone/venv/lib/python3.13/site-packages/pandas/core/internals/construction.py:503\u001b[39m, in \u001b[36mdict_to_mgr\u001b[39m\u001b[34m(data, index, columns, dtype, typ, copy)\u001b[39m\n\u001b[32m    499\u001b[39m     \u001b[38;5;28;01melse\u001b[39;00m:\n\u001b[32m    500\u001b[39m         \u001b[38;5;66;03m# dtype check to exclude e.g. range objects, scalars\u001b[39;00m\n\u001b[32m    501\u001b[39m         arrays = [x.copy() \u001b[38;5;28;01mif\u001b[39;00m \u001b[38;5;28mhasattr\u001b[39m(x, \u001b[33m\"\u001b[39m\u001b[33mdtype\u001b[39m\u001b[33m\"\u001b[39m) \u001b[38;5;28;01melse\u001b[39;00m x \u001b[38;5;28;01mfor\u001b[39;00m x \u001b[38;5;129;01min\u001b[39;00m arrays]\n\u001b[32m--> \u001b[39m\u001b[32m503\u001b[39m \u001b[38;5;28;01mreturn\u001b[39;00m \u001b[43marrays_to_mgr\u001b[49m\u001b[43m(\u001b[49m\u001b[43marrays\u001b[49m\u001b[43m,\u001b[49m\u001b[43m \u001b[49m\u001b[43mcolumns\u001b[49m\u001b[43m,\u001b[49m\u001b[43m \u001b[49m\u001b[43mindex\u001b[49m\u001b[43m,\u001b[49m\u001b[43m \u001b[49m\u001b[43mdtype\u001b[49m\u001b[43m=\u001b[49m\u001b[43mdtype\u001b[49m\u001b[43m,\u001b[49m\u001b[43m \u001b[49m\u001b[43mtyp\u001b[49m\u001b[43m=\u001b[49m\u001b[43mtyp\u001b[49m\u001b[43m,\u001b[49m\u001b[43m \u001b[49m\u001b[43mconsolidate\u001b[49m\u001b[43m=\u001b[49m\u001b[43mcopy\u001b[49m\u001b[43m)\u001b[49m\n",
      "\u001b[36mFile \u001b[39m\u001b[32m~/Documents/CodeKy/pathways/data-analysis/codeky-da-capstone/venv/lib/python3.13/site-packages/pandas/core/internals/construction.py:114\u001b[39m, in \u001b[36marrays_to_mgr\u001b[39m\u001b[34m(arrays, columns, index, dtype, verify_integrity, typ, consolidate)\u001b[39m\n\u001b[32m    111\u001b[39m \u001b[38;5;28;01mif\u001b[39;00m verify_integrity:\n\u001b[32m    112\u001b[39m     \u001b[38;5;66;03m# figure out the index, if necessary\u001b[39;00m\n\u001b[32m    113\u001b[39m     \u001b[38;5;28;01mif\u001b[39;00m index \u001b[38;5;129;01mis\u001b[39;00m \u001b[38;5;28;01mNone\u001b[39;00m:\n\u001b[32m--> \u001b[39m\u001b[32m114\u001b[39m         index = \u001b[43m_extract_index\u001b[49m\u001b[43m(\u001b[49m\u001b[43marrays\u001b[49m\u001b[43m)\u001b[49m\n\u001b[32m    115\u001b[39m     \u001b[38;5;28;01melse\u001b[39;00m:\n\u001b[32m    116\u001b[39m         index = ensure_index(index)\n",
      "\u001b[36mFile \u001b[39m\u001b[32m~/Documents/CodeKy/pathways/data-analysis/codeky-da-capstone/venv/lib/python3.13/site-packages/pandas/core/internals/construction.py:677\u001b[39m, in \u001b[36m_extract_index\u001b[39m\u001b[34m(data)\u001b[39m\n\u001b[32m    675\u001b[39m lengths = \u001b[38;5;28mlist\u001b[39m(\u001b[38;5;28mset\u001b[39m(raw_lengths))\n\u001b[32m    676\u001b[39m \u001b[38;5;28;01mif\u001b[39;00m \u001b[38;5;28mlen\u001b[39m(lengths) > \u001b[32m1\u001b[39m:\n\u001b[32m--> \u001b[39m\u001b[32m677\u001b[39m     \u001b[38;5;28;01mraise\u001b[39;00m \u001b[38;5;167;01mValueError\u001b[39;00m(\u001b[33m\"\u001b[39m\u001b[33mAll arrays must be of the same length\u001b[39m\u001b[33m\"\u001b[39m)\n\u001b[32m    679\u001b[39m \u001b[38;5;28;01mif\u001b[39;00m have_dicts:\n\u001b[32m    680\u001b[39m     \u001b[38;5;28;01mraise\u001b[39;00m \u001b[38;5;167;01mValueError\u001b[39;00m(\n\u001b[32m    681\u001b[39m         \u001b[33m\"\u001b[39m\u001b[33mMixing dicts with non-Series may lead to ambiguous ordering.\u001b[39m\u001b[33m\"\u001b[39m\n\u001b[32m    682\u001b[39m     )\n",
      "\u001b[31mValueError\u001b[39m: All arrays must be of the same length"
     ]
    }
   ],
   "source": [
    "# make sure the data folder is present\n",
    "if not os.path.exists('data'):\n",
    "    os.makedirs('data')\n",
    "scenes_df = create_scenes_df()\n",
    "scenes_df"
   ]
  },
  {
   "cell_type": "markdown",
   "metadata": {},
   "source": [
    "Download could take several minutes, depending upon bandwidth.  Zipped up, the scenes are over 10gb in size each.  The dem products folder is ~2.5gb."
   ]
  },
  {
   "cell_type": "code",
   "execution_count": null,
   "metadata": {},
   "outputs": [],
   "source": [
    "# download data from Box\n",
    "box_download(scenes_df)"
   ]
  },
  {
   "cell_type": "code",
   "execution_count": null,
   "metadata": {},
   "outputs": [],
   "source": [
    "base_scene = scenes_df.at[0,'scene_folder']\n",
    "flood_scene = scenes_df.at[1,'scene_folder']\n",
    "dem_folder = scenes_df.at[2, 'scene_folder']\n",
    "print(f'Base Scene Directory:  {base_scene}\\nFlood Scene Directory: {flood_scene}\\nDEM products Directory: {dem_folder}')"
   ]
  },
  {
   "cell_type": "markdown",
   "metadata": {},
   "source": [
    "#### Review the Scene folders\n",
    "\n",
    "The folders contain several files.  Each image (png or tif) has a corresponding metadata (xml) file.  The folder also includes a shapefile (\\*_shape.\\*) and a google kmz which display a geometry on a map.  \n",
    "\n",
    "There is also a **README.md** file in each folder that breaks down how to undertand the file name and what is included in the scene folder.  \n",
    "- Base Scene [README](./base_granule_README.md)\n",
    "- Crisis Scene [README](./crisis_granule_README.md)\n",
    "\n",
    "Let's take a look at some of the files to get an idea of what we're looking at."
   ]
  },
  {
   "cell_type": "code",
   "execution_count": null,
   "metadata": {},
   "outputs": [],
   "source": [
    "# read in base image shapefile\n",
    "base_shapefile = (f'data/{base_scene}/{base_scene}_shape.shp')\n",
    "\n",
    "# read in shapefile to geodataframe\n",
    "gdf_base_shapefile = gpd.read_file(base_shapefile)\n",
    "print(f'source projection: {gdf_base_shapefile.crs}')\n",
    "\n",
    "# redefine the projection to work with the map\n",
    "gdf_base_shapefile = gdf_base_shapefile.to_crs('EPSG:4326')\n",
    "print(f'redefined projection: {gdf_base_shapefile.crs}')"
   ]
  },
  {
   "cell_type": "code",
   "execution_count": null,
   "metadata": {},
   "outputs": [],
   "source": [
    "# read in geodataframe to a ipyleaflet GeoData\n",
    "base_geo_data = GeoData(geo_dataframe = gdf_base_shapefile,\n",
    "                   style={'color': 'black', 'fillColor': '#3366cc', 'opacity':0.1, 'weight':1.9, 'dashArray':'2', 'fillOpacity':0.6},\n",
    "                   hover_style={'fillColor': 'red' , 'fillOpacity': 0.2},\n",
    "                   name = 'base Geometry')"
   ]
  },
  {
   "cell_type": "code",
   "execution_count": null,
   "metadata": {},
   "outputs": [],
   "source": [
    "m = Map(\n",
    "    basemap=basemap_to_tiles(basemaps.CartoDB.Positron),\n",
    "    center=(38, -85.5),\n",
    "    zoom=7.3\n",
    ")\n",
    "m.add(base_geo_data)\n",
    "# m.add(LayersContol())\n",
    "m"
   ]
  },
  {
   "cell_type": "code",
   "execution_count": null,
   "metadata": {},
   "outputs": [],
   "source": [
    "# display RGB Composite File\n",
    "rgb_png =  os.path.join('data', flood_scene, f'{flood_scene}_rgb.png')\n",
    "print(rgb_png)\n",
    "file = open(rgb_png, \"rb\")\n",
    "image = file.read()\n",
    "image_widget = widgets.Image(\n",
    "    value=image,\n",
    "    format='png',\n",
    "    width=300,\n",
    "    height=400,\n",
    ")\n",
    "print(\"Note how we can see the Ohio River starting near the uppermost right corner,\\nextending to middle on the left.  This is the derived RGB image.  It will\\nnot be used for analysis.\")\n",
    "display(image_widget)"
   ]
  },
  {
   "cell_type": "markdown",
   "metadata": {},
   "source": [
    "___\n",
    "## Flood Mapping\n",
    "\n",
    "Due to time constraints (i.e, processing imagery takes time), some processes like the Height Above Natural Drainage *HAND*, clipping clipping the Digital Elevation Model *DEM* to the scene extent, and create a water extent map were creating using raster calulation functions in ArcGIS Pro and QGIS. I also downloaded [SNAP](https://step.esa.int/main/download/snap-download/) and ran through a couple tutorials on how to process less processed data.\n",
    "\n",
    " In addition, some issues arose with the scenes themselves because of how I used the Vertex OnDemand Processing.  To not get too into the details, this had to do with transforming the raster scale from power to decibel.  I ordered decibel, which is what the final calculations call for, but the HydroSAR module expects power and peforms those transformations in its water map raster creation.  I was able to calculate the values to create the water extent in QGIS. This file [water_extent.tif](data/dem_processing/water_extent.tif) was placed in the dem processing folder and used in the *make_flood_map()* function."
   ]
  },
  {
   "cell_type": "markdown",
   "metadata": {},
   "source": [
    "Set up flood processing\n",
    "- variables\n",
    "- create water raster\n",
    "- create flood map"
   ]
  },
  {
   "cell_type": "code",
   "execution_count": null,
   "metadata": {},
   "outputs": [],
   "source": [
    "# make sure we have somewhere to park the processed data\n",
    "flood_processing = 'data/crisis_scene_processing'\n",
    "if not os.path.exists(flood_processing):\n",
    "    os.makedirs(flood_processing)\n",
    "\n",
    "scene_folder = os.path.join('data', flood_scene)\n",
    "dem_processing = 'data/dem_processing'\n",
    "\n",
    "# flood map variables\n",
    "flood_raster = os.path.join(scene_processing, 'flood_map.tif')\n",
    "vv_raster = os.path.join(scene_folder, scene_df['vv'][1])\n",
    "water_extent_raster = os.path.join(dem_processing, 'water_extent.tif')\n",
    "hand_raster = f'{dem_processing}/hand.tif'\n",
    "hand_clipped = os.path.join(dem_processing, 'hand_clip.tif')"
   ]
  },
  {
   "cell_type": "markdown",
   "metadata": {},
   "source": [
    "---\n",
    "Flood map function, took nearly 15 minutes on my Mac Studio"
   ]
  },
  {
   "cell_type": "code",
   "execution_count": null,
   "metadata": {},
   "outputs": [],
   "source": [
    "# run make_flood_map function\n",
    "if not os.path.exist(flood_raster)\n",
    "make_flood_map(\n",
    "    flood_raster,\n",
    "    vv_raster,\n",
    "    water_extent_raster,\n",
    "    hand_raster\n",
    ")"
   ]
  }
 ],
 "metadata": {
  "kernelspec": {
   "display_name": "venv",
   "language": "python",
   "name": "python3"
  },
  "language_info": {
   "codemirror_mode": {
    "name": "ipython",
    "version": 3
   },
   "file_extension": ".py",
   "mimetype": "text/x-python",
   "name": "python",
   "nbconvert_exporter": "python",
   "pygments_lexer": "ipython3",
   "version": "3.13.2"
  }
 },
 "nbformat": 4,
 "nbformat_minor": 4
}
